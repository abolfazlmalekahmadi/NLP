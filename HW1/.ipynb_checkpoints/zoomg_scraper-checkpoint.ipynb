{
 "cells": [
  {
   "cell_type": "markdown",
   "metadata": {},
   "source": [
    "### <div dir=\"rtl\"> ایمپورت پکیج‌های مورد نیاز </div>"
   ]
  },
  {
   "cell_type": "code",
   "execution_count": 1,
   "metadata": {},
   "outputs": [],
   "source": [
    "import os\n",
    "import datetime\n",
    "\n",
    "import requests\n",
    "from bs4 import BeautifulSoup\n",
    "import pandas as pd"
   ]
  },
  {
   "cell_type": "markdown",
   "metadata": {},
   "source": [
    "### <div dir=\"rtl\"> تعریف کلاس‌ها </div>"
   ]
  },
  {
   "cell_type": "markdown",
   "metadata": {},
   "source": [
    "<div dir=\"rtl\"> کلاس Zoomg شامل دو attribute اصلی به نام‌های main_url و review_urls می‌باشد. </div>\n",
    "<div dir=\"rtl\"> آدرس اصلی سایت (قسمت نقد و بررسی فیلم‌ها و سریال‌ها) در main_url هنگام ساخت آبجکت ذخیره می‌شود. </div>\n",
    "<div dir=\"rtl\"> سپس از طریق تابع fine_review_urls آدرس صفحات ۲۰۰ مقاله از سایت در review_urls ذخیره می‌گردد. </div>"
   ]
  },
  {
   "cell_type": "code",
   "execution_count": 2,
   "metadata": {},
   "outputs": [],
   "source": [
    "class Zoomg:\n",
    "\n",
    "    def __init__(self, n_pages=10):\n",
    "        self.name = \"Zoomg\"\n",
    "        self.main_url = \"https://www.zoomg.ir/movie-tv-show-review/\"\n",
    "        self.n_pages = n_pages\n",
    "        self.review_urls = []\n",
    "        return\n",
    "\n",
    "    def find_review_urls(self):\n",
    "        for page_number in range(1, self.n_pages+1):\n",
    "            url = self.main_url if page_number == 1 else self.main_url + f\"page/{page_number}/\"\n",
    "            web_page = requests.get(url)\n",
    "            soup = BeautifulSoup(web_page.content, \"html.parser\")\n",
    "            main_section = soup.find(\"div\", {\"class\": \"col-md-7 col-sm-12 col-xs-12 centerLayout\"})\n",
    "            for section in main_section.find_all(\"div\", {\"class\": [\"boxWrapper latestArticles fullwithImage js-topic-row\",\n",
    "                                                                  \"boxWrapper latestArticles js-topic-row\"]}):\n",
    "                self.review_urls.append(section.find(\"h3\").find(\"a\")[\"href\"])\n",
    "        return"
   ]
  },
  {
   "cell_type": "markdown",
   "metadata": {},
   "source": [
    "<div dir=\"rtl\"> کلاس ZoomgReview دارای سه attribure اصلی با نام‌های url و description و body می‌باشد. </div>\n",
    "<div dir=\"rtl\"> آدرس یک مقاله از سایت در url ذخیره می‌شود. </div>\n",
    "<div dir=\"rtl\"> سپس به کمک ماژول BeautifulSoup محتوای مقاله شامل description و body به دست می‌آیند. </div>"
   ]
  },
  {
   "cell_type": "code",
   "execution_count": 3,
   "metadata": {},
   "outputs": [],
   "source": [
    "class ZoomgReview:\n",
    "    \n",
    "    def __init__(self, url):\n",
    "        self.url = url\n",
    "        self.web_page = requests.get(self.url)\n",
    "        self.soup = BeautifulSoup(self.web_page.content, \"html.parser\")\n",
    "        self.description = self.get_description()\n",
    "        self.body = self.get_body()\n",
    "        self.full_text = self.description + self.body\n",
    "        return\n",
    "            \n",
    "    def get_description(self):\n",
    "        return self.soup.find(\"div\", {\"class\": \"article-summery\"}).find(\"p\").getText()\n",
    "    \n",
    "    def get_body(self):\n",
    "        return self.soup.find(\"div\", {\"class\": \"article-section\"}).getText()"
   ]
  },
  {
   "cell_type": "code",
   "execution_count": 4,
   "metadata": {},
   "outputs": [],
   "source": [
    "zoomg = Zoomg(n_pages=10)\n",
    "zoomg.find_review_urls()"
   ]
  },
  {
   "cell_type": "code",
   "execution_count": 5,
   "metadata": {},
   "outputs": [
    {
     "name": "stdout",
     "output_type": "stream",
     "text": [
      "1 https://www.zoomg.ir/movie-tv-show-review/347394-cyberpunk-edgerunners-review/\n",
      "2 https://www.zoomg.ir/movie-tv-show-review/347393-gods-creatures-movie-review/\n",
      "3 https://www.zoomg.ir/movie-tv-show-review/347353-house-of-the-dragon-season-1-episode-10-review/\n",
      "4 https://www.zoomg.ir/movie-tv-show-review/347330-a-love-song-film-review/\n",
      "5 https://www.zoomg.ir/movie-tv-show-review/347221-the-paloni-show-halloween-special-review/\n",
      "6 https://www.zoomg.ir/movie-tv-show-review/347227-straw-dogs-film-review/\n",
      "7 https://www.zoomg.ir/movie-tv-show-review/347089-she-hulk-attorney-at-law-season-1-reveiw/\n",
      "8 https://www.zoomg.ir/movie-tv-show-review/347100-lotr-rings-of-power-alloyed-episode-review/\n",
      "9 https://www.zoomg.ir/movie-tv-show-review/347199-house-of-the-dragon-season-1-episode-9-review/\n",
      "10 https://www.zoomg.ir/movie-tv-show-review/347134-bodies-bodies-bodies-movie-review/\n",
      "11 https://www.zoomg.ir/movie-tv-show-review/347141-speak-no-evil-movie-review/\n",
      "12 https://www.zoomg.ir/movie-tv-show-review/347097-aftersun-movie-review/\n",
      "13 https://www.zoomg.ir/movie-tv-show-review/347059-werewolf-by-night-movie-review/\n",
      "14 https://www.zoomg.ir/movie-tv-show-review/346907-entergalactic-animation-review/\n",
      "15 https://www.zoomg.ir/movie-tv-show-review/347075-house-of-the-dragon-season-1-episode-8-review/\n",
      "16 https://www.zoomg.ir/movie-tv-show-review/347029-luckiest-girl-alive-review/\n",
      "17 https://www.zoomg.ir/movie-tv-show-review/347028-dc-league-of-super-pets-review/\n",
      "18 https://www.zoomg.ir/movie-tv-show-review/347013-lotr-rings-of-power-theeye-episode-review/\n",
      "19 https://www.zoomg.ir/movie-tv-show-review/346982-bullet-train-film-review/\n",
      "20 https://www.zoomg.ir/movie-tv-show-review/346919-house-of-the-dragon-season-1-episode-7-review/\n",
      "21 https://www.zoomg.ir/movie-tv-show-review/346926-monroe-movie-review/\n",
      "22 https://www.zoomg.ir/movie-tv-show-review/346864-reservation-dogs-season-2-reveiw/\n",
      "23 https://www.zoomg.ir/movie-tv-show-review/346819-lotr-rings-of-power-partings-udun-episodes-review/\n",
      "24 https://www.zoomg.ir/movie-tv-show-review/346815-house-of-the-dragon-season-1-episode-6-review/\n",
      "25 https://www.zoomg.ir/movie-tv-show-review/346793-a-jazzmans-blues-review/\n",
      "26 https://www.zoomg.ir/movie-tv-show-review/346771-emily-the-criminal-movie-review/\n",
      "27 https://www.zoomg.ir/movie-tv-show-review/346660-three-thousand-years-of-longing-review/\n",
      "28 https://www.zoomg.ir/movie-tv-show-review/346572-moloch-movie-review/\n",
      "29 https://www.zoomg.ir/movie-tv-show-review/346666-house-of-the-dragon-season-1-episode-5-review/\n",
      "30 https://www.zoomg.ir/movie-tv-show-review/346527-not-okay-movie-review/\n",
      "31 https://www.zoomg.ir/movie-tv-show-review/346579-orphan-first-kill-movie-review/\n",
      "32 https://www.zoomg.ir/movie-tv-show-review/346564-decision-to-leave-review/\n",
      "33 https://www.zoomg.ir/movie-tv-show-review/346446-where-the-crawdads-sing-movie-review/\n",
      "34 https://www.zoomg.ir/movie-tv-show-review/346513-lotr-rings-of-power-thegreatwave-episode-review/\n",
      "35 https://www.zoomg.ir/movie-tv-show-review/346299-i-came-by-movie-review/\n",
      "36 https://www.zoomg.ir/movie-tv-show-review/346496-pinocchio-2022-movie-review/\n",
      "37 https://www.zoomg.ir/movie-tv-show-review/346497-house-of-the-dragon-season-1-episode-4-review/\n",
      "38 https://www.zoomg.ir/movie-tv-show-review/346333-thor-love-and-thunder-review/\n",
      "39 https://www.zoomg.ir/movie-tv-show-review/346381-lotr-rings-of-power-adar-episode-review/\n",
      "40 https://www.zoomg.ir/movie-tv-show-review/346321-were-all-going-to-the-worlds-fair-movie-review/\n",
      "41 https://www.zoomg.ir/movie-tv-show-review/346261-thirteen-lives-movie-review/\n",
      "42 https://www.zoomg.ir/movie-tv-show-review/346240-nope-movie-review/\n",
      "43 https://www.zoomg.ir/movie-tv-show-review/346301-house-of-the-dragon-season-1-episode-3-review/\n",
      "44 https://www.zoomg.ir/movie-tv-show-review/346262-obi-wan-kenobi-tv-series-review/\n",
      "45 https://www.zoomg.ir/movie-tv-show-review/345992-look-both-ways-movie-review/\n",
      "46 https://www.zoomg.ir/movie-tv-show-review/346128-samaritan-movie-review/\n",
      "47 https://www.zoomg.ir/movie-tv-show-review/346147-lotr-rings-of-power-first-episodes-review/\n",
      "48 https://www.zoomg.ir/movie-tv-show-review/345980-house-of-the-dragon-season-1-episode-1-and-2-review/\n",
      "49 https://www.zoomg.ir/movie-tv-show-review/345704-the-north-water-tv-series-review/\n",
      "50 https://www.zoomg.ir/movie-tv-show-review/346008-dozist-film-review/\n",
      "51 https://www.zoomg.ir/movie-tv-show-review/345933-only-murders-in-the-building-season-2-review/\n",
      "52 https://www.zoomg.ir/cinema-articles/345797-the-best-spanish-movies-of-all-time/\n",
      "53 https://www.zoomg.ir/movie-tv-show-review/345721-locke-and-key-season-3-review/\n",
      "54 https://www.zoomg.ir/movie-tv-show-review/345953-top-gun-maverick-review/\n",
      "55 https://www.zoomg.ir/movie-tv-show-review/345837-better-call-saul-season-6-episode-13-review/\n",
      "56 https://www.zoomg.ir/movie-tv-show-review/345738-collide-movie-review/\n",
      "57 https://www.zoomg.ir/movie-tv-show-review/345759-the-black-phone-movie-review/\n",
      "58 https://www.zoomg.ir/movie-tv-show-review/345656-paws-of-fury-the-legend-of-hank-review/\n",
      "59 https://www.zoomg.ir/movie-tv-show-review/345661-watcher-movie-review/\n",
      "60 https://www.zoomg.ir/movie-tv-show-review/345675-luck-animation-review/\n",
      "61 https://www.zoomg.ir/movie-tv-show-review/345646-prey-movie-review/\n",
      "62 https://www.zoomg.ir/movie-tv-show-review/345642-better-call-saul-season-6-episode-12-review/\n",
      "63 https://www.zoomg.ir/movie-tv-show-review/345598-elvis-movie-review/\n",
      "64 https://www.zoomg.ir/movie-tv-show-review/345530-minions-the-rise-of-gru-review/\n",
      "65 https://www.zoomg.ir/movie-tv-show-review/345561-resurrection-movie-review/\n",
      "66 https://www.zoomg.ir/movie-tv-show-review/345507-prizefighter-the-life-of-jem-belcher-movie-review/\n",
      "67 https://www.zoomg.ir/movie-tv-show-review/345474-paradise-highway-review/\n",
      "68 https://www.zoomg.ir/movie-tv-show-review/345490-better-call-saul-season-6-episode-11-review/\n",
      "69 https://www.zoomg.ir/movie-tv-show-review/345225-code-name-banshee-movie-review/\n",
      "70 https://www.zoomg.ir/movie-tv-show-review/345297-the-gray-man-movie-review/\n",
      "71 https://www.zoomg.ir/movie-tv-show-review/345323-zalava-film-review/\n",
      "72 https://www.zoomg.ir/movie-tv-show-review/345365-jurassic-world-dominion-movie-review/\n",
      "73 https://www.zoomg.ir/movie-tv-show-review/345350-better-call-saul-season-6-episode-10-review/\n",
      "74 https://www.zoomg.ir/movie-tv-show-review/345321-lightyear-review/\n",
      "75 https://www.zoomg.ir/movie-tv-show-review/345205-dont-make-me-go-review/\n",
      "76 https://www.zoomg.ir/movie-tv-show-review/345155-brian-and-charles-movie-review/\n",
      "77 https://www.zoomg.ir/movie-tv-show-review/345181-the-worlds-finest-assassin-anime-review/\n",
      "78 https://www.zoomg.ir/movie-tv-show-review/345062-the-man-from-toronto-movie-review/\n",
      "79 https://www.zoomg.ir/movie-tv-show-review/345168-better-call-saul-season-6-episode-9-review/\n",
      "80 https://www.zoomg.ir/movie-tv-show-review/345201-yaghi-serial-review/\n",
      "81 https://www.zoomg.ir/movie-tv-show-review/345092-ms-marvel-season-1-review/\n",
      "82 https://www.zoomg.ir/movie-tv-show-review/344946-the-terminal-list-tv-series-review/\n",
      "83 https://www.zoomg.ir/movie-tv-show-review/345025-better-call-saul-season-6-episode-8-review/\n",
      "84 https://www.zoomg.ir/movie-tv-show-review/344989-rocco-and-his-brothers-movie-review/\n",
      "85 https://www.zoomg.ir/movie-tv-show-review/344793-the-innocents-movie-review/\n",
      "86 https://www.zoomg.ir/movie-tv-show-review/344932-the-sea-beast-animation-review/\n",
      "87 https://www.zoomg.ir/movie-tv-show-review/344913-mad-god-movie-review/\n",
      "88 https://www.zoomg.ir/movie-tv-show-review/344891-bonemarrow-film-review/\n",
      "89 https://www.zoomg.ir/movie-tv-show-review/344818-crimes-of-the-future-movie-review/\n",
      "90 https://www.zoomg.ir/movie-tv-show-review/344729-you-wont-be-alone-movie-review/\n",
      "91 https://www.zoomg.ir/movie-tv-show-review/344719-shut-in-movie-review/\n",
      "92 https://www.zoomg.ir/movie-tv-show-review/344543-barry-season-3-review/\n",
      "93 https://www.zoomg.ir/movie-tv-show-review/344726-no-exit-movie-review/\n",
      "94 https://www.zoomg.ir/movie-tv-show-review/344674-the-umbrella-academy-season-3-review/\n",
      "95 https://www.zoomg.ir/movie-tv-show-review/344670-money-heist-korea-joint-economic-serie-review/\n",
      "96 https://www.zoomg.ir/movie-tv-show-review/344612-the-lost-girls-movie-review/\n",
      "97 https://www.zoomg.ir/movie-tv-show-review/344573-peaky-blinders-season-6-review/\n"
     ]
    },
    {
     "name": "stdout",
     "output_type": "stream",
     "text": [
      "98 https://www.zoomg.ir/movie-tv-show-review/344624-doctor-strange-in-the-multiverse-of-madness-review/\n",
      "99 https://www.zoomg.ir/movie-tv-show-review/344538-spiderhead-movie-review/\n",
      "100 https://www.zoomg.ir/movie-tv-show-review/344405-hustle-movie-review/\n",
      "101 https://www.zoomg.ir/movie-tv-show-review/344489-hatching-movie-review/\n",
      "102 https://www.zoomg.ir/movie-tv-show-review/344320-station-eleven-tv-show-review/\n",
      "103 https://www.zoomg.ir/movie-tv-show-review/344303-last-seen-alive-movie-review/\n",
      "104 https://www.zoomg.ir/movie-tv-show-review/344377-under-the-banner-of-heaven-review/\n",
      "105 https://www.zoomg.ir/movie-tv-show-review/344211-the-unbearable-weight-of-massive-talent-movie-review/\n",
      "106 https://www.zoomg.ir/movie-tv-show-review/344134-father-stu-movie-review/\n",
      "107 https://www.zoomg.ir/movie-tv-show-review/344106-the-loser-man-film-review/\n",
      "108 https://www.zoomg.ir/movie-tv-show-review/344085-memory-movie-review/\n",
      "109 https://www.zoomg.ir/movie-tv-show-review/343955-outer-range-serie-review/\n",
      "110 https://www.zoomg.ir/movie-tv-show-review/343980-better-call-saul-season-6-episode-7-review/\n",
      "111 https://www.zoomg.ir/movie-tv-show-review/343956-stranger-things-s4-vol1-review/\n",
      "112 https://www.zoomg.ir/movie-tv-show-review/343826-everything-everywhere-all-at-once-movie-review/\n",
      "113 https://www.zoomg.ir/movie-tv-show-review/343880-chip-n-dale-rescue-rangers-movie-review/\n",
      "114 https://www.zoomg.ir/movie-tv-show-review/343794-the-twin-movie-review/\n",
      "115 https://www.zoomg.ir/movie-tv-show-review/343789-morbius-review/\n",
      "116 https://www.zoomg.ir/movie-tv-show-review/343712-the-lost-city-movie-review/\n",
      "117 https://www.zoomg.ir/movie-tv-show-review/343795-halo-tv-series-season-1-review/\n",
      "118 https://www.zoomg.ir/movie-tv-show-review/343766-better-call-saul-season-6-episode-6-review/\n",
      "119 https://www.zoomg.ir/movie-tv-show-review/343725-the-northman-movie-review/\n",
      "120 https://www.zoomg.ir/movie-tv-show-review/343533-bubble-anime-review/\n",
      "121 https://www.zoomg.ir/movie-tv-show-review/343568-hilda-and-the-mountain-king-animated-review/\n",
      "122 https://www.zoomg.ir/movie-tv-show-review/343531-the-bad-guys-animation-review/\n",
      "123 https://www.zoomg.ir/movie-tv-show-review/343598-better-call-saul-season-6-episode-5-review/\n",
      "124 https://www.zoomg.ir/movie-tv-show-review/343606-la-minor-film-review/\n",
      "125 https://www.zoomg.ir/movie-tv-show-review/343510-choose-or-die-movie-review/\n",
      "126 https://www.zoomg.ir/movie-tv-show-review/343072-attack-on-titan-s4-e17to28-review/\n",
      "127 https://www.zoomg.ir/movie-tv-show-review/343473-moon-knight-tv-series-review/\n",
      "128 https://www.zoomg.ir/cinema-articles/343392-saeid-roostaei-films-review/\n",
      "129 https://www.zoomg.ir/movie-tv-show-review/343445-better-call-saul-season-6-episode-4-review/\n",
      "130 https://www.zoomg.ir/movie-tv-show-review/343429-sonic-the-hedgehog-2-movie-review/\n",
      "131 https://www.zoomg.ir/movie-tv-show-review/343353-9-bullets-movie-review/\n",
      "132 https://www.zoomg.ir/movie-tv-show-review/343229-the-great-season-2-review/\n",
      "133 https://www.zoomg.ir/movie-tv-show-review/343325-better-call-saul-season-6-episode-3/\n",
      "134 https://www.zoomg.ir/movie-tv-show-review/343198-ambulance-movie-review/\n",
      "135 https://www.zoomg.ir/movie-tv-show-review/343045-parallel-mothers-movie-review/\n",
      "136 https://www.zoomg.ir/movie-tv-show-review/343196-uncharted-movie-review/\n",
      "137 https://www.zoomg.ir/cinema-articles/343176-lilys-turn-serie-review/\n",
      "138 https://www.zoomg.ir/movie-tv-show-review/343094-the-batman-review/\n",
      "139 https://www.zoomg.ir/movie-tv-show-review/343029-infinite-storm-movie-review/\n",
      "140 https://www.zoomg.ir/movie-tv-show-review/343127-better-call-saul-season-6-episode-1-and-2/\n",
      "141 https://www.zoomg.ir/movie-tv-show-review/342944-the-outfit-movie-review/\n",
      "142 https://www.zoomg.ir/movie-tv-show-review/342966-the-contractor-movie-reveiw/\n",
      "143 https://www.zoomg.ir/movie-tv-show-review/342936-introducing-inventing-anna/\n",
      "144 https://www.zoomg.ir/movie-tv-show-review/342947-all-my-friends-hate-me-movie-review/\n",
      "145 https://www.zoomg.ir/movie-tv-show-review/342915-deep-water-movie-review/\n",
      "146 https://www.zoomg.ir/movie-tv-show-review/342871-flee-animation-review/\n",
      "147 https://www.zoomg.ir/movie-tv-show-review/342889-you-are-not-my-mother-movie-review/\n",
      "148 https://www.zoomg.ir/movie-tv-show-review/342890-moonfall-movie-review/\n",
      "149 https://www.zoomg.ir/movie-tv-show-review/342913-apollo-space-age-childhood-review/\n",
      "150 https://www.zoomg.ir/movie-tv-show-review/342816-what-we-do-in-the-shadows-season3-tv-series-review/\n",
      "151 https://www.zoomg.ir/cinema-articles/342584-best-iranian-movies-1400/\n",
      "152 https://www.zoomg.ir/movie-tv-show-review/342645-windfall-movie-review/\n",
      "153 https://www.zoomg.ir/movie-tv-show-review/342749-death-on-the-nile-movie-review/\n",
      "154 https://www.zoomg.ir/movie-tv-show-review/342805-pinocchio-a-true-story-review/\n",
      "155 https://www.zoomg.ir/movie-tv-show-review/342665-west-side-story-movie-review/\n",
      "156 https://www.zoomg.ir/movie-tv-show-review/342690-the-vigil-movie-review/\n",
      "157 https://www.zoomg.ir/movie-tv-show-review/342649-ted-lasso-season2-tv-series-review/\n",
      "158 https://www.zoomg.ir/movie-tv-show-review/342601-black-crab-movie-review/\n",
      "159 https://www.zoomg.ir/movie-tv-show-review/342566-lux-terna-film-review/\n",
      "160 https://www.zoomg.ir/movie-tv-show-review/342546-after-yang-movie-review/\n",
      "161 https://www.zoomg.ir/movie-tv-show-review/342477-the-adam-project-movie-review/\n",
      "162 https://www.zoomg.ir/movie-tv-show-review/342500-pixar-turning-red-animation-review/\n",
      "163 https://www.zoomg.ir/movie-tv-show-review/342499-dog-movie-review/\n",
      "164 https://www.zoomg.ir/movie-tv-show-review/342411-against-the-ice-movie-review/\n",
      "165 https://www.zoomg.ir/movie-tv-show-review/342397-scream-movie-review/\n",
      "166 https://www.zoomg.ir/movie-tv-show-review/342399-chris-hamsworth-filmography/\n",
      "167 https://www.zoomg.ir/movie-tv-show-review/342417-spider-man-no-way-home-movie-review/\n",
      "168 https://www.zoomg.ir/movie-tv-show-review/342398-texas-chainsaw-massacre-movie-review/\n",
      "169 https://www.zoomg.ir/movie-tv-show-review/342343-the-kings-man-review/\n",
      "170 https://www.zoomg.ir/movie-tv-show-review/342063-rick-and-morty-season-5-episode-6-to-10-review/\n",
      "171 https://www.zoomg.ir/movie-tv-show-review/342296-the-lost-daughter-movie-review/\n",
      "172 https://www.zoomg.ir/movie-tv-show-review/342344-the-desperate-hour-movie-review/\n",
      "173 https://www.zoomg.ir/movie-tv-show-review/342255-fresh-movie-reveiw/\n",
      "174 https://www.zoomg.ir/movie-tv-show-review/342275-memoria-film-review/\n",
      "175 https://www.zoomg.ir/movie-tv-show-review/342224-the-good-boss-movie-review/\n",
      "176 https://www.zoomg.ir/movie-tv-show-review/342121-best-seller-miniseries-review/\n",
      "177 https://www.zoomg.ir/movie-tv-show-review/342150-the-worst-person-in-the-world-movie-review/\n",
      "178 https://www.zoomg.ir/movie-tv-show-review/342186-marry-me-movie-review/\n",
      "179 https://www.zoomg.ir/cinema-articles/342176-careless-crime-film-review/\n",
      "180 https://www.zoomg.ir/movie-tv-show-review/342073-the-souvenir-part-ii-film-review/\n",
      "181 https://www.zoomg.ir/movie-tv-show-review/341870-the-book-of-boba-fett-review/\n",
      "182 https://www.zoomg.ir/movie-tv-show-review/342025-ted-k-movie-review/\n",
      "183 https://www.zoomg.ir/movie-tv-show-review/342018-reacher-tv-series-s1-review/\n",
      "184 https://www.zoomg.ir/movie-tv-show-review/341888-house-of-gucci-movie-review/\n",
      "185 https://www.zoomg.ir/movie-tv-show-review/341919-home-team-movie-review/\n",
      "186 https://www.zoomg.ir/cinema-articles/341819-margot-robbie-best-movies/\n",
      "187 https://www.zoomg.ir/movie-tv-show-review/341869-situation-of-mehdi-film-review/\n",
      "188 https://www.zoomg.ir/movie-tv-show-review/341713-the-deep-house-movie-review/\n",
      "189 https://www.zoomg.ir/movie-tv-show-review/341768-all-of-us-are-dead-review/\n",
      "190 https://www.zoomg.ir/movie-tv-show-review/341748-bi-madar-movie-review/\n",
      "191 https://www.zoomg.ir/movie-tv-show-review/341726-lamb-movie-review/\n",
      "192 https://www.zoomg.ir/movie-tv-show-review/341715-killing-a-traitor-movie-review/\n",
      "193 https://www.zoomg.ir/movie-tv-show-review/341717-the-night-gaurdian-movie-review/\n",
      "194 https://www.zoomg.ir/movie-tv-show-review/341666-shadravan-movie-review/\n",
      "195 https://www.zoomg.ir/movie-tv-show-review/341602-nightmare-alley-movie-review/\n",
      "196 https://www.zoomg.ir/movie-tv-show-review/341633-dasteh-dokhtaran-movie-review/\n"
     ]
    },
    {
     "name": "stdout",
     "output_type": "stream",
     "text": [
      "197 https://www.zoomg.ir/movie-tv-show-review/341649-a-private-meeting-movie-review/\n",
      "198 https://www.zoomg.ir/movie-tv-show-review/341558-bi-roya-movie-review/\n",
      "199 https://www.zoomg.ir/movie-tv-show-review/341559-ice-age-6-animated-review/\n",
      "200 https://www.zoomg.ir/movie-tv-show-review/341498-the-tenderbar-movie-review/\n"
     ]
    }
   ],
   "source": [
    "review_list = []\n",
    "for index, review_url in enumerate(zoomg.review_urls):\n",
    "    print(index+1, review_url)\n",
    "    zoomg_review = ZoomgReview(url=review_url)\n",
    "    review_list.append(zoomg_review)"
   ]
  },
  {
   "cell_type": "code",
   "execution_count": 6,
   "metadata": {},
   "outputs": [
    {
     "name": "stdout",
     "output_type": "stream",
     "text": [
      "2636579\n"
     ]
    }
   ],
   "source": [
    "all_reviews = \"\"\n",
    "for review in review_list:\n",
    "    all_reviews += review.full_text + \"\\n\"\n",
    "print(len(all_reviews))"
   ]
  },
  {
   "cell_type": "code",
   "execution_count": 7,
   "metadata": {},
   "outputs": [],
   "source": [
    "reviews_file = open(\"reviews.txt\", \"w\")\n",
    "reviews_file.write(all_reviews)\n",
    "reviews_file.close()"
   ]
  },
  {
   "cell_type": "code",
   "execution_count": 8,
   "metadata": {},
   "outputs": [],
   "source": [
    "review_df = pd.DataFrame(data={\"url\": [review.url for review in review_list], \"text\": [review.full_text for review in review_list]})\n",
    "review_df.to_csv(\"reviews.csv\", index=False)"
   ]
  }
 ],
 "metadata": {
  "kernelspec": {
   "display_name": "Python 3 (ipykernel)",
   "language": "python",
   "name": "python3"
  },
  "language_info": {
   "codemirror_mode": {
    "name": "ipython",
    "version": 3
   },
   "file_extension": ".py",
   "mimetype": "text/x-python",
   "name": "python",
   "nbconvert_exporter": "python",
   "pygments_lexer": "ipython3",
   "version": "3.9.13"
  }
 },
 "nbformat": 4,
 "nbformat_minor": 4
}
