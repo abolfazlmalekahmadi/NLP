{
  "cells": [
    {
      "cell_type": "code",
      "execution_count": 1,
      "metadata": {
        "colab": {
          "base_uri": "https://localhost:8080/"
        },
        "id": "SHzNvMwAil5X",
        "outputId": "b3954d1c-5cb5-48fd-fd4c-8a549a9080ad"
      },
      "outputs": [
        {
          "output_type": "stream",
          "name": "stdout",
          "text": [
            "Requirement already satisfied: hazm in /usr/local/lib/python3.10/dist-packages (0.9.1)\n",
            "Requirement already satisfied: gensim<5.0.0,>=4.3.1 in /usr/local/lib/python3.10/dist-packages (from hazm) (4.3.1)\n",
            "Requirement already satisfied: nltk<4.0.0,>=3.8.1 in /usr/local/lib/python3.10/dist-packages (from hazm) (3.8.1)\n",
            "Requirement already satisfied: numpy<2.0.0,>=1.24.3 in /usr/local/lib/python3.10/dist-packages (from hazm) (1.25.0)\n",
            "Requirement already satisfied: python-crfsuite<0.10.0,>=0.9.9 in /usr/local/lib/python3.10/dist-packages (from hazm) (0.9.9)\n",
            "Requirement already satisfied: scikit-learn<2.0.0,>=1.2.2 in /usr/local/lib/python3.10/dist-packages (from hazm) (1.2.2)\n",
            "Requirement already satisfied: scipy>=1.7.0 in /usr/local/lib/python3.10/dist-packages (from gensim<5.0.0,>=4.3.1->hazm) (1.10.1)\n",
            "Requirement already satisfied: smart-open>=1.8.1 in /usr/local/lib/python3.10/dist-packages (from gensim<5.0.0,>=4.3.1->hazm) (6.3.0)\n",
            "Requirement already satisfied: click in /usr/local/lib/python3.10/dist-packages (from nltk<4.0.0,>=3.8.1->hazm) (8.1.3)\n",
            "Requirement already satisfied: joblib in /usr/local/lib/python3.10/dist-packages (from nltk<4.0.0,>=3.8.1->hazm) (1.2.0)\n",
            "Requirement already satisfied: regex>=2021.8.3 in /usr/local/lib/python3.10/dist-packages (from nltk<4.0.0,>=3.8.1->hazm) (2022.10.31)\n",
            "Requirement already satisfied: tqdm in /usr/local/lib/python3.10/dist-packages (from nltk<4.0.0,>=3.8.1->hazm) (4.65.0)\n",
            "Requirement already satisfied: threadpoolctl>=2.0.0 in /usr/local/lib/python3.10/dist-packages (from scikit-learn<2.0.0,>=1.2.2->hazm) (3.1.0)\n"
          ]
        }
      ],
      "source": [
        "!pip install hazm"
      ]
    },
    {
      "cell_type": "code",
      "execution_count": 2,
      "metadata": {
        "colab": {
          "base_uri": "https://localhost:8080/"
        },
        "id": "_JQhP7z-4OmK",
        "outputId": "0fe4051e-a174-4a1e-d711-5f8c2d3b167c"
      },
      "outputs": [
        {
          "output_type": "stream",
          "name": "stdout",
          "text": [
            "Name: hazm\n",
            "Version: 0.9.1\n",
            "Summary: Persian NLP Toolkit\n",
            "Home-page: https://roshan-ai.ir/hazm/\n",
            "Author: Roshan\n",
            "Author-email: salam@roshan-ai.com\n",
            "License: MIT\n",
            "Location: /usr/local/lib/python3.10/dist-packages\n",
            "Requires: gensim, nltk, numpy, python-crfsuite, scikit-learn\n",
            "Required-by: \n"
          ]
        }
      ],
      "source": [
        "!pip show hazm"
      ]
    },
    {
      "cell_type": "code",
      "execution_count": 4,
      "metadata": {
        "id": "VF_foQaRjO_1"
      },
      "outputs": [],
      "source": [
        "from hazm import sent_tokenize\n",
        "import regex as re\n",
        "from hazm import Normalizer\n",
        "from hazm import word_tokenize\n",
        "import pandas as pd\n",
        "from tqdm import tqdm\n",
        "import numpy as np"
      ]
    },
    {
      "cell_type": "code",
      "execution_count": 5,
      "metadata": {
        "colab": {
          "base_uri": "https://localhost:8080/",
          "height": 997
        },
        "id": "IYBJY8qFjU-y",
        "outputId": "f6a17d96-42d6-4b4d-efbc-520f0f87864e"
      },
      "outputs": [
        {
          "output_type": "stream",
          "name": "stdout",
          "text": [
            "<class 'pandas.core.frame.DataFrame'>\n",
            "RangeIndex: 1428 entries, 0 to 1427\n",
            "Data columns (total 16 columns):\n",
            " #   Column       Non-Null Count  Dtype  \n",
            "---  ------       --------------  -----  \n",
            " 0   id           1428 non-null   int64  \n",
            " 1   cat1         1428 non-null   object \n",
            " 2   cat2         1428 non-null   object \n",
            " 3   cat3         1428 non-null   object \n",
            " 4   title        1428 non-null   object \n",
            " 5   description  1428 non-null   object \n",
            " 6   url          1428 non-null   object \n",
            " 7   sub_title    1428 non-null   object \n",
            " 8   price        1428 non-null   int64  \n",
            " 9   size         1428 non-null   int64  \n",
            " 10  year         1428 non-null   int64  \n",
            " 11  room_number  1428 non-null   int64  \n",
            " 12  color        1428 non-null   object \n",
            " 13  mileage      1428 non-null   int64  \n",
            " 14  CPU          1428 non-null   object \n",
            " 15  RAM          1428 non-null   float64\n",
            "dtypes: float64(1), int64(6), object(9)\n",
            "memory usage: 178.6+ KB\n"
          ]
        },
        {
          "output_type": "execute_result",
          "data": {
            "text/plain": [
              "   id                cat1       cat2                     cat3  \\\n",
              "0   1  electronic-devices  computers  laptop-notebook-macbook   \n",
              "1   2  electronic-devices  computers  laptop-notebook-macbook   \n",
              "2   3  electronic-devices  computers  laptop-notebook-macbook   \n",
              "3   4  electronic-devices  computers  laptop-notebook-macbook   \n",
              "4   5  electronic-devices  computers  laptop-notebook-macbook   \n",
              "\n",
              "                                      title  \\\n",
              "0                           لپ تاپ استوک hp   \n",
              "1                 لپتاپ HP PRO نسل ۹ مهندسی   \n",
              "2                  فروش لپتاپ استوک اروپایی   \n",
              "3  HP ZBOOK۱۵ g۳ با گرافیک مجزا مناسب طراحی   \n",
              "4         لپ تاپ استوک واردات مستقیم از دبی   \n",
              "\n",
              "                                         description  \\\n",
              "0  با درود لپ تاپ‌های استوک مارک hp hp probook ۶۵...   \n",
              "1  لپ تاپ، مهندسی، گرافیکی، پر سرعت شیک و ظریف بر...   \n",
              "2  سلام تکنو رایان واردکننده لپتاپ استوک اروپایی ...   \n",
              "3   بدون واسطه به قیمت عمده خرید کنید فروشگاه لپت...   \n",
              "4   با سلام و احترام خدمت شما کاربر گرامی. کمال ت...   \n",
              "\n",
              "                                                 url  \\\n",
              "0  https://divar.ir/v/لپ-تاپ-استوک-hp_رایانه-همرا...   \n",
              "1  https://divar.ir/v/لپتاپ-hp-pro-نسل-۹-مهندسی_ر...   \n",
              "2  https://divar.ir/v/فروش-لپتاپ-استوک-اروپایی_را...   \n",
              "3  https://divar.ir/v/hp-zbook15-g3-با-گرافیک-مجز...   \n",
              "4  https://divar.ir/v/لپ-تاپ-استوک-واردات-مستقیم-...   \n",
              "\n",
              "                      sub_title     price  size  year  room_number    color  \\\n",
              "0  ۲ ساعت پیش در شیراز، ملاصدرا  14900000    -1    -1           -1  خاکستری   \n",
              "1     ۲ ساعت پیش در شیراز، وصال  18800000    -1    -1           -1  نقره‌ای   \n",
              "2      ۳ ساعت پیش در شیراز، زند   3900000    -1    -1           -1  Unknown   \n",
              "3  ۳ ساعت پیش در شیراز، ملاصدرا  17900000    -1    -1           -1     مشکی   \n",
              "4    ۳ ساعت پیش در شیراز، پودنک  10000000    -1    -1           -1     سایر   \n",
              "\n",
              "   mileage      CPU  RAM  \n",
              "0       -1  Core i7  8.0  \n",
              "1       -1  Ryzen 5  8.0  \n",
              "2       -1  Unknown  4.0  \n",
              "3       -1  Core i7  8.0  \n",
              "4       -1     غیره -1.0  "
            ],
            "text/html": [
              "\n",
              "  <div id=\"df-82782225-d248-4140-9915-8aa373ec589b\">\n",
              "    <div class=\"colab-df-container\">\n",
              "      <div>\n",
              "<style scoped>\n",
              "    .dataframe tbody tr th:only-of-type {\n",
              "        vertical-align: middle;\n",
              "    }\n",
              "\n",
              "    .dataframe tbody tr th {\n",
              "        vertical-align: top;\n",
              "    }\n",
              "\n",
              "    .dataframe thead th {\n",
              "        text-align: right;\n",
              "    }\n",
              "</style>\n",
              "<table border=\"1\" class=\"dataframe\">\n",
              "  <thead>\n",
              "    <tr style=\"text-align: right;\">\n",
              "      <th></th>\n",
              "      <th>id</th>\n",
              "      <th>cat1</th>\n",
              "      <th>cat2</th>\n",
              "      <th>cat3</th>\n",
              "      <th>title</th>\n",
              "      <th>description</th>\n",
              "      <th>url</th>\n",
              "      <th>sub_title</th>\n",
              "      <th>price</th>\n",
              "      <th>size</th>\n",
              "      <th>year</th>\n",
              "      <th>room_number</th>\n",
              "      <th>color</th>\n",
              "      <th>mileage</th>\n",
              "      <th>CPU</th>\n",
              "      <th>RAM</th>\n",
              "    </tr>\n",
              "  </thead>\n",
              "  <tbody>\n",
              "    <tr>\n",
              "      <th>0</th>\n",
              "      <td>1</td>\n",
              "      <td>electronic-devices</td>\n",
              "      <td>computers</td>\n",
              "      <td>laptop-notebook-macbook</td>\n",
              "      <td>لپ تاپ استوک hp</td>\n",
              "      <td>با درود لپ تاپ‌های استوک مارک hp hp probook ۶۵...</td>\n",
              "      <td>https://divar.ir/v/لپ-تاپ-استوک-hp_رایانه-همرا...</td>\n",
              "      <td>۲ ساعت پیش در شیراز، ملاصدرا</td>\n",
              "      <td>14900000</td>\n",
              "      <td>-1</td>\n",
              "      <td>-1</td>\n",
              "      <td>-1</td>\n",
              "      <td>خاکستری</td>\n",
              "      <td>-1</td>\n",
              "      <td>Core i7</td>\n",
              "      <td>8.0</td>\n",
              "    </tr>\n",
              "    <tr>\n",
              "      <th>1</th>\n",
              "      <td>2</td>\n",
              "      <td>electronic-devices</td>\n",
              "      <td>computers</td>\n",
              "      <td>laptop-notebook-macbook</td>\n",
              "      <td>لپتاپ HP PRO نسل ۹ مهندسی</td>\n",
              "      <td>لپ تاپ، مهندسی، گرافیکی، پر سرعت شیک و ظریف بر...</td>\n",
              "      <td>https://divar.ir/v/لپتاپ-hp-pro-نسل-۹-مهندسی_ر...</td>\n",
              "      <td>۲ ساعت پیش در شیراز، وصال</td>\n",
              "      <td>18800000</td>\n",
              "      <td>-1</td>\n",
              "      <td>-1</td>\n",
              "      <td>-1</td>\n",
              "      <td>نقره‌ای</td>\n",
              "      <td>-1</td>\n",
              "      <td>Ryzen 5</td>\n",
              "      <td>8.0</td>\n",
              "    </tr>\n",
              "    <tr>\n",
              "      <th>2</th>\n",
              "      <td>3</td>\n",
              "      <td>electronic-devices</td>\n",
              "      <td>computers</td>\n",
              "      <td>laptop-notebook-macbook</td>\n",
              "      <td>فروش لپتاپ استوک اروپایی</td>\n",
              "      <td>سلام تکنو رایان واردکننده لپتاپ استوک اروپایی ...</td>\n",
              "      <td>https://divar.ir/v/فروش-لپتاپ-استوک-اروپایی_را...</td>\n",
              "      <td>۳ ساعت پیش در شیراز، زند</td>\n",
              "      <td>3900000</td>\n",
              "      <td>-1</td>\n",
              "      <td>-1</td>\n",
              "      <td>-1</td>\n",
              "      <td>Unknown</td>\n",
              "      <td>-1</td>\n",
              "      <td>Unknown</td>\n",
              "      <td>4.0</td>\n",
              "    </tr>\n",
              "    <tr>\n",
              "      <th>3</th>\n",
              "      <td>4</td>\n",
              "      <td>electronic-devices</td>\n",
              "      <td>computers</td>\n",
              "      <td>laptop-notebook-macbook</td>\n",
              "      <td>HP ZBOOK۱۵ g۳ با گرافیک مجزا مناسب طراحی</td>\n",
              "      <td>بدون واسطه به قیمت عمده خرید کنید فروشگاه لپت...</td>\n",
              "      <td>https://divar.ir/v/hp-zbook15-g3-با-گرافیک-مجز...</td>\n",
              "      <td>۳ ساعت پیش در شیراز، ملاصدرا</td>\n",
              "      <td>17900000</td>\n",
              "      <td>-1</td>\n",
              "      <td>-1</td>\n",
              "      <td>-1</td>\n",
              "      <td>مشکی</td>\n",
              "      <td>-1</td>\n",
              "      <td>Core i7</td>\n",
              "      <td>8.0</td>\n",
              "    </tr>\n",
              "    <tr>\n",
              "      <th>4</th>\n",
              "      <td>5</td>\n",
              "      <td>electronic-devices</td>\n",
              "      <td>computers</td>\n",
              "      <td>laptop-notebook-macbook</td>\n",
              "      <td>لپ تاپ استوک واردات مستقیم از دبی</td>\n",
              "      <td>با سلام و احترام خدمت شما کاربر گرامی. کمال ت...</td>\n",
              "      <td>https://divar.ir/v/لپ-تاپ-استوک-واردات-مستقیم-...</td>\n",
              "      <td>۳ ساعت پیش در شیراز، پودنک</td>\n",
              "      <td>10000000</td>\n",
              "      <td>-1</td>\n",
              "      <td>-1</td>\n",
              "      <td>-1</td>\n",
              "      <td>سایر</td>\n",
              "      <td>-1</td>\n",
              "      <td>غیره</td>\n",
              "      <td>-1.0</td>\n",
              "    </tr>\n",
              "  </tbody>\n",
              "</table>\n",
              "</div>\n",
              "      <button class=\"colab-df-convert\" onclick=\"convertToInteractive('df-82782225-d248-4140-9915-8aa373ec589b')\"\n",
              "              title=\"Convert this dataframe to an interactive table.\"\n",
              "              style=\"display:none;\">\n",
              "        \n",
              "  <svg xmlns=\"http://www.w3.org/2000/svg\" height=\"24px\"viewBox=\"0 0 24 24\"\n",
              "       width=\"24px\">\n",
              "    <path d=\"M0 0h24v24H0V0z\" fill=\"none\"/>\n",
              "    <path d=\"M18.56 5.44l.94 2.06.94-2.06 2.06-.94-2.06-.94-.94-2.06-.94 2.06-2.06.94zm-11 1L8.5 8.5l.94-2.06 2.06-.94-2.06-.94L8.5 2.5l-.94 2.06-2.06.94zm10 10l.94 2.06.94-2.06 2.06-.94-2.06-.94-.94-2.06-.94 2.06-2.06.94z\"/><path d=\"M17.41 7.96l-1.37-1.37c-.4-.4-.92-.59-1.43-.59-.52 0-1.04.2-1.43.59L10.3 9.45l-7.72 7.72c-.78.78-.78 2.05 0 2.83L4 21.41c.39.39.9.59 1.41.59.51 0 1.02-.2 1.41-.59l7.78-7.78 2.81-2.81c.8-.78.8-2.07 0-2.86zM5.41 20L4 18.59l7.72-7.72 1.47 1.35L5.41 20z\"/>\n",
              "  </svg>\n",
              "      </button>\n",
              "      \n",
              "  <style>\n",
              "    .colab-df-container {\n",
              "      display:flex;\n",
              "      flex-wrap:wrap;\n",
              "      gap: 12px;\n",
              "    }\n",
              "\n",
              "    .colab-df-convert {\n",
              "      background-color: #E8F0FE;\n",
              "      border: none;\n",
              "      border-radius: 50%;\n",
              "      cursor: pointer;\n",
              "      display: none;\n",
              "      fill: #1967D2;\n",
              "      height: 32px;\n",
              "      padding: 0 0 0 0;\n",
              "      width: 32px;\n",
              "    }\n",
              "\n",
              "    .colab-df-convert:hover {\n",
              "      background-color: #E2EBFA;\n",
              "      box-shadow: 0px 1px 2px rgba(60, 64, 67, 0.3), 0px 1px 3px 1px rgba(60, 64, 67, 0.15);\n",
              "      fill: #174EA6;\n",
              "    }\n",
              "\n",
              "    [theme=dark] .colab-df-convert {\n",
              "      background-color: #3B4455;\n",
              "      fill: #D2E3FC;\n",
              "    }\n",
              "\n",
              "    [theme=dark] .colab-df-convert:hover {\n",
              "      background-color: #434B5C;\n",
              "      box-shadow: 0px 1px 3px 1px rgba(0, 0, 0, 0.15);\n",
              "      filter: drop-shadow(0px 1px 2px rgba(0, 0, 0, 0.3));\n",
              "      fill: #FFFFFF;\n",
              "    }\n",
              "  </style>\n",
              "\n",
              "      <script>\n",
              "        const buttonEl =\n",
              "          document.querySelector('#df-82782225-d248-4140-9915-8aa373ec589b button.colab-df-convert');\n",
              "        buttonEl.style.display =\n",
              "          google.colab.kernel.accessAllowed ? 'block' : 'none';\n",
              "\n",
              "        async function convertToInteractive(key) {\n",
              "          const element = document.querySelector('#df-82782225-d248-4140-9915-8aa373ec589b');\n",
              "          const dataTable =\n",
              "            await google.colab.kernel.invokeFunction('convertToInteractive',\n",
              "                                                     [key], {});\n",
              "          if (!dataTable) return;\n",
              "\n",
              "          const docLinkHtml = 'Like what you see? Visit the ' +\n",
              "            '<a target=\"_blank\" href=https://colab.research.google.com/notebooks/data_table.ipynb>data table notebook</a>'\n",
              "            + ' to learn more about interactive tables.';\n",
              "          element.innerHTML = '';\n",
              "          dataTable['output_type'] = 'display_data';\n",
              "          await google.colab.output.renderOutput(dataTable, element);\n",
              "          const docLink = document.createElement('div');\n",
              "          docLink.innerHTML = docLinkHtml;\n",
              "          element.appendChild(docLink);\n",
              "        }\n",
              "      </script>\n",
              "    </div>\n",
              "  </div>\n",
              "  "
            ]
          },
          "metadata": {},
          "execution_count": 5
        }
      ],
      "source": [
        "data = pd.read_csv('normalized_raw_data.csv')\n",
        "data.info()\n",
        "data.head()"
      ]
    },
    {
      "cell_type": "code",
      "execution_count": 6,
      "metadata": {
        "colab": {
          "base_uri": "https://localhost:8080/"
        },
        "id": "jr8pWQbJjWxT",
        "outputId": "6c6e3487-d767-4fcc-a69d-d27f3c49b984"
      },
      "outputs": [
        {
          "output_type": "execute_result",
          "data": {
            "text/plain": [
              "real-estate           575\n",
              "home-kitchen          286\n",
              "electronic-devices    284\n",
              "vehicles              283\n",
              "Name: cat1, dtype: int64"
            ]
          },
          "metadata": {},
          "execution_count": 6
        }
      ],
      "source": [
        "data.cat1.value_counts()"
      ]
    },
    {
      "cell_type": "code",
      "execution_count": 7,
      "metadata": {
        "colab": {
          "base_uri": "https://localhost:8080/",
          "height": 206
        },
        "id": "XicjW0gcjY9W",
        "outputId": "9a77c746-5691-4672-f0e5-3570cade5571"
      },
      "outputs": [
        {
          "output_type": "execute_result",
          "data": {
            "text/plain": [
              "                                         description                cat1\n",
              "0  با درود لپ تاپ‌های استوک مارک hp hp probook ۶۵...  electronic-devices\n",
              "1  لپ تاپ، مهندسی، گرافیکی، پر سرعت شیک و ظریف بر...  electronic-devices\n",
              "2  سلام تکنو رایان واردکننده لپتاپ استوک اروپایی ...  electronic-devices\n",
              "3   بدون واسطه به قیمت عمده خرید کنید فروشگاه لپت...  electronic-devices\n",
              "4   با سلام و احترام خدمت شما کاربر گرامی. کمال ت...  electronic-devices"
            ],
            "text/html": [
              "\n",
              "  <div id=\"df-a93160f0-f7f1-4f4d-ab38-ff616b470676\">\n",
              "    <div class=\"colab-df-container\">\n",
              "      <div>\n",
              "<style scoped>\n",
              "    .dataframe tbody tr th:only-of-type {\n",
              "        vertical-align: middle;\n",
              "    }\n",
              "\n",
              "    .dataframe tbody tr th {\n",
              "        vertical-align: top;\n",
              "    }\n",
              "\n",
              "    .dataframe thead th {\n",
              "        text-align: right;\n",
              "    }\n",
              "</style>\n",
              "<table border=\"1\" class=\"dataframe\">\n",
              "  <thead>\n",
              "    <tr style=\"text-align: right;\">\n",
              "      <th></th>\n",
              "      <th>description</th>\n",
              "      <th>cat1</th>\n",
              "    </tr>\n",
              "  </thead>\n",
              "  <tbody>\n",
              "    <tr>\n",
              "      <th>0</th>\n",
              "      <td>با درود لپ تاپ‌های استوک مارک hp hp probook ۶۵...</td>\n",
              "      <td>electronic-devices</td>\n",
              "    </tr>\n",
              "    <tr>\n",
              "      <th>1</th>\n",
              "      <td>لپ تاپ، مهندسی، گرافیکی، پر سرعت شیک و ظریف بر...</td>\n",
              "      <td>electronic-devices</td>\n",
              "    </tr>\n",
              "    <tr>\n",
              "      <th>2</th>\n",
              "      <td>سلام تکنو رایان واردکننده لپتاپ استوک اروپایی ...</td>\n",
              "      <td>electronic-devices</td>\n",
              "    </tr>\n",
              "    <tr>\n",
              "      <th>3</th>\n",
              "      <td>بدون واسطه به قیمت عمده خرید کنید فروشگاه لپت...</td>\n",
              "      <td>electronic-devices</td>\n",
              "    </tr>\n",
              "    <tr>\n",
              "      <th>4</th>\n",
              "      <td>با سلام و احترام خدمت شما کاربر گرامی. کمال ت...</td>\n",
              "      <td>electronic-devices</td>\n",
              "    </tr>\n",
              "  </tbody>\n",
              "</table>\n",
              "</div>\n",
              "      <button class=\"colab-df-convert\" onclick=\"convertToInteractive('df-a93160f0-f7f1-4f4d-ab38-ff616b470676')\"\n",
              "              title=\"Convert this dataframe to an interactive table.\"\n",
              "              style=\"display:none;\">\n",
              "        \n",
              "  <svg xmlns=\"http://www.w3.org/2000/svg\" height=\"24px\"viewBox=\"0 0 24 24\"\n",
              "       width=\"24px\">\n",
              "    <path d=\"M0 0h24v24H0V0z\" fill=\"none\"/>\n",
              "    <path d=\"M18.56 5.44l.94 2.06.94-2.06 2.06-.94-2.06-.94-.94-2.06-.94 2.06-2.06.94zm-11 1L8.5 8.5l.94-2.06 2.06-.94-2.06-.94L8.5 2.5l-.94 2.06-2.06.94zm10 10l.94 2.06.94-2.06 2.06-.94-2.06-.94-.94-2.06-.94 2.06-2.06.94z\"/><path d=\"M17.41 7.96l-1.37-1.37c-.4-.4-.92-.59-1.43-.59-.52 0-1.04.2-1.43.59L10.3 9.45l-7.72 7.72c-.78.78-.78 2.05 0 2.83L4 21.41c.39.39.9.59 1.41.59.51 0 1.02-.2 1.41-.59l7.78-7.78 2.81-2.81c.8-.78.8-2.07 0-2.86zM5.41 20L4 18.59l7.72-7.72 1.47 1.35L5.41 20z\"/>\n",
              "  </svg>\n",
              "      </button>\n",
              "      \n",
              "  <style>\n",
              "    .colab-df-container {\n",
              "      display:flex;\n",
              "      flex-wrap:wrap;\n",
              "      gap: 12px;\n",
              "    }\n",
              "\n",
              "    .colab-df-convert {\n",
              "      background-color: #E8F0FE;\n",
              "      border: none;\n",
              "      border-radius: 50%;\n",
              "      cursor: pointer;\n",
              "      display: none;\n",
              "      fill: #1967D2;\n",
              "      height: 32px;\n",
              "      padding: 0 0 0 0;\n",
              "      width: 32px;\n",
              "    }\n",
              "\n",
              "    .colab-df-convert:hover {\n",
              "      background-color: #E2EBFA;\n",
              "      box-shadow: 0px 1px 2px rgba(60, 64, 67, 0.3), 0px 1px 3px 1px rgba(60, 64, 67, 0.15);\n",
              "      fill: #174EA6;\n",
              "    }\n",
              "\n",
              "    [theme=dark] .colab-df-convert {\n",
              "      background-color: #3B4455;\n",
              "      fill: #D2E3FC;\n",
              "    }\n",
              "\n",
              "    [theme=dark] .colab-df-convert:hover {\n",
              "      background-color: #434B5C;\n",
              "      box-shadow: 0px 1px 3px 1px rgba(0, 0, 0, 0.15);\n",
              "      filter: drop-shadow(0px 1px 2px rgba(0, 0, 0, 0.3));\n",
              "      fill: #FFFFFF;\n",
              "    }\n",
              "  </style>\n",
              "\n",
              "      <script>\n",
              "        const buttonEl =\n",
              "          document.querySelector('#df-a93160f0-f7f1-4f4d-ab38-ff616b470676 button.colab-df-convert');\n",
              "        buttonEl.style.display =\n",
              "          google.colab.kernel.accessAllowed ? 'block' : 'none';\n",
              "\n",
              "        async function convertToInteractive(key) {\n",
              "          const element = document.querySelector('#df-a93160f0-f7f1-4f4d-ab38-ff616b470676');\n",
              "          const dataTable =\n",
              "            await google.colab.kernel.invokeFunction('convertToInteractive',\n",
              "                                                     [key], {});\n",
              "          if (!dataTable) return;\n",
              "\n",
              "          const docLinkHtml = 'Like what you see? Visit the ' +\n",
              "            '<a target=\"_blank\" href=https://colab.research.google.com/notebooks/data_table.ipynb>data table notebook</a>'\n",
              "            + ' to learn more about interactive tables.';\n",
              "          element.innerHTML = '';\n",
              "          dataTable['output_type'] = 'display_data';\n",
              "          await google.colab.output.renderOutput(dataTable, element);\n",
              "          const docLink = document.createElement('div');\n",
              "          docLink.innerHTML = docLinkHtml;\n",
              "          element.appendChild(docLink);\n",
              "        }\n",
              "      </script>\n",
              "    </div>\n",
              "  </div>\n",
              "  "
            ]
          },
          "metadata": {},
          "execution_count": 7
        }
      ],
      "source": [
        "data = data[['description', 'cat1']]\n",
        "data.head()"
      ]
    },
    {
      "cell_type": "code",
      "execution_count": 8,
      "metadata": {
        "id": "OM5wWCcEjaO8"
      },
      "outputs": [],
      "source": [
        "def preprocess(description):\n",
        "    # Text preprocessing\n",
        "    # Remove extra denotations like :\n",
        "    normalized_description = re.sub('[:,،..<>/!@#$%~{}();»«…“”\"؛؟◊♦–\\*\\+_\\^\\=]', ' ', description)\n",
        "    return(normalized_description)"
      ]
    },
    {
      "cell_type": "code",
      "execution_count": 9,
      "metadata": {
        "colab": {
          "base_uri": "https://localhost:8080/"
        },
        "id": "usN7RUDAjclk",
        "outputId": "2a22ce75-4641-48aa-e568-88f57f680218"
      },
      "outputs": [
        {
          "output_type": "stream",
          "name": "stderr",
          "text": [
            "100%|██████████| 1428/1428 [00:00<00:00, 2635.87it/s]\n"
          ]
        }
      ],
      "source": [
        "for i in tqdm(range(data.shape[0])):\n",
        "    data.loc[i, 'normalized_description'] = preprocess(data['description'].iloc[i])"
      ]
    },
    {
      "cell_type": "code",
      "execution_count": 10,
      "metadata": {
        "colab": {
          "base_uri": "https://localhost:8080/",
          "height": 424
        },
        "id": "9DJY1-4bjeL_",
        "outputId": "9dbf3952-7053-412a-988c-5b95a7586539"
      },
      "outputs": [
        {
          "output_type": "execute_result",
          "data": {
            "text/plain": [
              "                                            description                cat1  \\\n",
              "0     با درود لپ تاپ‌های استوک مارک hp hp probook ۶۵...  electronic-devices   \n",
              "1     لپ تاپ، مهندسی، گرافیکی، پر سرعت شیک و ظریف بر...  electronic-devices   \n",
              "2     سلام تکنو رایان واردکننده لپتاپ استوک اروپایی ...  electronic-devices   \n",
              "3      بدون واسطه به قیمت عمده خرید کنید فروشگاه لپت...  electronic-devices   \n",
              "4      با سلام و احترام خدمت شما کاربر گرامی. کمال ت...  electronic-devices   \n",
              "...                                                 ...                 ...   \n",
              "1423  سلام و درود خدمت همه عزیزان نقد و اقساط حداقل ...            vehicles   \n",
              "1424  خودرو در حد صفر میباشد اتوماتیک دارای گیربکس ژ...            vehicles   \n",
              "1425  ام وی ام ایکس۳۳ATنیوفیس بسیار تمیز و بدون خط و...            vehicles   \n",
              "1426  فوق العاده سالم و بی رنگ یک جفت باند پایونیر چ...            vehicles   \n",
              "1427  موتور سالم است. مشخصات آگهی را دقیق بخوانید و ...            vehicles   \n",
              "\n",
              "                                 normalized_description  \n",
              "0     با درود لپ تاپ‌های استوک مارک hp hp probook ۶۵...  \n",
              "1     لپ تاپ  مهندسی  گرافیکی  پر سرعت شیک و ظریف بر...  \n",
              "2     سلام تکنو رایان واردکننده لپتاپ استوک اروپایی ...  \n",
              "3      بدون واسطه به قیمت عمده خرید کنید فروشگاه لپت...  \n",
              "4      با سلام و احترام خدمت شما کاربر گرامی  کمال ت...  \n",
              "...                                                 ...  \n",
              "1423  سلام و درود خدمت همه عزیزان نقد و اقساط حداقل ...  \n",
              "1424  خودرو در حد صفر میباشد اتوماتیک دارای گیربکس ژ...  \n",
              "1425  ام وی ام ایکس۳۳ATنیوفیس بسیار تمیز و بدون خط و...  \n",
              "1426  فوق العاده سالم و بی رنگ یک جفت باند پایونیر چ...  \n",
              "1427  موتور سالم است  مشخصات آگهی را دقیق بخوانید و ...  \n",
              "\n",
              "[1428 rows x 3 columns]"
            ],
            "text/html": [
              "\n",
              "  <div id=\"df-fe7b26c8-e44c-4aed-8972-44acf770fb8f\">\n",
              "    <div class=\"colab-df-container\">\n",
              "      <div>\n",
              "<style scoped>\n",
              "    .dataframe tbody tr th:only-of-type {\n",
              "        vertical-align: middle;\n",
              "    }\n",
              "\n",
              "    .dataframe tbody tr th {\n",
              "        vertical-align: top;\n",
              "    }\n",
              "\n",
              "    .dataframe thead th {\n",
              "        text-align: right;\n",
              "    }\n",
              "</style>\n",
              "<table border=\"1\" class=\"dataframe\">\n",
              "  <thead>\n",
              "    <tr style=\"text-align: right;\">\n",
              "      <th></th>\n",
              "      <th>description</th>\n",
              "      <th>cat1</th>\n",
              "      <th>normalized_description</th>\n",
              "    </tr>\n",
              "  </thead>\n",
              "  <tbody>\n",
              "    <tr>\n",
              "      <th>0</th>\n",
              "      <td>با درود لپ تاپ‌های استوک مارک hp hp probook ۶۵...</td>\n",
              "      <td>electronic-devices</td>\n",
              "      <td>با درود لپ تاپ‌های استوک مارک hp hp probook ۶۵...</td>\n",
              "    </tr>\n",
              "    <tr>\n",
              "      <th>1</th>\n",
              "      <td>لپ تاپ، مهندسی، گرافیکی، پر سرعت شیک و ظریف بر...</td>\n",
              "      <td>electronic-devices</td>\n",
              "      <td>لپ تاپ  مهندسی  گرافیکی  پر سرعت شیک و ظریف بر...</td>\n",
              "    </tr>\n",
              "    <tr>\n",
              "      <th>2</th>\n",
              "      <td>سلام تکنو رایان واردکننده لپتاپ استوک اروپایی ...</td>\n",
              "      <td>electronic-devices</td>\n",
              "      <td>سلام تکنو رایان واردکننده لپتاپ استوک اروپایی ...</td>\n",
              "    </tr>\n",
              "    <tr>\n",
              "      <th>3</th>\n",
              "      <td>بدون واسطه به قیمت عمده خرید کنید فروشگاه لپت...</td>\n",
              "      <td>electronic-devices</td>\n",
              "      <td>بدون واسطه به قیمت عمده خرید کنید فروشگاه لپت...</td>\n",
              "    </tr>\n",
              "    <tr>\n",
              "      <th>4</th>\n",
              "      <td>با سلام و احترام خدمت شما کاربر گرامی. کمال ت...</td>\n",
              "      <td>electronic-devices</td>\n",
              "      <td>با سلام و احترام خدمت شما کاربر گرامی  کمال ت...</td>\n",
              "    </tr>\n",
              "    <tr>\n",
              "      <th>...</th>\n",
              "      <td>...</td>\n",
              "      <td>...</td>\n",
              "      <td>...</td>\n",
              "    </tr>\n",
              "    <tr>\n",
              "      <th>1423</th>\n",
              "      <td>سلام و درود خدمت همه عزیزان نقد و اقساط حداقل ...</td>\n",
              "      <td>vehicles</td>\n",
              "      <td>سلام و درود خدمت همه عزیزان نقد و اقساط حداقل ...</td>\n",
              "    </tr>\n",
              "    <tr>\n",
              "      <th>1424</th>\n",
              "      <td>خودرو در حد صفر میباشد اتوماتیک دارای گیربکس ژ...</td>\n",
              "      <td>vehicles</td>\n",
              "      <td>خودرو در حد صفر میباشد اتوماتیک دارای گیربکس ژ...</td>\n",
              "    </tr>\n",
              "    <tr>\n",
              "      <th>1425</th>\n",
              "      <td>ام وی ام ایکس۳۳ATنیوفیس بسیار تمیز و بدون خط و...</td>\n",
              "      <td>vehicles</td>\n",
              "      <td>ام وی ام ایکس۳۳ATنیوفیس بسیار تمیز و بدون خط و...</td>\n",
              "    </tr>\n",
              "    <tr>\n",
              "      <th>1426</th>\n",
              "      <td>فوق العاده سالم و بی رنگ یک جفت باند پایونیر چ...</td>\n",
              "      <td>vehicles</td>\n",
              "      <td>فوق العاده سالم و بی رنگ یک جفت باند پایونیر چ...</td>\n",
              "    </tr>\n",
              "    <tr>\n",
              "      <th>1427</th>\n",
              "      <td>موتور سالم است. مشخصات آگهی را دقیق بخوانید و ...</td>\n",
              "      <td>vehicles</td>\n",
              "      <td>موتور سالم است  مشخصات آگهی را دقیق بخوانید و ...</td>\n",
              "    </tr>\n",
              "  </tbody>\n",
              "</table>\n",
              "<p>1428 rows × 3 columns</p>\n",
              "</div>\n",
              "      <button class=\"colab-df-convert\" onclick=\"convertToInteractive('df-fe7b26c8-e44c-4aed-8972-44acf770fb8f')\"\n",
              "              title=\"Convert this dataframe to an interactive table.\"\n",
              "              style=\"display:none;\">\n",
              "        \n",
              "  <svg xmlns=\"http://www.w3.org/2000/svg\" height=\"24px\"viewBox=\"0 0 24 24\"\n",
              "       width=\"24px\">\n",
              "    <path d=\"M0 0h24v24H0V0z\" fill=\"none\"/>\n",
              "    <path d=\"M18.56 5.44l.94 2.06.94-2.06 2.06-.94-2.06-.94-.94-2.06-.94 2.06-2.06.94zm-11 1L8.5 8.5l.94-2.06 2.06-.94-2.06-.94L8.5 2.5l-.94 2.06-2.06.94zm10 10l.94 2.06.94-2.06 2.06-.94-2.06-.94-.94-2.06-.94 2.06-2.06.94z\"/><path d=\"M17.41 7.96l-1.37-1.37c-.4-.4-.92-.59-1.43-.59-.52 0-1.04.2-1.43.59L10.3 9.45l-7.72 7.72c-.78.78-.78 2.05 0 2.83L4 21.41c.39.39.9.59 1.41.59.51 0 1.02-.2 1.41-.59l7.78-7.78 2.81-2.81c.8-.78.8-2.07 0-2.86zM5.41 20L4 18.59l7.72-7.72 1.47 1.35L5.41 20z\"/>\n",
              "  </svg>\n",
              "      </button>\n",
              "      \n",
              "  <style>\n",
              "    .colab-df-container {\n",
              "      display:flex;\n",
              "      flex-wrap:wrap;\n",
              "      gap: 12px;\n",
              "    }\n",
              "\n",
              "    .colab-df-convert {\n",
              "      background-color: #E8F0FE;\n",
              "      border: none;\n",
              "      border-radius: 50%;\n",
              "      cursor: pointer;\n",
              "      display: none;\n",
              "      fill: #1967D2;\n",
              "      height: 32px;\n",
              "      padding: 0 0 0 0;\n",
              "      width: 32px;\n",
              "    }\n",
              "\n",
              "    .colab-df-convert:hover {\n",
              "      background-color: #E2EBFA;\n",
              "      box-shadow: 0px 1px 2px rgba(60, 64, 67, 0.3), 0px 1px 3px 1px rgba(60, 64, 67, 0.15);\n",
              "      fill: #174EA6;\n",
              "    }\n",
              "\n",
              "    [theme=dark] .colab-df-convert {\n",
              "      background-color: #3B4455;\n",
              "      fill: #D2E3FC;\n",
              "    }\n",
              "\n",
              "    [theme=dark] .colab-df-convert:hover {\n",
              "      background-color: #434B5C;\n",
              "      box-shadow: 0px 1px 3px 1px rgba(0, 0, 0, 0.15);\n",
              "      filter: drop-shadow(0px 1px 2px rgba(0, 0, 0, 0.3));\n",
              "      fill: #FFFFFF;\n",
              "    }\n",
              "  </style>\n",
              "\n",
              "      <script>\n",
              "        const buttonEl =\n",
              "          document.querySelector('#df-fe7b26c8-e44c-4aed-8972-44acf770fb8f button.colab-df-convert');\n",
              "        buttonEl.style.display =\n",
              "          google.colab.kernel.accessAllowed ? 'block' : 'none';\n",
              "\n",
              "        async function convertToInteractive(key) {\n",
              "          const element = document.querySelector('#df-fe7b26c8-e44c-4aed-8972-44acf770fb8f');\n",
              "          const dataTable =\n",
              "            await google.colab.kernel.invokeFunction('convertToInteractive',\n",
              "                                                     [key], {});\n",
              "          if (!dataTable) return;\n",
              "\n",
              "          const docLinkHtml = 'Like what you see? Visit the ' +\n",
              "            '<a target=\"_blank\" href=https://colab.research.google.com/notebooks/data_table.ipynb>data table notebook</a>'\n",
              "            + ' to learn more about interactive tables.';\n",
              "          element.innerHTML = '';\n",
              "          dataTable['output_type'] = 'display_data';\n",
              "          await google.colab.output.renderOutput(dataTable, element);\n",
              "          const docLink = document.createElement('div');\n",
              "          docLink.innerHTML = docLinkHtml;\n",
              "          element.appendChild(docLink);\n",
              "        }\n",
              "      </script>\n",
              "    </div>\n",
              "  </div>\n",
              "  "
            ]
          },
          "metadata": {},
          "execution_count": 10
        }
      ],
      "source": [
        "data"
      ]
    },
    {
      "cell_type": "code",
      "execution_count": 11,
      "metadata": {
        "colab": {
          "base_uri": "https://localhost:8080/"
        },
        "id": "5aCptvDwjqVm",
        "outputId": "bd5054c3-948d-4046-ffd7-4f82f7ff0004"
      },
      "outputs": [
        {
          "output_type": "stream",
          "name": "stdout",
          "text": [
            "X_train shape: (1285,)\n",
            "y_train shape: (1285,)\n",
            "X_test shape: (143,)\n",
            "y_test shape: (143,)\n"
          ]
        }
      ],
      "source": [
        "from sklearn.model_selection import train_test_split\n",
        "\n",
        "X = data['normalized_description']\n",
        "y = data['cat1']\n",
        "\n",
        "\n",
        "X_train, X_test, y_train, y_test = train_test_split(X, y, test_size = 0.1, random_state = 1)\n",
        "\n",
        "print(\"X_train shape:\", X_train.shape)\n",
        "print(\"y_train shape:\", X_train.shape)\n",
        "\n",
        "print(\"X_test shape:\", X_test.shape)\n",
        "print(\"y_test shape:\", y_test.shape)"
      ]
    },
    {
      "cell_type": "code",
      "execution_count": 12,
      "metadata": {
        "colab": {
          "base_uri": "https://localhost:8080/"
        },
        "id": "MsOku9q7ju41",
        "outputId": "4ae6fa8f-4fd8-4791-dc76-f4fc03b53651"
      },
      "outputs": [
        {
          "output_type": "stream",
          "name": "stderr",
          "text": [
            "/usr/local/lib/python3.10/dist-packages/sklearn/feature_extraction/text.py:528: UserWarning: The parameter 'token_pattern' will not be used since 'tokenizer' is not None'\n",
            "  warnings.warn(\n"
          ]
        }
      ],
      "source": [
        "from sklearn.feature_extraction.text import TfidfVectorizer\n",
        "tfidf = TfidfVectorizer(lowercase = False, tokenizer = word_tokenize)\n",
        "\n",
        "tfidf.fit(X_train)\n",
        "X_train_tf_idf = tfidf.transform(X_train)\n",
        "X_test_tf_idf = tfidf.transform(X_test)"
      ]
    },
    {
      "cell_type": "markdown",
      "metadata": {
        "id": "Cp5La5t-oHwO"
      },
      "source": [
        "Train : 90%    Test : 10% <br>\n",
        "Evaluation : using 10_fold_cv <br>\n",
        "8209 features without hazm.Normalizer <br>\n",
        "8296 features with hazm.Normalizer <br>"
      ]
    },
    {
      "cell_type": "code",
      "execution_count": 13,
      "metadata": {
        "colab": {
          "base_uri": "https://localhost:8080/"
        },
        "id": "WOXCQyejjxHY",
        "outputId": "395bf9c1-7320-490c-c535-50e112006cbc"
      },
      "outputs": [
        {
          "output_type": "stream",
          "name": "stdout",
          "text": [
            "X_train_tf_idf shape : (1285, 8209)\n",
            "X_test_tf_idf shape : (143, 8209)\n"
          ]
        }
      ],
      "source": [
        "X_train_tf_idf = X_train_tf_idf.todense()\n",
        "X_test_tf_idf = X_test_tf_idf.todense()\n",
        "\n",
        "X_train_tf_idf = np.asarray(X_train_tf_idf)\n",
        "X_test_tf_idf = np.asarray(X_test_tf_idf)\n",
        "\n",
        "\n",
        "print(\"X_train_tf_idf shape :\", X_train_tf_idf.shape)\n",
        "print(\"X_test_tf_idf shape :\", X_test_tf_idf.shape)"
      ]
    },
    {
      "cell_type": "markdown",
      "metadata": {
        "id": "YaFStRRMUGcF"
      },
      "source": [
        "# 🔴 Don't use scaler for NB\n",
        "# When i used scaling(like normalization) the accuracy of Naive bayes drops terribly !!!"
      ]
    },
    {
      "cell_type": "code",
      "execution_count": 14,
      "metadata": {
        "colab": {
          "base_uri": "https://localhost:8080/"
        },
        "id": "IUq6m-iFUZpB",
        "outputId": "2cea6f11-00a9-4198-c09a-2f5b02732cf7"
      },
      "outputs": [
        {
          "output_type": "execute_result",
          "data": {
            "text/plain": [
              "(0.997038997176662, 0.0)"
            ]
          },
          "metadata": {},
          "execution_count": 14
        }
      ],
      "source": [
        "X_train_tf_idf.max(), X_train_tf_idf.min()"
      ]
    },
    {
      "cell_type": "code",
      "execution_count": 15,
      "metadata": {
        "colab": {
          "base_uri": "https://localhost:8080/"
        },
        "id": "qqxENd3lUlm9",
        "outputId": "2b58799c-379f-4bfe-8ea8-c9ce425a16f1"
      },
      "outputs": [
        {
          "output_type": "execute_result",
          "data": {
            "text/plain": [
              "(0.7678593708425904, 0.0)"
            ]
          },
          "metadata": {},
          "execution_count": 15
        }
      ],
      "source": [
        "X_test_tf_idf.max(), X_test_tf_idf.min()"
      ]
    },
    {
      "cell_type": "code",
      "execution_count": 16,
      "metadata": {
        "colab": {
          "base_uri": "https://localhost:8080/",
          "height": 566
        },
        "id": "y5U7FtuLjy4A",
        "outputId": "c463cb81-da2c-4333-9fdd-4f736de2c09b"
      },
      "outputs": [
        {
          "output_type": "display_data",
          "data": {
            "text/plain": [
              "<Figure size 800x600 with 2 Axes>"
            ],
            "image/png": "[encoded data removed]"
          },
          "metadata": {}
        }
      ],
      "source": [
        "import seaborn as sns\n",
        "import matplotlib.pyplot as plt\n",
        "\n",
        "plt.figure(figsize = (8,6))\n",
        "plt.title('X_train tf_idf matrix')\n",
        "sns.heatmap(X_train_tf_idf)\n",
        "plt.show()"
      ]
    },
    {
      "cell_type": "markdown",
      "metadata": {
        "id": "QhgjrPR9lvqQ"
      },
      "source": [
        "# It's too much sparse, let's use SVD"
      ]
    },
    {
      "cell_type": "markdown",
      "metadata": {
        "id": "K8jwInh_RoNL"
      },
      "source": [
        "# Metrics calculation function"
      ]
    },
    {
      "cell_type": "code",
      "execution_count": 17,
      "metadata": {
        "id": "aNKQackZRmiu"
      },
      "outputs": [],
      "source": [
        "from sklearn.metrics import accuracy_score, precision_score, recall_score, f1_score, ConfusionMatrixDisplay, confusion_matrix\n",
        "def metrics_report(estimator, X_train, y_train, X_test, y_test, plot = True, ret = False):\n",
        "  '''\n",
        "  if you put ret to True it will return the following tupple:\n",
        "    (accuracy_train, accuracy_test, precision_train, precision_test, recall_train, recall_test, f1_train, f1_test)\n",
        "  '''\n",
        "  pred_train = estimator.predict(X_train)\n",
        "  pred_test = estimator.predict(X_test)\n",
        "\n",
        "  accuracy_train = accuracy_score(y_train, pred_train)\n",
        "  accuracy_test = accuracy_score(y_test, pred_test)\n",
        "\n",
        "  precision_train = precision_score(y_train, pred_train, average = 'macro')\n",
        "  precision_test = precision_score(y_test, pred_test, average = 'macro')\n",
        "\n",
        "  recall_train = recall_score(y_train, pred_train, average = 'macro')\n",
        "  recall_test = recall_score(y_test, pred_test, average = 'macro')\n",
        "\n",
        "  f1_train = f1_score(y_train, pred_train, average = 'macro')\n",
        "  f1_test = f1_score(y_test, pred_test, average = 'macro')\n",
        "\n",
        "  if ret:\n",
        "    return (accuracy_train, accuracy_test, precision_train, precision_test, recall_train, recall_test,\n",
        "            f1_train, f1_test)\n",
        "\n",
        "  else :\n",
        "    print(\"accuracy on train = {:.3f}%\".format(accuracy_train*100))\n",
        "    print(\"accuracy on test = {:.3f}%\".format(accuracy_test*100))\n",
        "\n",
        "    print(\"\\n\")\n",
        "\n",
        "    print(\"precision(macro) on train = {:.4f}\".format(precision_train))\n",
        "    print(\"precision(macro) on test = {:.4f}\".format(precision_test))\n",
        "\n",
        "    print(\"\\n\")\n",
        "\n",
        "    print(\"recall(macro) on train = {:.4f}\".format(recall_train))\n",
        "    print(\"recall(macro) on test = {:.4f}\".format(recall_test))\n",
        "\n",
        "    print(\"\\n\")\n",
        "\n",
        "    print(\"f1(macro) on train = {:.4f}\".format(f1_train))\n",
        "    print(\"f1(macro) on test = {:.4f}\".format(f1_test))\n",
        "\n",
        "    print(\"\\n\")\n",
        "\n",
        "  if plot:\n",
        "    disp = ConfusionMatrixDisplay(confusion_matrix(y_test, pred_test),\n",
        "                      display_labels = np.unique(y_test))\n",
        "    fig, ax = plt.subplots(figsize=(8, 8))\n",
        "    disp.plot(ax=ax, cmap = 'rocket')\n",
        "    plt.show()"
      ]
    },
    {
      "cell_type": "markdown",
      "metadata": {
        "id": "I7JvAR1eo5DZ"
      },
      "source": [
        "# Pipeline"
      ]
    },
    {
      "cell_type": "code",
      "execution_count": 18,
      "metadata": {
        "id": "cAYIe5AmllLF"
      },
      "outputs": [],
      "source": [
        "from sklearn.preprocessing import StandardScaler\n",
        "from sklearn.decomposition import TruncatedSVD\n",
        "from sklearn.pipeline import Pipeline\n",
        "from sklearn.model_selection import GridSearchCV\n",
        "from sklearn.naive_bayes import GaussianNB\n",
        "from sklearn.linear_model import LogisticRegression\n",
        "from sklearn.svm import SVC\n",
        "\n",
        "scaler = StandardScaler()\n",
        "svd = TruncatedSVD(random_state = 1)\n",
        "naive_bayes = GaussianNB()\n",
        "log_reg = LogisticRegression(random_state = 1, max_iter = 500, penalty = 'l2')\n",
        "svm = SVC(random_state = 1)\n",
        "\n",
        "pipe_naive_bayes = Pipeline(steps=[(\"svd\", svd) , (\"naive_bayes\", naive_bayes)])\n",
        "pipe_log_reg = Pipeline(steps=[(\"scaler\", scaler), (\"svd\", svd) , (\"log_reg\", log_reg)])\n",
        "pipe_svm = Pipeline(steps=[(\"scaler\", scaler), (\"svd\", svd) , (\"svm\", svm)])"
      ]
    },
    {
      "cell_type": "code",
      "execution_count": 19,
      "metadata": {
        "colab": {
          "base_uri": "https://localhost:8080/"
        },
        "id": "lptCM-IgrtPU",
        "outputId": "3afc56c9-f4f5-404c-c169-b00345bb6c18"
      },
      "outputs": [
        {
          "output_type": "execute_result",
          "data": {
            "text/plain": [
              "real-estate           0.407004\n",
              "electronic-devices    0.199222\n",
              "home-kitchen          0.196887\n",
              "vehicles              0.196887\n",
              "Name: cat1, dtype: float64"
            ]
          },
          "metadata": {},
          "execution_count": 19
        }
      ],
      "source": [
        "y_train.value_counts() / y_train.value_counts().sum()"
      ]
    },
    {
      "cell_type": "code",
      "execution_count": 31,
      "metadata": {
        "id": "BSGVF6XYm86S"
      },
      "outputs": [],
      "source": [
        "params_naive_bayes = {\n",
        "    \"svd__n_components\": [100, 250 ,500],\n",
        "}\n",
        "\n",
        "params_log_reg = {\n",
        "    \"svd__n_components\": [100, 250 ,500],\n",
        "    \"log_reg__C\": [0.1, 1, 10],\n",
        "    \"log_reg__class_weight\": [None, 'balanced']\n",
        "}\n",
        "\n",
        "params_svm = {\n",
        "    \"svd__n_components\": [100, 250 ,500],\n",
        "    'svm__C': [0.1, 1, 10],\n",
        "    'svm__gamma': [0.1, 1, 10],\n",
        "    'svm__kernel': ['linear', 'poly'], # rbf is not good for this\n",
        "    \"svm__class_weight\": [None, 'balanced']\n",
        "}"
      ]
    },
    {
      "cell_type": "code",
      "execution_count": 21,
      "metadata": {
        "colab": {
          "base_uri": "https://localhost:8080/",
          "height": 430
        },
        "id": "wmiqfVfLrGqt",
        "outputId": "65996652-f8ba-4618-df86-16a8ad5bab2b"
      },
      "outputs": [
        {
          "output_type": "stream",
          "name": "stdout",
          "text": [
            "Fitting 5 folds for each of 3 candidates, totalling 15 fits\n",
            "[CV 1/5] END .............svd__n_components=100;, score=0.918 total time=   3.4s\n",
            "[CV 2/5] END .............svd__n_components=100;, score=0.899 total time=   3.1s\n",
            "[CV 3/5] END .............svd__n_components=100;, score=0.856 total time=   2.8s\n",
            "[CV 4/5] END .............svd__n_components=100;, score=0.930 total time=   3.2s\n",
            "[CV 5/5] END .............svd__n_components=100;, score=0.938 total time=   2.2s\n",
            "[CV 1/5] END .............svd__n_components=250;, score=0.626 total time=   4.0s\n",
            "[CV 2/5] END .............svd__n_components=250;, score=0.732 total time=   4.3s\n",
            "[CV 3/5] END .............svd__n_components=250;, score=0.634 total time=   8.1s\n",
            "[CV 4/5] END .............svd__n_components=250;, score=0.545 total time=   7.9s\n",
            "[CV 5/5] END .............svd__n_components=250;, score=0.860 total time=   6.1s\n",
            "[CV 1/5] END .............svd__n_components=500;, score=0.381 total time=   8.2s\n",
            "[CV 2/5] END .............svd__n_components=500;, score=0.428 total time=   7.7s\n",
            "[CV 3/5] END .............svd__n_components=500;, score=0.385 total time=   8.8s\n",
            "[CV 4/5] END .............svd__n_components=500;, score=0.370 total time=   7.6s\n",
            "[CV 5/5] END .............svd__n_components=500;, score=0.374 total time=   8.7s\n"
          ]
        },
        {
          "output_type": "execute_result",
          "data": {
            "text/plain": [
              "GridSearchCV(cv=5,\n",
              "             estimator=Pipeline(steps=[('svd', TruncatedSVD(random_state=1)),\n",
              "                                       ('naive_bayes', GaussianNB())]),\n",
              "             param_grid={'svd__n_components': [100, 250, 500]}, verbose=5)"
            ],
            "text/html": [
              "<style>#sk-container-id-1 {color: black;background-color: white;}#sk-container-id-1 pre{padding: 0;}#sk-container-id-1 div.sk-toggleable {background-color: white;}#sk-container-id-1 label.sk-toggleable__label {cursor: pointer;display: block;width: 100%;margin-bottom: 0;padding: 0.3em;box-sizing: border-box;text-align: center;}#sk-container-id-1 label.sk-toggleable__label-arrow:before {content: \"▸\";float: left;margin-right: 0.25em;color: #696969;}#sk-container-id-1 label.sk-toggleable__label-arrow:hover:before {color: black;}#sk-container-id-1 div.sk-estimator:hover label.sk-toggleable__label-arrow:before {color: black;}#sk-container-id-1 div.sk-toggleable__content {max-height: 0;max-width: 0;overflow: hidden;text-align: left;background-color: #f0f8ff;}#sk-container-id-1 div.sk-toggleable__content pre {margin: 0.2em;color: black;border-radius: 0.25em;background-color: #f0f8ff;}#sk-container-id-1 input.sk-toggleable__control:checked~div.sk-toggleable__content {max-height: 200px;max-width: 100%;overflow: auto;}#sk-container-id-1 input.sk-toggleable__control:checked~label.sk-toggleable__label-arrow:before {content: \"▾\";}#sk-container-id-1 div.sk-estimator input.sk-toggleable__control:checked~label.sk-toggleable__label {background-color: #d4ebff;}#sk-container-id-1 div.sk-label input.sk-toggleable__control:checked~label.sk-toggleable__label {background-color: #d4ebff;}#sk-container-id-1 input.sk-hidden--visually {border: 0;clip: rect(1px 1px 1px 1px);clip: rect(1px, 1px, 1px, 1px);height: 1px;margin: -1px;overflow: hidden;padding: 0;position: absolute;width: 1px;}#sk-container-id-1 div.sk-estimator {font-family: monospace;background-color: #f0f8ff;border: 1px dotted black;border-radius: 0.25em;box-sizing: border-box;margin-bottom: 0.5em;}#sk-container-id-1 div.sk-estimator:hover {background-color: #d4ebff;}#sk-container-id-1 div.sk-parallel-item::after {content: \"\";width: 100%;border-bottom: 1px solid gray;flex-grow: 1;}#sk-container-id-1 div.sk-label:hover label.sk-toggleable__label {background-color: #d4ebff;}#sk-container-id-1 div.sk-serial::before {content: \"\";position: absolute;border-left: 1px solid gray;box-sizing: border-box;top: 0;bottom: 0;left: 50%;z-index: 0;}#sk-container-id-1 div.sk-serial {display: flex;flex-direction: column;align-items: center;background-color: white;padding-right: 0.2em;padding-left: 0.2em;position: relative;}#sk-container-id-1 div.sk-item {position: relative;z-index: 1;}#sk-container-id-1 div.sk-parallel {display: flex;align-items: stretch;justify-content: center;background-color: white;position: relative;}#sk-container-id-1 div.sk-item::before, #sk-container-id-1 div.sk-parallel-item::before {content: \"\";position: absolute;border-left: 1px solid gray;box-sizing: border-box;top: 0;bottom: 0;left: 50%;z-index: -1;}#sk-container-id-1 div.sk-parallel-item {display: flex;flex-direction: column;z-index: 1;position: relative;background-color: white;}#sk-container-id-1 div.sk-parallel-item:first-child::after {align-self: flex-end;width: 50%;}#sk-container-id-1 div.sk-parallel-item:last-child::after {align-self: flex-start;width: 50%;}#sk-container-id-1 div.sk-parallel-item:only-child::after {width: 0;}#sk-container-id-1 div.sk-dashed-wrapped {border: 1px dashed gray;margin: 0 0.4em 0.5em 0.4em;box-sizing: border-box;padding-bottom: 0.4em;background-color: white;}#sk-container-id-1 div.sk-label label {font-family: monospace;font-weight: bold;display: inline-block;line-height: 1.2em;}#sk-container-id-1 div.sk-label-container {text-align: center;}#sk-container-id-1 div.sk-container {/* jupyter's `normalize.less` sets `[hidden] { display: none; }` but bootstrap.min.css set `[hidden] { display: none !important; }` so we also need the `!important` here to be able to override the default hidden behavior on the sphinx rendered scikit-learn.org. See: https://github.com/scikit-learn/scikit-learn/issues/21755 */display: inline-block !important;position: relative;}#sk-container-id-1 div.sk-text-repr-fallback {display: none;}</style><div id=\"sk-container-id-1\" class=\"sk-top-container\"><div class=\"sk-text-repr-fallback\"><pre>GridSearchCV(cv=5,\n",
              "             estimator=Pipeline(steps=[(&#x27;svd&#x27;, TruncatedSVD(random_state=1)),\n",
              "                                       (&#x27;naive_bayes&#x27;, GaussianNB())]),\n",
              "             param_grid={&#x27;svd__n_components&#x27;: [100, 250, 500]}, verbose=5)</pre><b>In a Jupyter environment, please rerun this cell to show the HTML representation or trust the notebook. <br />On GitHub, the HTML representation is unable to render, please try loading this page with nbviewer.org.</b></div><div class=\"sk-container\" hidden><div class=\"sk-item sk-dashed-wrapped\"><div class=\"sk-label-container\"><div class=\"sk-label sk-toggleable\"><input class=\"sk-toggleable__control sk-hidden--visually\" id=\"sk-estimator-id-1\" type=\"checkbox\" ><label for=\"sk-estimator-id-1\" class=\"sk-toggleable__label sk-toggleable__label-arrow\">GridSearchCV</label><div class=\"sk-toggleable__content\"><pre>GridSearchCV(cv=5,\n",
              "             estimator=Pipeline(steps=[(&#x27;svd&#x27;, TruncatedSVD(random_state=1)),\n",
              "                                       (&#x27;naive_bayes&#x27;, GaussianNB())]),\n",
              "             param_grid={&#x27;svd__n_components&#x27;: [100, 250, 500]}, verbose=5)</pre></div></div></div><div class=\"sk-parallel\"><div class=\"sk-parallel-item\"><div class=\"sk-item\"><div class=\"sk-label-container\"><div class=\"sk-label sk-toggleable\"><input class=\"sk-toggleable__control sk-hidden--visually\" id=\"sk-estimator-id-2\" type=\"checkbox\" ><label for=\"sk-estimator-id-2\" class=\"sk-toggleable__label sk-toggleable__label-arrow\">estimator: Pipeline</label><div class=\"sk-toggleable__content\"><pre>Pipeline(steps=[(&#x27;svd&#x27;, TruncatedSVD(random_state=1)),\n",
              "                (&#x27;naive_bayes&#x27;, GaussianNB())])</pre></div></div></div><div class=\"sk-serial\"><div class=\"sk-item\"><div class=\"sk-serial\"><div class=\"sk-item\"><div class=\"sk-estimator sk-toggleable\"><input class=\"sk-toggleable__control sk-hidden--visually\" id=\"sk-estimator-id-3\" type=\"checkbox\" ><label for=\"sk-estimator-id-3\" class=\"sk-toggleable__label sk-toggleable__label-arrow\">TruncatedSVD</label><div class=\"sk-toggleable__content\"><pre>TruncatedSVD(random_state=1)</pre></div></div></div><div class=\"sk-item\"><div class=\"sk-estimator sk-toggleable\"><input class=\"sk-toggleable__control sk-hidden--visually\" id=\"sk-estimator-id-4\" type=\"checkbox\" ><label for=\"sk-estimator-id-4\" class=\"sk-toggleable__label sk-toggleable__label-arrow\">GaussianNB</label><div class=\"sk-toggleable__content\"><pre>GaussianNB()</pre></div></div></div></div></div></div></div></div></div></div></div></div>"
            ]
          },
          "metadata": {},
          "execution_count": 21
        }
      ],
      "source": [
        "grid_search_naive_bayes = GridSearchCV(pipe_naive_bayes, params_naive_bayes, cv=5, verbose = 5)\n",
        "grid_search_naive_bayes.fit(X_train_tf_idf, y_train)"
      ]
    },
    {
      "cell_type": "code",
      "execution_count": 22,
      "metadata": {
        "colab": {
          "base_uri": "https://localhost:8080/"
        },
        "id": "odfYZoQ-0bIe",
        "outputId": "a782a9f0-218f-4168-a01b-738bf80547d5"
      },
      "outputs": [
        {
          "output_type": "execute_result",
          "data": {
            "text/plain": [
              "(0.9081712062256809, {'svd__n_components': 100})"
            ]
          },
          "metadata": {},
          "execution_count": 22
        }
      ],
      "source": [
        "grid_search_naive_bayes.best_score_, grid_search_naive_bayes.best_params_"
      ]
    },
    {
      "cell_type": "code",
      "execution_count": 23,
      "metadata": {
        "colab": {
          "base_uri": "https://localhost:8080/",
          "height": 126
        },
        "id": "F-S5VP67Qe1G",
        "outputId": "32a5f2c8-d4a0-4f7c-c635-9228f90a0a86"
      },
      "outputs": [
        {
          "output_type": "execute_result",
          "data": {
            "text/plain": [
              "Pipeline(steps=[('svd', TruncatedSVD(n_components=100, random_state=1)),\n",
              "                ('naive_bayes', GaussianNB())])"
            ],
            "text/html": [
              "<style>#sk-container-id-2 {color: black;background-color: white;}#sk-container-id-2 pre{padding: 0;}#sk-container-id-2 div.sk-toggleable {background-color: white;}#sk-container-id-2 label.sk-toggleable__label {cursor: pointer;display: block;width: 100%;margin-bottom: 0;padding: 0.3em;box-sizing: border-box;text-align: center;}#sk-container-id-2 label.sk-toggleable__label-arrow:before {content: \"▸\";float: left;margin-right: 0.25em;color: #696969;}#sk-container-id-2 label.sk-toggleable__label-arrow:hover:before {color: black;}#sk-container-id-2 div.sk-estimator:hover label.sk-toggleable__label-arrow:before {color: black;}#sk-container-id-2 div.sk-toggleable__content {max-height: 0;max-width: 0;overflow: hidden;text-align: left;background-color: #f0f8ff;}#sk-container-id-2 div.sk-toggleable__content pre {margin: 0.2em;color: black;border-radius: 0.25em;background-color: #f0f8ff;}#sk-container-id-2 input.sk-toggleable__control:checked~div.sk-toggleable__content {max-height: 200px;max-width: 100%;overflow: auto;}#sk-container-id-2 input.sk-toggleable__control:checked~label.sk-toggleable__label-arrow:before {content: \"▾\";}#sk-container-id-2 div.sk-estimator input.sk-toggleable__control:checked~label.sk-toggleable__label {background-color: #d4ebff;}#sk-container-id-2 div.sk-label input.sk-toggleable__control:checked~label.sk-toggleable__label {background-color: #d4ebff;}#sk-container-id-2 input.sk-hidden--visually {border: 0;clip: rect(1px 1px 1px 1px);clip: rect(1px, 1px, 1px, 1px);height: 1px;margin: -1px;overflow: hidden;padding: 0;position: absolute;width: 1px;}#sk-container-id-2 div.sk-estimator {font-family: monospace;background-color: #f0f8ff;border: 1px dotted black;border-radius: 0.25em;box-sizing: border-box;margin-bottom: 0.5em;}#sk-container-id-2 div.sk-estimator:hover {background-color: #d4ebff;}#sk-container-id-2 div.sk-parallel-item::after {content: \"\";width: 100%;border-bottom: 1px solid gray;flex-grow: 1;}#sk-container-id-2 div.sk-label:hover label.sk-toggleable__label {background-color: #d4ebff;}#sk-container-id-2 div.sk-serial::before {content: \"\";position: absolute;border-left: 1px solid gray;box-sizing: border-box;top: 0;bottom: 0;left: 50%;z-index: 0;}#sk-container-id-2 div.sk-serial {display: flex;flex-direction: column;align-items: center;background-color: white;padding-right: 0.2em;padding-left: 0.2em;position: relative;}#sk-container-id-2 div.sk-item {position: relative;z-index: 1;}#sk-container-id-2 div.sk-parallel {display: flex;align-items: stretch;justify-content: center;background-color: white;position: relative;}#sk-container-id-2 div.sk-item::before, #sk-container-id-2 div.sk-parallel-item::before {content: \"\";position: absolute;border-left: 1px solid gray;box-sizing: border-box;top: 0;bottom: 0;left: 50%;z-index: -1;}#sk-container-id-2 div.sk-parallel-item {display: flex;flex-direction: column;z-index: 1;position: relative;background-color: white;}#sk-container-id-2 div.sk-parallel-item:first-child::after {align-self: flex-end;width: 50%;}#sk-container-id-2 div.sk-parallel-item:last-child::after {align-self: flex-start;width: 50%;}#sk-container-id-2 div.sk-parallel-item:only-child::after {width: 0;}#sk-container-id-2 div.sk-dashed-wrapped {border: 1px dashed gray;margin: 0 0.4em 0.5em 0.4em;box-sizing: border-box;padding-bottom: 0.4em;background-color: white;}#sk-container-id-2 div.sk-label label {font-family: monospace;font-weight: bold;display: inline-block;line-height: 1.2em;}#sk-container-id-2 div.sk-label-container {text-align: center;}#sk-container-id-2 div.sk-container {/* jupyter's `normalize.less` sets `[hidden] { display: none; }` but bootstrap.min.css set `[hidden] { display: none !important; }` so we also need the `!important` here to be able to override the default hidden behavior on the sphinx rendered scikit-learn.org. See: https://github.com/scikit-learn/scikit-learn/issues/21755 */display: inline-block !important;position: relative;}#sk-container-id-2 div.sk-text-repr-fallback {display: none;}</style><div id=\"sk-container-id-2\" class=\"sk-top-container\"><div class=\"sk-text-repr-fallback\"><pre>Pipeline(steps=[(&#x27;svd&#x27;, TruncatedSVD(n_components=100, random_state=1)),\n",
              "                (&#x27;naive_bayes&#x27;, GaussianNB())])</pre><b>In a Jupyter environment, please rerun this cell to show the HTML representation or trust the notebook. <br />On GitHub, the HTML representation is unable to render, please try loading this page with nbviewer.org.</b></div><div class=\"sk-container\" hidden><div class=\"sk-item sk-dashed-wrapped\"><div class=\"sk-label-container\"><div class=\"sk-label sk-toggleable\"><input class=\"sk-toggleable__control sk-hidden--visually\" id=\"sk-estimator-id-5\" type=\"checkbox\" ><label for=\"sk-estimator-id-5\" class=\"sk-toggleable__label sk-toggleable__label-arrow\">Pipeline</label><div class=\"sk-toggleable__content\"><pre>Pipeline(steps=[(&#x27;svd&#x27;, TruncatedSVD(n_components=100, random_state=1)),\n",
              "                (&#x27;naive_bayes&#x27;, GaussianNB())])</pre></div></div></div><div class=\"sk-serial\"><div class=\"sk-item\"><div class=\"sk-estimator sk-toggleable\"><input class=\"sk-toggleable__control sk-hidden--visually\" id=\"sk-estimator-id-6\" type=\"checkbox\" ><label for=\"sk-estimator-id-6\" class=\"sk-toggleable__label sk-toggleable__label-arrow\">TruncatedSVD</label><div class=\"sk-toggleable__content\"><pre>TruncatedSVD(n_components=100, random_state=1)</pre></div></div></div><div class=\"sk-item\"><div class=\"sk-estimator sk-toggleable\"><input class=\"sk-toggleable__control sk-hidden--visually\" id=\"sk-estimator-id-7\" type=\"checkbox\" ><label for=\"sk-estimator-id-7\" class=\"sk-toggleable__label sk-toggleable__label-arrow\">GaussianNB</label><div class=\"sk-toggleable__content\"><pre>GaussianNB()</pre></div></div></div></div></div></div></div>"
            ]
          },
          "metadata": {},
          "execution_count": 23
        }
      ],
      "source": [
        "tuned_naive_bayes = Pipeline(steps=[(\"svd\", TruncatedSVD(random_state = 1, n_components = 100)) ,\n",
        "                (\"naive_bayes\", GaussianNB())])\n",
        "tuned_naive_bayes.fit(X_train_tf_idf, y_train)"
      ]
    },
    {
      "cell_type": "code",
      "execution_count": 25,
      "metadata": {
        "colab": {
          "base_uri": "https://localhost:8080/",
          "height": 939
        },
        "id": "zr34Pu2hVyJh",
        "outputId": "2f9aaf26-4444-4b41-e742-ea22c972b472"
      },
      "outputs": [
        {
          "output_type": "stream",
          "name": "stdout",
          "text": [
            "accuracy on train = 92.685%\n",
            "accuracy on test = 92.308%\n",
            "\n",
            "\n",
            "precision(macro) on train = 0.9126\n",
            "precision(macro) on test = 0.9137\n",
            "\n",
            "\n",
            "recall(macro) on train = 0.9182\n",
            "recall(macro) on test = 0.9188\n",
            "\n",
            "\n",
            "f1(macro) on train = 0.9146\n",
            "f1(macro) on test = 0.9146\n",
            "\n",
            "\n"
          ]
        },
        {
          "output_type": "display_data",
          "data": {
            "text/plain": [
              "<Figure size 800x800 with 2 Axes>"
            ],
            "image/png": "[encoded data removed]"
          },
          "metadata": {}
        }
      ],
      "source": [
        "metrics_report(tuned_naive_bayes, X_train_tf_idf, y_train, X_test_tf_idf, y_test, plot = True, ret = False)"
      ]
    },
    {
      "cell_type": "code",
      "execution_count": 26,
      "metadata": {
        "colab": {
          "base_uri": "https://localhost:8080/",
          "height": 1000
        },
        "id": "7aP7i2d0tQDB",
        "outputId": "0cca59a7-acd3-4bd9-d4c2-db5c30f5c32e"
      },
      "outputs": [
        {
          "output_type": "stream",
          "name": "stdout",
          "text": [
            "Fitting 5 folds for each of 18 candidates, totalling 90 fits\n",
            "[CV 1/5] END log_reg__C=0.1, log_reg__class_weight=None, svd__n_components=100;, score=0.891 total time=   2.8s\n",
            "[CV 2/5] END log_reg__C=0.1, log_reg__class_weight=None, svd__n_components=100;, score=0.930 total time=   3.5s\n",
            "[CV 3/5] END log_reg__C=0.1, log_reg__class_weight=None, svd__n_components=100;, score=0.899 total time=   2.4s\n",
            "[CV 4/5] END log_reg__C=0.1, log_reg__class_weight=None, svd__n_components=100;, score=0.911 total time=   2.4s\n",
            "[CV 5/5] END log_reg__C=0.1, log_reg__class_weight=None, svd__n_components=100;, score=0.895 total time=   2.5s\n",
            "[CV 1/5] END log_reg__C=0.1, log_reg__class_weight=None, svd__n_components=250;, score=0.926 total time=   7.5s\n",
            "[CV 2/5] END log_reg__C=0.1, log_reg__class_weight=None, svd__n_components=250;, score=0.949 total time=   6.6s\n",
            "[CV 3/5] END log_reg__C=0.1, log_reg__class_weight=None, svd__n_components=250;, score=0.934 total time=   9.4s\n",
            "[CV 4/5] END log_reg__C=0.1, log_reg__class_weight=None, svd__n_components=250;, score=0.934 total time=   7.4s\n",
            "[CV 5/5] END log_reg__C=0.1, log_reg__class_weight=None, svd__n_components=250;, score=0.926 total time=   9.4s\n",
            "[CV 1/5] END log_reg__C=0.1, log_reg__class_weight=None, svd__n_components=500;, score=0.946 total time=  16.6s\n",
            "[CV 2/5] END log_reg__C=0.1, log_reg__class_weight=None, svd__n_components=500;, score=0.961 total time=  14.4s\n",
            "[CV 3/5] END log_reg__C=0.1, log_reg__class_weight=None, svd__n_components=500;, score=0.953 total time=  11.3s\n",
            "[CV 4/5] END log_reg__C=0.1, log_reg__class_weight=None, svd__n_components=500;, score=0.946 total time=  14.5s\n",
            "[CV 5/5] END log_reg__C=0.1, log_reg__class_weight=None, svd__n_components=500;, score=0.969 total time=  14.5s\n",
            "[CV 1/5] END log_reg__C=0.1, log_reg__class_weight=balanced, svd__n_components=100;, score=0.875 total time=   4.1s\n",
            "[CV 2/5] END log_reg__C=0.1, log_reg__class_weight=balanced, svd__n_components=100;, score=0.922 total time=   5.6s\n",
            "[CV 3/5] END log_reg__C=0.1, log_reg__class_weight=balanced, svd__n_components=100;, score=0.903 total time=   4.2s\n",
            "[CV 4/5] END log_reg__C=0.1, log_reg__class_weight=balanced, svd__n_components=100;, score=0.911 total time=   4.1s\n",
            "[CV 5/5] END log_reg__C=0.1, log_reg__class_weight=balanced, svd__n_components=100;, score=0.895 total time=   4.0s\n",
            "[CV 1/5] END log_reg__C=0.1, log_reg__class_weight=balanced, svd__n_components=250;, score=0.930 total time=   7.9s\n",
            "[CV 2/5] END log_reg__C=0.1, log_reg__class_weight=balanced, svd__n_components=250;, score=0.949 total time=   8.0s\n",
            "[CV 3/5] END log_reg__C=0.1, log_reg__class_weight=balanced, svd__n_components=250;, score=0.942 total time=   6.5s\n",
            "[CV 4/5] END log_reg__C=0.1, log_reg__class_weight=balanced, svd__n_components=250;, score=0.934 total time=   8.5s\n",
            "[CV 5/5] END log_reg__C=0.1, log_reg__class_weight=balanced, svd__n_components=250;, score=0.918 total time=   6.4s\n",
            "[CV 1/5] END log_reg__C=0.1, log_reg__class_weight=balanced, svd__n_components=500;, score=0.942 total time=  11.4s\n",
            "[CV 2/5] END log_reg__C=0.1, log_reg__class_weight=balanced, svd__n_components=500;, score=0.957 total time=   8.7s\n",
            "[CV 3/5] END log_reg__C=0.1, log_reg__class_weight=balanced, svd__n_components=500;, score=0.953 total time=   7.9s\n",
            "[CV 4/5] END log_reg__C=0.1, log_reg__class_weight=balanced, svd__n_components=500;, score=0.953 total time=   9.3s\n",
            "[CV 5/5] END log_reg__C=0.1, log_reg__class_weight=balanced, svd__n_components=500;, score=0.969 total time=   7.6s\n",
            "[CV 1/5] END log_reg__C=1, log_reg__class_weight=None, svd__n_components=100;, score=0.887 total time=   3.9s\n",
            "[CV 2/5] END log_reg__C=1, log_reg__class_weight=None, svd__n_components=100;, score=0.926 total time=   2.7s\n",
            "[CV 3/5] END log_reg__C=1, log_reg__class_weight=None, svd__n_components=100;, score=0.883 total time=   2.5s\n",
            "[CV 4/5] END log_reg__C=1, log_reg__class_weight=None, svd__n_components=100;, score=0.895 total time=   2.6s\n",
            "[CV 5/5] END log_reg__C=1, log_reg__class_weight=None, svd__n_components=100;, score=0.887 total time=   2.8s\n",
            "[CV 1/5] END log_reg__C=1, log_reg__class_weight=None, svd__n_components=250;, score=0.911 total time=   5.7s\n",
            "[CV 2/5] END log_reg__C=1, log_reg__class_weight=None, svd__n_components=250;, score=0.946 total time=   4.3s\n",
            "[CV 3/5] END log_reg__C=1, log_reg__class_weight=None, svd__n_components=250;, score=0.926 total time=   4.8s\n",
            "[CV 4/5] END log_reg__C=1, log_reg__class_weight=None, svd__n_components=250;, score=0.926 total time=   5.3s\n",
            "[CV 5/5] END log_reg__C=1, log_reg__class_weight=None, svd__n_components=250;, score=0.914 total time=   4.3s\n",
            "[CV 1/5] END log_reg__C=1, log_reg__class_weight=None, svd__n_components=500;, score=0.942 total time=   9.3s\n",
            "[CV 2/5] END log_reg__C=1, log_reg__class_weight=None, svd__n_components=500;, score=0.957 total time=   8.9s\n",
            "[CV 3/5] END log_reg__C=1, log_reg__class_weight=None, svd__n_components=500;, score=0.953 total time=   8.9s\n",
            "[CV 4/5] END log_reg__C=1, log_reg__class_weight=None, svd__n_components=500;, score=0.946 total time=  10.0s\n",
            "[CV 5/5] END log_reg__C=1, log_reg__class_weight=None, svd__n_components=500;, score=0.957 total time=   7.7s\n",
            "[CV 1/5] END log_reg__C=1, log_reg__class_weight=balanced, svd__n_components=100;, score=0.887 total time=   3.8s\n",
            "[CV 2/5] END log_reg__C=1, log_reg__class_weight=balanced, svd__n_components=100;, score=0.914 total time=   2.9s\n",
            "[CV 3/5] END log_reg__C=1, log_reg__class_weight=balanced, svd__n_components=100;, score=0.883 total time=   2.6s\n",
            "[CV 4/5] END log_reg__C=1, log_reg__class_weight=balanced, svd__n_components=100;, score=0.887 total time=   2.6s\n",
            "[CV 5/5] END log_reg__C=1, log_reg__class_weight=balanced, svd__n_components=100;, score=0.887 total time=   2.6s\n",
            "[CV 1/5] END log_reg__C=1, log_reg__class_weight=balanced, svd__n_components=250;, score=0.914 total time=   5.9s\n",
            "[CV 2/5] END log_reg__C=1, log_reg__class_weight=balanced, svd__n_components=250;, score=0.949 total time=   4.2s\n",
            "[CV 3/5] END log_reg__C=1, log_reg__class_weight=balanced, svd__n_components=250;, score=0.930 total time=   4.6s\n",
            "[CV 4/5] END log_reg__C=1, log_reg__class_weight=balanced, svd__n_components=250;, score=0.930 total time=   5.6s\n",
            "[CV 5/5] END log_reg__C=1, log_reg__class_weight=balanced, svd__n_components=250;, score=0.922 total time=   4.3s\n",
            "[CV 1/5] END log_reg__C=1, log_reg__class_weight=balanced, svd__n_components=500;, score=0.942 total time=   9.3s\n",
            "[CV 2/5] END log_reg__C=1, log_reg__class_weight=balanced, svd__n_components=500;, score=0.953 total time=   7.7s\n",
            "[CV 3/5] END log_reg__C=1, log_reg__class_weight=balanced, svd__n_components=500;, score=0.949 total time=   9.4s\n",
            "[CV 4/5] END log_reg__C=1, log_reg__class_weight=balanced, svd__n_components=500;, score=0.942 total time=  10.2s\n",
            "[CV 5/5] END log_reg__C=1, log_reg__class_weight=balanced, svd__n_components=500;, score=0.957 total time=   7.8s\n",
            "[CV 1/5] END log_reg__C=10, log_reg__class_weight=None, svd__n_components=100;, score=0.879 total time=   3.8s\n",
            "[CV 2/5] END log_reg__C=10, log_reg__class_weight=None, svd__n_components=100;, score=0.891 total time=   3.5s\n",
            "[CV 3/5] END log_reg__C=10, log_reg__class_weight=None, svd__n_components=100;, score=0.895 total time=   3.3s\n",
            "[CV 4/5] END log_reg__C=10, log_reg__class_weight=None, svd__n_components=100;, score=0.883 total time=   2.7s\n",
            "[CV 5/5] END log_reg__C=10, log_reg__class_weight=None, svd__n_components=100;, score=0.879 total time=   3.3s\n",
            "[CV 1/5] END log_reg__C=10, log_reg__class_weight=None, svd__n_components=250;, score=0.899 total time=   5.6s\n",
            "[CV 2/5] END log_reg__C=10, log_reg__class_weight=None, svd__n_components=250;, score=0.946 total time=   4.4s\n",
            "[CV 3/5] END log_reg__C=10, log_reg__class_weight=None, svd__n_components=250;, score=0.918 total time=   5.6s\n",
            "[CV 4/5] END log_reg__C=10, log_reg__class_weight=None, svd__n_components=250;, score=0.922 total time=   5.1s\n",
            "[CV 5/5] END log_reg__C=10, log_reg__class_weight=None, svd__n_components=250;, score=0.918 total time=   4.5s\n",
            "[CV 1/5] END log_reg__C=10, log_reg__class_weight=None, svd__n_components=500;, score=0.942 total time=   9.7s\n",
            "[CV 2/5] END log_reg__C=10, log_reg__class_weight=None, svd__n_components=500;, score=0.946 total time=   9.2s\n",
            "[CV 3/5] END log_reg__C=10, log_reg__class_weight=None, svd__n_components=500;, score=0.949 total time=   8.4s\n",
            "[CV 4/5] END log_reg__C=10, log_reg__class_weight=None, svd__n_components=500;, score=0.938 total time=   9.6s\n",
            "[CV 5/5] END log_reg__C=10, log_reg__class_weight=None, svd__n_components=500;, score=0.949 total time=   8.9s\n",
            "[CV 1/5] END log_reg__C=10, log_reg__class_weight=balanced, svd__n_components=100;, score=0.883 total time=   3.5s\n"
          ]
        },
        {
          "output_type": "stream",
          "name": "stderr",
          "text": [
            "/usr/local/lib/python3.10/dist-packages/sklearn/linear_model/_logistic.py:458: ConvergenceWarning: lbfgs failed to converge (status=1):\n",
            "STOP: TOTAL NO. of ITERATIONS REACHED LIMIT.\n",
            "\n",
            "Increase the number of iterations (max_iter) or scale the data as shown in:\n",
            "    https://scikit-learn.org/stable/modules/preprocessing.html\n",
            "Please also refer to the documentation for alternative solver options:\n",
            "    https://scikit-learn.org/stable/modules/linear_model.html#logistic-regression\n",
            "  n_iter_i = _check_optimize_result(\n"
          ]
        },
        {
          "output_type": "stream",
          "name": "stdout",
          "text": [
            "[CV 2/5] END log_reg__C=10, log_reg__class_weight=balanced, svd__n_components=100;, score=0.891 total time=   2.8s\n",
            "[CV 3/5] END log_reg__C=10, log_reg__class_weight=balanced, svd__n_components=100;, score=0.895 total time=   3.5s\n",
            "[CV 4/5] END log_reg__C=10, log_reg__class_weight=balanced, svd__n_components=100;, score=0.879 total time=   3.7s\n",
            "[CV 5/5] END log_reg__C=10, log_reg__class_weight=balanced, svd__n_components=100;, score=0.879 total time=   3.8s\n",
            "[CV 1/5] END log_reg__C=10, log_reg__class_weight=balanced, svd__n_components=250;, score=0.891 total time=   4.4s\n",
            "[CV 2/5] END log_reg__C=10, log_reg__class_weight=balanced, svd__n_components=250;, score=0.946 total time=   4.5s\n",
            "[CV 3/5] END log_reg__C=10, log_reg__class_weight=balanced, svd__n_components=250;, score=0.922 total time=   6.6s\n",
            "[CV 4/5] END log_reg__C=10, log_reg__class_weight=balanced, svd__n_components=250;, score=0.922 total time=   4.4s\n",
            "[CV 5/5] END log_reg__C=10, log_reg__class_weight=balanced, svd__n_components=250;, score=0.918 total time=   5.7s\n",
            "[CV 1/5] END log_reg__C=10, log_reg__class_weight=balanced, svd__n_components=500;, score=0.942 total time=   8.2s\n",
            "[CV 2/5] END log_reg__C=10, log_reg__class_weight=balanced, svd__n_components=500;, score=0.942 total time=   9.7s\n",
            "[CV 3/5] END log_reg__C=10, log_reg__class_weight=balanced, svd__n_components=500;, score=0.949 total time=   8.7s\n",
            "[CV 4/5] END log_reg__C=10, log_reg__class_weight=balanced, svd__n_components=500;, score=0.938 total time=   8.9s\n",
            "[CV 5/5] END log_reg__C=10, log_reg__class_weight=balanced, svd__n_components=500;, score=0.949 total time=   9.8s\n"
          ]
        },
        {
          "output_type": "execute_result",
          "data": {
            "text/plain": [
              "GridSearchCV(cv=5,\n",
              "             estimator=Pipeline(steps=[('scaler', StandardScaler()),\n",
              "                                       ('svd', TruncatedSVD(random_state=1)),\n",
              "                                       ('log_reg',\n",
              "                                        LogisticRegression(max_iter=500,\n",
              "                                                           random_state=1))]),\n",
              "             param_grid={'log_reg__C': [0.1, 1, 10],\n",
              "                         'log_reg__class_weight': [None, 'balanced'],\n",
              "                         'svd__n_components': [100, 250, 500]},\n",
              "             verbose=5)"
            ],
            "text/html": [
              "<style>#sk-container-id-3 {color: black;background-color: white;}#sk-container-id-3 pre{padding: 0;}#sk-container-id-3 div.sk-toggleable {background-color: white;}#sk-container-id-3 label.sk-toggleable__label {cursor: pointer;display: block;width: 100%;margin-bottom: 0;padding: 0.3em;box-sizing: border-box;text-align: center;}#sk-container-id-3 label.sk-toggleable__label-arrow:before {content: \"▸\";float: left;margin-right: 0.25em;color: #696969;}#sk-container-id-3 label.sk-toggleable__label-arrow:hover:before {color: black;}#sk-container-id-3 div.sk-estimator:hover label.sk-toggleable__label-arrow:before {color: black;}#sk-container-id-3 div.sk-toggleable__content {max-height: 0;max-width: 0;overflow: hidden;text-align: left;background-color: #f0f8ff;}#sk-container-id-3 div.sk-toggleable__content pre {margin: 0.2em;color: black;border-radius: 0.25em;background-color: #f0f8ff;}#sk-container-id-3 input.sk-toggleable__control:checked~div.sk-toggleable__content {max-height: 200px;max-width: 100%;overflow: auto;}#sk-container-id-3 input.sk-toggleable__control:checked~label.sk-toggleable__label-arrow:before {content: \"▾\";}#sk-container-id-3 div.sk-estimator input.sk-toggleable__control:checked~label.sk-toggleable__label {background-color: #d4ebff;}#sk-container-id-3 div.sk-label input.sk-toggleable__control:checked~label.sk-toggleable__label {background-color: #d4ebff;}#sk-container-id-3 input.sk-hidden--visually {border: 0;clip: rect(1px 1px 1px 1px);clip: rect(1px, 1px, 1px, 1px);height: 1px;margin: -1px;overflow: hidden;padding: 0;position: absolute;width: 1px;}#sk-container-id-3 div.sk-estimator {font-family: monospace;background-color: #f0f8ff;border: 1px dotted black;border-radius: 0.25em;box-sizing: border-box;margin-bottom: 0.5em;}#sk-container-id-3 div.sk-estimator:hover {background-color: #d4ebff;}#sk-container-id-3 div.sk-parallel-item::after {content: \"\";width: 100%;border-bottom: 1px solid gray;flex-grow: 1;}#sk-container-id-3 div.sk-label:hover label.sk-toggleable__label {background-color: #d4ebff;}#sk-container-id-3 div.sk-serial::before {content: \"\";position: absolute;border-left: 1px solid gray;box-sizing: border-box;top: 0;bottom: 0;left: 50%;z-index: 0;}#sk-container-id-3 div.sk-serial {display: flex;flex-direction: column;align-items: center;background-color: white;padding-right: 0.2em;padding-left: 0.2em;position: relative;}#sk-container-id-3 div.sk-item {position: relative;z-index: 1;}#sk-container-id-3 div.sk-parallel {display: flex;align-items: stretch;justify-content: center;background-color: white;position: relative;}#sk-container-id-3 div.sk-item::before, #sk-container-id-3 div.sk-parallel-item::before {content: \"\";position: absolute;border-left: 1px solid gray;box-sizing: border-box;top: 0;bottom: 0;left: 50%;z-index: -1;}#sk-container-id-3 div.sk-parallel-item {display: flex;flex-direction: column;z-index: 1;position: relative;background-color: white;}#sk-container-id-3 div.sk-parallel-item:first-child::after {align-self: flex-end;width: 50%;}#sk-container-id-3 div.sk-parallel-item:last-child::after {align-self: flex-start;width: 50%;}#sk-container-id-3 div.sk-parallel-item:only-child::after {width: 0;}#sk-container-id-3 div.sk-dashed-wrapped {border: 1px dashed gray;margin: 0 0.4em 0.5em 0.4em;box-sizing: border-box;padding-bottom: 0.4em;background-color: white;}#sk-container-id-3 div.sk-label label {font-family: monospace;font-weight: bold;display: inline-block;line-height: 1.2em;}#sk-container-id-3 div.sk-label-container {text-align: center;}#sk-container-id-3 div.sk-container {/* jupyter's `normalize.less` sets `[hidden] { display: none; }` but bootstrap.min.css set `[hidden] { display: none !important; }` so we also need the `!important` here to be able to override the default hidden behavior on the sphinx rendered scikit-learn.org. See: https://github.com/scikit-learn/scikit-learn/issues/21755 */display: inline-block !important;position: relative;}#sk-container-id-3 div.sk-text-repr-fallback {display: none;}</style><div id=\"sk-container-id-3\" class=\"sk-top-container\"><div class=\"sk-text-repr-fallback\"><pre>GridSearchCV(cv=5,\n",
              "             estimator=Pipeline(steps=[(&#x27;scaler&#x27;, StandardScaler()),\n",
              "                                       (&#x27;svd&#x27;, TruncatedSVD(random_state=1)),\n",
              "                                       (&#x27;log_reg&#x27;,\n",
              "                                        LogisticRegression(max_iter=500,\n",
              "                                                           random_state=1))]),\n",
              "             param_grid={&#x27;log_reg__C&#x27;: [0.1, 1, 10],\n",
              "                         &#x27;log_reg__class_weight&#x27;: [None, &#x27;balanced&#x27;],\n",
              "                         &#x27;svd__n_components&#x27;: [100, 250, 500]},\n",
              "             verbose=5)</pre><b>In a Jupyter environment, please rerun this cell to show the HTML representation or trust the notebook. <br />On GitHub, the HTML representation is unable to render, please try loading this page with nbviewer.org.</b></div><div class=\"sk-container\" hidden><div class=\"sk-item sk-dashed-wrapped\"><div class=\"sk-label-container\"><div class=\"sk-label sk-toggleable\"><input class=\"sk-toggleable__control sk-hidden--visually\" id=\"sk-estimator-id-8\" type=\"checkbox\" ><label for=\"sk-estimator-id-8\" class=\"sk-toggleable__label sk-toggleable__label-arrow\">GridSearchCV</label><div class=\"sk-toggleable__content\"><pre>GridSearchCV(cv=5,\n",
              "             estimator=Pipeline(steps=[(&#x27;scaler&#x27;, StandardScaler()),\n",
              "                                       (&#x27;svd&#x27;, TruncatedSVD(random_state=1)),\n",
              "                                       (&#x27;log_reg&#x27;,\n",
              "                                        LogisticRegression(max_iter=500,\n",
              "                                                           random_state=1))]),\n",
              "             param_grid={&#x27;log_reg__C&#x27;: [0.1, 1, 10],\n",
              "                         &#x27;log_reg__class_weight&#x27;: [None, &#x27;balanced&#x27;],\n",
              "                         &#x27;svd__n_components&#x27;: [100, 250, 500]},\n",
              "             verbose=5)</pre></div></div></div><div class=\"sk-parallel\"><div class=\"sk-parallel-item\"><div class=\"sk-item\"><div class=\"sk-label-container\"><div class=\"sk-label sk-toggleable\"><input class=\"sk-toggleable__control sk-hidden--visually\" id=\"sk-estimator-id-9\" type=\"checkbox\" ><label for=\"sk-estimator-id-9\" class=\"sk-toggleable__label sk-toggleable__label-arrow\">estimator: Pipeline</label><div class=\"sk-toggleable__content\"><pre>Pipeline(steps=[(&#x27;scaler&#x27;, StandardScaler()),\n",
              "                (&#x27;svd&#x27;, TruncatedSVD(random_state=1)),\n",
              "                (&#x27;log_reg&#x27;, LogisticRegression(max_iter=500, random_state=1))])</pre></div></div></div><div class=\"sk-serial\"><div class=\"sk-item\"><div class=\"sk-serial\"><div class=\"sk-item\"><div class=\"sk-estimator sk-toggleable\"><input class=\"sk-toggleable__control sk-hidden--visually\" id=\"sk-estimator-id-10\" type=\"checkbox\" ><label for=\"sk-estimator-id-10\" class=\"sk-toggleable__label sk-toggleable__label-arrow\">StandardScaler</label><div class=\"sk-toggleable__content\"><pre>StandardScaler()</pre></div></div></div><div class=\"sk-item\"><div class=\"sk-estimator sk-toggleable\"><input class=\"sk-toggleable__control sk-hidden--visually\" id=\"sk-estimator-id-11\" type=\"checkbox\" ><label for=\"sk-estimator-id-11\" class=\"sk-toggleable__label sk-toggleable__label-arrow\">TruncatedSVD</label><div class=\"sk-toggleable__content\"><pre>TruncatedSVD(random_state=1)</pre></div></div></div><div class=\"sk-item\"><div class=\"sk-estimator sk-toggleable\"><input class=\"sk-toggleable__control sk-hidden--visually\" id=\"sk-estimator-id-12\" type=\"checkbox\" ><label for=\"sk-estimator-id-12\" class=\"sk-toggleable__label sk-toggleable__label-arrow\">LogisticRegression</label><div class=\"sk-toggleable__content\"><pre>LogisticRegression(max_iter=500, random_state=1)</pre></div></div></div></div></div></div></div></div></div></div></div></div>"
            ]
          },
          "metadata": {},
          "execution_count": 26
        }
      ],
      "source": [
        "grid_search_log_reg = GridSearchCV(pipe_log_reg, params_log_reg, cv=5, verbose = 5)\n",
        "grid_search_log_reg.fit(X_train_tf_idf, y_train)"
      ]
    },
    {
      "cell_type": "code",
      "execution_count": 27,
      "metadata": {
        "id": "WrTYFL2z4Uht",
        "colab": {
          "base_uri": "https://localhost:8080/"
        },
        "outputId": "4f1a220f-8dd1-4dc0-e688-706fa9a317b0"
      },
      "outputs": [
        {
          "output_type": "execute_result",
          "data": {
            "text/plain": [
              "(0.9548638132295719,\n",
              " {'log_reg__C': 0.1, 'log_reg__class_weight': None, 'svd__n_components': 500})"
            ]
          },
          "metadata": {},
          "execution_count": 27
        }
      ],
      "source": [
        "grid_search_log_reg.best_score_, grid_search_log_reg.best_params_"
      ]
    },
    {
      "cell_type": "code",
      "source": [
        "tuned_log_reg = Pipeline(steps=[(\"scaler\", StandardScaler()), (\"svd\", TruncatedSVD(random_state = 1, n_components = 500)) ,\n",
        "                                (\"log_reg\", LogisticRegression(random_state = 1, max_iter = 500, penalty = 'l2',\n",
        "                                                               C = 0.1, class_weight = None))])\n",
        "tuned_log_reg.fit(X_train_tf_idf, y_train)"
      ],
      "metadata": {
        "colab": {
          "base_uri": "https://localhost:8080/",
          "height": 161
        },
        "id": "Z1n259b2D_vy",
        "outputId": "0fef269e-4d2e-4221-992b-4055a1b4bebc"
      },
      "execution_count": 28,
      "outputs": [
        {
          "output_type": "execute_result",
          "data": {
            "text/plain": [
              "Pipeline(steps=[('scaler', StandardScaler()),\n",
              "                ('svd', TruncatedSVD(n_components=500, random_state=1)),\n",
              "                ('log_reg',\n",
              "                 LogisticRegression(C=0.1, max_iter=500, random_state=1))])"
            ],
            "text/html": [
              "<style>#sk-container-id-4 {color: black;background-color: white;}#sk-container-id-4 pre{padding: 0;}#sk-container-id-4 div.sk-toggleable {background-color: white;}#sk-container-id-4 label.sk-toggleable__label {cursor: pointer;display: block;width: 100%;margin-bottom: 0;padding: 0.3em;box-sizing: border-box;text-align: center;}#sk-container-id-4 label.sk-toggleable__label-arrow:before {content: \"▸\";float: left;margin-right: 0.25em;color: #696969;}#sk-container-id-4 label.sk-toggleable__label-arrow:hover:before {color: black;}#sk-container-id-4 div.sk-estimator:hover label.sk-toggleable__label-arrow:before {color: black;}#sk-container-id-4 div.sk-toggleable__content {max-height: 0;max-width: 0;overflow: hidden;text-align: left;background-color: #f0f8ff;}#sk-container-id-4 div.sk-toggleable__content pre {margin: 0.2em;color: black;border-radius: 0.25em;background-color: #f0f8ff;}#sk-container-id-4 input.sk-toggleable__control:checked~div.sk-toggleable__content {max-height: 200px;max-width: 100%;overflow: auto;}#sk-container-id-4 input.sk-toggleable__control:checked~label.sk-toggleable__label-arrow:before {content: \"▾\";}#sk-container-id-4 div.sk-estimator input.sk-toggleable__control:checked~label.sk-toggleable__label {background-color: #d4ebff;}#sk-container-id-4 div.sk-label input.sk-toggleable__control:checked~label.sk-toggleable__label {background-color: #d4ebff;}#sk-container-id-4 input.sk-hidden--visually {border: 0;clip: rect(1px 1px 1px 1px);clip: rect(1px, 1px, 1px, 1px);height: 1px;margin: -1px;overflow: hidden;padding: 0;position: absolute;width: 1px;}#sk-container-id-4 div.sk-estimator {font-family: monospace;background-color: #f0f8ff;border: 1px dotted black;border-radius: 0.25em;box-sizing: border-box;margin-bottom: 0.5em;}#sk-container-id-4 div.sk-estimator:hover {background-color: #d4ebff;}#sk-container-id-4 div.sk-parallel-item::after {content: \"\";width: 100%;border-bottom: 1px solid gray;flex-grow: 1;}#sk-container-id-4 div.sk-label:hover label.sk-toggleable__label {background-color: #d4ebff;}#sk-container-id-4 div.sk-serial::before {content: \"\";position: absolute;border-left: 1px solid gray;box-sizing: border-box;top: 0;bottom: 0;left: 50%;z-index: 0;}#sk-container-id-4 div.sk-serial {display: flex;flex-direction: column;align-items: center;background-color: white;padding-right: 0.2em;padding-left: 0.2em;position: relative;}#sk-container-id-4 div.sk-item {position: relative;z-index: 1;}#sk-container-id-4 div.sk-parallel {display: flex;align-items: stretch;justify-content: center;background-color: white;position: relative;}#sk-container-id-4 div.sk-item::before, #sk-container-id-4 div.sk-parallel-item::before {content: \"\";position: absolute;border-left: 1px solid gray;box-sizing: border-box;top: 0;bottom: 0;left: 50%;z-index: -1;}#sk-container-id-4 div.sk-parallel-item {display: flex;flex-direction: column;z-index: 1;position: relative;background-color: white;}#sk-container-id-4 div.sk-parallel-item:first-child::after {align-self: flex-end;width: 50%;}#sk-container-id-4 div.sk-parallel-item:last-child::after {align-self: flex-start;width: 50%;}#sk-container-id-4 div.sk-parallel-item:only-child::after {width: 0;}#sk-container-id-4 div.sk-dashed-wrapped {border: 1px dashed gray;margin: 0 0.4em 0.5em 0.4em;box-sizing: border-box;padding-bottom: 0.4em;background-color: white;}#sk-container-id-4 div.sk-label label {font-family: monospace;font-weight: bold;display: inline-block;line-height: 1.2em;}#sk-container-id-4 div.sk-label-container {text-align: center;}#sk-container-id-4 div.sk-container {/* jupyter's `normalize.less` sets `[hidden] { display: none; }` but bootstrap.min.css set `[hidden] { display: none !important; }` so we also need the `!important` here to be able to override the default hidden behavior on the sphinx rendered scikit-learn.org. See: https://github.com/scikit-learn/scikit-learn/issues/21755 */display: inline-block !important;position: relative;}#sk-container-id-4 div.sk-text-repr-fallback {display: none;}</style><div id=\"sk-container-id-4\" class=\"sk-top-container\"><div class=\"sk-text-repr-fallback\"><pre>Pipeline(steps=[(&#x27;scaler&#x27;, StandardScaler()),\n",
              "                (&#x27;svd&#x27;, TruncatedSVD(n_components=500, random_state=1)),\n",
              "                (&#x27;log_reg&#x27;,\n",
              "                 LogisticRegression(C=0.1, max_iter=500, random_state=1))])</pre><b>In a Jupyter environment, please rerun this cell to show the HTML representation or trust the notebook. <br />On GitHub, the HTML representation is unable to render, please try loading this page with nbviewer.org.</b></div><div class=\"sk-container\" hidden><div class=\"sk-item sk-dashed-wrapped\"><div class=\"sk-label-container\"><div class=\"sk-label sk-toggleable\"><input class=\"sk-toggleable__control sk-hidden--visually\" id=\"sk-estimator-id-13\" type=\"checkbox\" ><label for=\"sk-estimator-id-13\" class=\"sk-toggleable__label sk-toggleable__label-arrow\">Pipeline</label><div class=\"sk-toggleable__content\"><pre>Pipeline(steps=[(&#x27;scaler&#x27;, StandardScaler()),\n",
              "                (&#x27;svd&#x27;, TruncatedSVD(n_components=500, random_state=1)),\n",
              "                (&#x27;log_reg&#x27;,\n",
              "                 LogisticRegression(C=0.1, max_iter=500, random_state=1))])</pre></div></div></div><div class=\"sk-serial\"><div class=\"sk-item\"><div class=\"sk-estimator sk-toggleable\"><input class=\"sk-toggleable__control sk-hidden--visually\" id=\"sk-estimator-id-14\" type=\"checkbox\" ><label for=\"sk-estimator-id-14\" class=\"sk-toggleable__label sk-toggleable__label-arrow\">StandardScaler</label><div class=\"sk-toggleable__content\"><pre>StandardScaler()</pre></div></div></div><div class=\"sk-item\"><div class=\"sk-estimator sk-toggleable\"><input class=\"sk-toggleable__control sk-hidden--visually\" id=\"sk-estimator-id-15\" type=\"checkbox\" ><label for=\"sk-estimator-id-15\" class=\"sk-toggleable__label sk-toggleable__label-arrow\">TruncatedSVD</label><div class=\"sk-toggleable__content\"><pre>TruncatedSVD(n_components=500, random_state=1)</pre></div></div></div><div class=\"sk-item\"><div class=\"sk-estimator sk-toggleable\"><input class=\"sk-toggleable__control sk-hidden--visually\" id=\"sk-estimator-id-16\" type=\"checkbox\" ><label for=\"sk-estimator-id-16\" class=\"sk-toggleable__label sk-toggleable__label-arrow\">LogisticRegression</label><div class=\"sk-toggleable__content\"><pre>LogisticRegression(C=0.1, max_iter=500, random_state=1)</pre></div></div></div></div></div></div></div>"
            ]
          },
          "metadata": {},
          "execution_count": 28
        }
      ]
    },
    {
      "cell_type": "code",
      "execution_count": 29,
      "metadata": {
        "id": "zIpIDO_QQMaG",
        "colab": {
          "base_uri": "https://localhost:8080/",
          "height": 939
        },
        "outputId": "4a5bd27d-ddac-4428-92ce-d0e76c839bd5"
      },
      "outputs": [
        {
          "output_type": "stream",
          "name": "stdout",
          "text": [
            "accuracy on train = 99.533%\n",
            "accuracy on test = 91.608%\n",
            "\n",
            "\n",
            "precision(macro) on train = 0.9946\n",
            "precision(macro) on test = 0.9129\n",
            "\n",
            "\n",
            "recall(macro) on train = 0.9941\n",
            "recall(macro) on test = 0.9133\n",
            "\n",
            "\n",
            "f1(macro) on train = 0.9943\n",
            "f1(macro) on test = 0.9075\n",
            "\n",
            "\n"
          ]
        },
        {
          "output_type": "display_data",
          "data": {
            "text/plain": [
              "<Figure size 800x800 with 2 Axes>"
            ],
            "image/png": "[encoded data removed]"
          },
          "metadata": {}
        }
      ],
      "source": [
        "metrics_report(tuned_log_reg, X_train_tf_idf, y_train, X_test_tf_idf, y_test, plot = True, ret = False)"
      ]
    },
    {
      "cell_type": "code",
      "source": [
        "grid_search_svm = GridSearchCV(pipe_svm, params_svm, cv=5, verbose = 5)\n",
        "grid_search_svm.fit(X_train_tf_idf, y_train)"
      ],
      "metadata": {
        "colab": {
          "base_uri": "https://localhost:8080/",
          "height": 1000
        },
        "id": "d_AbZgfKGfSv",
        "outputId": "b72c85a7-9971-4fac-cfda-f65836b8908a"
      },
      "execution_count": 33,
      "outputs": [
        {
          "output_type": "stream",
          "name": "stdout",
          "text": [
            "Fitting 5 folds for each of 108 candidates, totalling 540 fits\n",
            "[CV 1/5] END svd__n_components=100, svm__C=0.1, svm__class_weight=None, svm__gamma=0.1, svm__kernel=linear;, score=0.872 total time=   3.5s\n",
            "[CV 2/5] END svd__n_components=100, svm__C=0.1, svm__class_weight=None, svm__gamma=0.1, svm__kernel=linear;, score=0.907 total time=   3.7s\n",
            "[CV 3/5] END svd__n_components=100, svm__C=0.1, svm__class_weight=None, svm__gamma=0.1, svm__kernel=linear;, score=0.899 total time=   3.0s\n",
            "[CV 4/5] END svd__n_components=100, svm__C=0.1, svm__class_weight=None, svm__gamma=0.1, svm__kernel=linear;, score=0.895 total time=   3.0s\n",
            "[CV 5/5] END svd__n_components=100, svm__C=0.1, svm__class_weight=None, svm__gamma=0.1, svm__kernel=linear;, score=0.875 total time=   2.8s\n",
            "[CV 1/5] END svd__n_components=100, svm__C=0.1, svm__class_weight=None, svm__gamma=0.1, svm__kernel=poly;, score=0.852 total time=   3.6s\n",
            "[CV 2/5] END svd__n_components=100, svm__C=0.1, svm__class_weight=None, svm__gamma=0.1, svm__kernel=poly;, score=0.879 total time=   2.4s\n",
            "[CV 3/5] END svd__n_components=100, svm__C=0.1, svm__class_weight=None, svm__gamma=0.1, svm__kernel=poly;, score=0.848 total time=   2.4s\n",
            "[CV 4/5] END svd__n_components=100, svm__C=0.1, svm__class_weight=None, svm__gamma=0.1, svm__kernel=poly;, score=0.856 total time=   2.3s\n",
            "[CV 5/5] END svd__n_components=100, svm__C=0.1, svm__class_weight=None, svm__gamma=0.1, svm__kernel=poly;, score=0.840 total time=   2.4s\n",
            "[CV 1/5] END svd__n_components=100, svm__C=0.1, svm__class_weight=None, svm__gamma=1, svm__kernel=linear;, score=0.872 total time=   3.5s\n",
            "[CV 2/5] END svd__n_components=100, svm__C=0.1, svm__class_weight=None, svm__gamma=1, svm__kernel=linear;, score=0.907 total time=   2.8s\n",
            "[CV 3/5] END svd__n_components=100, svm__C=0.1, svm__class_weight=None, svm__gamma=1, svm__kernel=linear;, score=0.899 total time=   2.4s\n",
            "[CV 4/5] END svd__n_components=100, svm__C=0.1, svm__class_weight=None, svm__gamma=1, svm__kernel=linear;, score=0.895 total time=   2.4s\n",
            "[CV 5/5] END svd__n_components=100, svm__C=0.1, svm__class_weight=None, svm__gamma=1, svm__kernel=linear;, score=0.875 total time=   2.3s\n",
            "[CV 1/5] END svd__n_components=100, svm__C=0.1, svm__class_weight=None, svm__gamma=1, svm__kernel=poly;, score=0.786 total time=   2.9s\n",
            "[CV 2/5] END svd__n_components=100, svm__C=0.1, svm__class_weight=None, svm__gamma=1, svm__kernel=poly;, score=0.840 total time=   3.1s\n",
            "[CV 3/5] END svd__n_components=100, svm__C=0.1, svm__class_weight=None, svm__gamma=1, svm__kernel=poly;, score=0.790 total time=   2.5s\n",
            "[CV 4/5] END svd__n_components=100, svm__C=0.1, svm__class_weight=None, svm__gamma=1, svm__kernel=poly;, score=0.794 total time=   2.4s\n",
            "[CV 5/5] END svd__n_components=100, svm__C=0.1, svm__class_weight=None, svm__gamma=1, svm__kernel=poly;, score=0.821 total time=   2.4s\n",
            "[CV 1/5] END svd__n_components=100, svm__C=0.1, svm__class_weight=None, svm__gamma=10, svm__kernel=linear;, score=0.872 total time=   2.6s\n",
            "[CV 2/5] END svd__n_components=100, svm__C=0.1, svm__class_weight=None, svm__gamma=10, svm__kernel=linear;, score=0.907 total time=   3.4s\n",
            "[CV 3/5] END svd__n_components=100, svm__C=0.1, svm__class_weight=None, svm__gamma=10, svm__kernel=linear;, score=0.899 total time=   2.5s\n",
            "[CV 4/5] END svd__n_components=100, svm__C=0.1, svm__class_weight=None, svm__gamma=10, svm__kernel=linear;, score=0.895 total time=   2.4s\n",
            "[CV 5/5] END svd__n_components=100, svm__C=0.1, svm__class_weight=None, svm__gamma=10, svm__kernel=linear;, score=0.875 total time=   2.4s\n",
            "[CV 1/5] END svd__n_components=100, svm__C=0.1, svm__class_weight=None, svm__gamma=10, svm__kernel=poly;, score=0.786 total time=   2.4s\n",
            "[CV 2/5] END svd__n_components=100, svm__C=0.1, svm__class_weight=None, svm__gamma=10, svm__kernel=poly;, score=0.840 total time=   3.4s\n",
            "[CV 3/5] END svd__n_components=100, svm__C=0.1, svm__class_weight=None, svm__gamma=10, svm__kernel=poly;, score=0.790 total time=   2.8s\n",
            "[CV 4/5] END svd__n_components=100, svm__C=0.1, svm__class_weight=None, svm__gamma=10, svm__kernel=poly;, score=0.794 total time=   3.0s\n",
            "[CV 5/5] END svd__n_components=100, svm__C=0.1, svm__class_weight=None, svm__gamma=10, svm__kernel=poly;, score=0.821 total time=   2.4s\n",
            "[CV 1/5] END svd__n_components=100, svm__C=0.1, svm__class_weight=balanced, svm__gamma=0.1, svm__kernel=linear;, score=0.868 total time=   2.4s\n",
            "[CV 2/5] END svd__n_components=100, svm__C=0.1, svm__class_weight=balanced, svm__gamma=0.1, svm__kernel=linear;, score=0.911 total time=   3.1s\n",
            "[CV 3/5] END svd__n_components=100, svm__C=0.1, svm__class_weight=balanced, svm__gamma=0.1, svm__kernel=linear;, score=0.903 total time=   3.0s\n",
            "[CV 4/5] END svd__n_components=100, svm__C=0.1, svm__class_weight=balanced, svm__gamma=0.1, svm__kernel=linear;, score=0.895 total time=   2.4s\n",
            "[CV 5/5] END svd__n_components=100, svm__C=0.1, svm__class_weight=balanced, svm__gamma=0.1, svm__kernel=linear;, score=0.872 total time=   2.4s\n",
            "[CV 1/5] END svd__n_components=100, svm__C=0.1, svm__class_weight=balanced, svm__gamma=0.1, svm__kernel=poly;, score=0.852 total time=   2.4s\n",
            "[CV 2/5] END svd__n_components=100, svm__C=0.1, svm__class_weight=balanced, svm__gamma=0.1, svm__kernel=poly;, score=0.872 total time=   2.8s\n",
            "[CV 3/5] END svd__n_components=100, svm__C=0.1, svm__class_weight=balanced, svm__gamma=0.1, svm__kernel=poly;, score=0.837 total time=   3.4s\n",
            "[CV 4/5] END svd__n_components=100, svm__C=0.1, svm__class_weight=balanced, svm__gamma=0.1, svm__kernel=poly;, score=0.872 total time=   2.4s\n",
            "[CV 5/5] END svd__n_components=100, svm__C=0.1, svm__class_weight=balanced, svm__gamma=0.1, svm__kernel=poly;, score=0.829 total time=   2.4s\n",
            "[CV 1/5] END svd__n_components=100, svm__C=0.1, svm__class_weight=balanced, svm__gamma=1, svm__kernel=linear;, score=0.868 total time=   2.3s\n",
            "[CV 2/5] END svd__n_components=100, svm__C=0.1, svm__class_weight=balanced, svm__gamma=1, svm__kernel=linear;, score=0.911 total time=   2.4s\n",
            "[CV 3/5] END svd__n_components=100, svm__C=0.1, svm__class_weight=balanced, svm__gamma=1, svm__kernel=linear;, score=0.903 total time=   3.7s\n",
            "[CV 4/5] END svd__n_components=100, svm__C=0.1, svm__class_weight=balanced, svm__gamma=1, svm__kernel=linear;, score=0.895 total time=   2.8s\n",
            "[CV 5/5] END svd__n_components=100, svm__C=0.1, svm__class_weight=balanced, svm__gamma=1, svm__kernel=linear;, score=0.872 total time=   2.5s\n",
            "[CV 1/5] END svd__n_components=100, svm__C=0.1, svm__class_weight=balanced, svm__gamma=1, svm__kernel=poly;, score=0.786 total time=   2.5s\n",
            "[CV 2/5] END svd__n_components=100, svm__C=0.1, svm__class_weight=balanced, svm__gamma=1, svm__kernel=poly;, score=0.840 total time=   2.4s\n",
            "[CV 3/5] END svd__n_components=100, svm__C=0.1, svm__class_weight=balanced, svm__gamma=1, svm__kernel=poly;, score=0.790 total time=   3.6s\n",
            "[CV 4/5] END svd__n_components=100, svm__C=0.1, svm__class_weight=balanced, svm__gamma=1, svm__kernel=poly;, score=0.794 total time=   2.7s\n",
            "[CV 5/5] END svd__n_components=100, svm__C=0.1, svm__class_weight=balanced, svm__gamma=1, svm__kernel=poly;, score=0.821 total time=   2.4s\n",
            "[CV 1/5] END svd__n_components=100, svm__C=0.1, svm__class_weight=balanced, svm__gamma=10, svm__kernel=linear;, score=0.868 total time=   2.4s\n",
            "[CV 2/5] END svd__n_components=100, svm__C=0.1, svm__class_weight=balanced, svm__gamma=10, svm__kernel=linear;, score=0.911 total time=   2.4s\n",
            "[CV 3/5] END svd__n_components=100, svm__C=0.1, svm__class_weight=balanced, svm__gamma=10, svm__kernel=linear;, score=0.903 total time=   3.1s\n",
            "[CV 4/5] END svd__n_components=100, svm__C=0.1, svm__class_weight=balanced, svm__gamma=10, svm__kernel=linear;, score=0.895 total time=   3.0s\n",
            "[CV 5/5] END svd__n_components=100, svm__C=0.1, svm__class_weight=balanced, svm__gamma=10, svm__kernel=linear;, score=0.872 total time=   2.4s\n",
            "[CV 1/5] END svd__n_components=100, svm__C=0.1, svm__class_weight=balanced, svm__gamma=10, svm__kernel=poly;, score=0.786 total time=   2.4s\n",
            "[CV 2/5] END svd__n_components=100, svm__C=0.1, svm__class_weight=balanced, svm__gamma=10, svm__kernel=poly;, score=0.840 total time=   2.5s\n",
            "[CV 3/5] END svd__n_components=100, svm__C=0.1, svm__class_weight=balanced, svm__gamma=10, svm__kernel=poly;, score=0.790 total time=   2.9s\n",
            "[CV 4/5] END svd__n_components=100, svm__C=0.1, svm__class_weight=balanced, svm__gamma=10, svm__kernel=poly;, score=0.794 total time=   3.3s\n",
            "[CV 5/5] END svd__n_components=100, svm__C=0.1, svm__class_weight=balanced, svm__gamma=10, svm__kernel=poly;, score=0.821 total time=   2.4s\n",
            "[CV 1/5] END svd__n_components=100, svm__C=1, svm__class_weight=None, svm__gamma=0.1, svm__kernel=linear;, score=0.883 total time=   2.4s\n",
            "[CV 2/5] END svd__n_components=100, svm__C=1, svm__class_weight=None, svm__gamma=0.1, svm__kernel=linear;, score=0.883 total time=   2.4s\n",
            "[CV 3/5] END svd__n_components=100, svm__C=1, svm__class_weight=None, svm__gamma=0.1, svm__kernel=linear;, score=0.887 total time=   2.5s\n",
            "[CV 4/5] END svd__n_components=100, svm__C=1, svm__class_weight=None, svm__gamma=0.1, svm__kernel=linear;, score=0.852 total time=   3.7s\n",
            "[CV 5/5] END svd__n_components=100, svm__C=1, svm__class_weight=None, svm__gamma=0.1, svm__kernel=linear;, score=0.844 total time=   2.4s\n",
            "[CV 1/5] END svd__n_components=100, svm__C=1, svm__class_weight=None, svm__gamma=0.1, svm__kernel=poly;, score=0.837 total time=   2.4s\n",
            "[CV 2/5] END svd__n_components=100, svm__C=1, svm__class_weight=None, svm__gamma=0.1, svm__kernel=poly;, score=0.852 total time=   2.5s\n",
            "[CV 3/5] END svd__n_components=100, svm__C=1, svm__class_weight=None, svm__gamma=0.1, svm__kernel=poly;, score=0.840 total time=   2.4s\n",
            "[CV 4/5] END svd__n_components=100, svm__C=1, svm__class_weight=None, svm__gamma=0.1, svm__kernel=poly;, score=0.821 total time=   4.5s\n",
            "[CV 5/5] END svd__n_components=100, svm__C=1, svm__class_weight=None, svm__gamma=0.1, svm__kernel=poly;, score=0.837 total time=   2.4s\n",
            "[CV 1/5] END svd__n_components=100, svm__C=1, svm__class_weight=None, svm__gamma=1, svm__kernel=linear;, score=0.883 total time=   2.4s\n",
            "[CV 2/5] END svd__n_components=100, svm__C=1, svm__class_weight=None, svm__gamma=1, svm__kernel=linear;, score=0.883 total time=   2.4s\n",
            "[CV 3/5] END svd__n_components=100, svm__C=1, svm__class_weight=None, svm__gamma=1, svm__kernel=linear;, score=0.887 total time=   2.4s\n",
            "[CV 4/5] END svd__n_components=100, svm__C=1, svm__class_weight=None, svm__gamma=1, svm__kernel=linear;, score=0.852 total time=   3.4s\n",
            "[CV 5/5] END svd__n_components=100, svm__C=1, svm__class_weight=None, svm__gamma=1, svm__kernel=linear;, score=0.844 total time=   2.7s\n",
            "[CV 1/5] END svd__n_components=100, svm__C=1, svm__class_weight=None, svm__gamma=1, svm__kernel=poly;, score=0.786 total time=   2.4s\n",
            "[CV 2/5] END svd__n_components=100, svm__C=1, svm__class_weight=None, svm__gamma=1, svm__kernel=poly;, score=0.840 total time=   2.4s\n",
            "[CV 3/5] END svd__n_components=100, svm__C=1, svm__class_weight=None, svm__gamma=1, svm__kernel=poly;, score=0.790 total time=   2.4s\n",
            "[CV 4/5] END svd__n_components=100, svm__C=1, svm__class_weight=None, svm__gamma=1, svm__kernel=poly;, score=0.794 total time=   3.1s\n",
            "[CV 5/5] END svd__n_components=100, svm__C=1, svm__class_weight=None, svm__gamma=1, svm__kernel=poly;, score=0.821 total time=   2.8s\n",
            "[CV 1/5] END svd__n_components=100, svm__C=1, svm__class_weight=None, svm__gamma=10, svm__kernel=linear;, score=0.883 total time=   2.5s\n",
            "[CV 2/5] END svd__n_components=100, svm__C=1, svm__class_weight=None, svm__gamma=10, svm__kernel=linear;, score=0.883 total time=   2.4s\n",
            "[CV 3/5] END svd__n_components=100, svm__C=1, svm__class_weight=None, svm__gamma=10, svm__kernel=linear;, score=0.887 total time=   2.4s\n",
            "[CV 4/5] END svd__n_components=100, svm__C=1, svm__class_weight=None, svm__gamma=10, svm__kernel=linear;, score=0.852 total time=   2.8s\n",
            "[CV 5/5] END svd__n_components=100, svm__C=1, svm__class_weight=None, svm__gamma=10, svm__kernel=linear;, score=0.844 total time=   3.3s\n",
            "[CV 1/5] END svd__n_components=100, svm__C=1, svm__class_weight=None, svm__gamma=10, svm__kernel=poly;, score=0.786 total time=   2.4s\n",
            "[CV 2/5] END svd__n_components=100, svm__C=1, svm__class_weight=None, svm__gamma=10, svm__kernel=poly;, score=0.840 total time=   2.4s\n",
            "[CV 3/5] END svd__n_components=100, svm__C=1, svm__class_weight=None, svm__gamma=10, svm__kernel=poly;, score=0.790 total time=   2.4s\n",
            "[CV 4/5] END svd__n_components=100, svm__C=1, svm__class_weight=None, svm__gamma=10, svm__kernel=poly;, score=0.794 total time=   2.6s\n",
            "[CV 5/5] END svd__n_components=100, svm__C=1, svm__class_weight=None, svm__gamma=10, svm__kernel=poly;, score=0.821 total time=   3.5s\n",
            "[CV 1/5] END svd__n_components=100, svm__C=1, svm__class_weight=balanced, svm__gamma=0.1, svm__kernel=linear;, score=0.879 total time=   2.5s\n",
            "[CV 2/5] END svd__n_components=100, svm__C=1, svm__class_weight=balanced, svm__gamma=0.1, svm__kernel=linear;, score=0.864 total time=   2.4s\n",
            "[CV 3/5] END svd__n_components=100, svm__C=1, svm__class_weight=balanced, svm__gamma=0.1, svm__kernel=linear;, score=0.895 total time=   2.4s\n",
            "[CV 4/5] END svd__n_components=100, svm__C=1, svm__class_weight=balanced, svm__gamma=0.1, svm__kernel=linear;, score=0.856 total time=   2.4s\n",
            "[CV 5/5] END svd__n_components=100, svm__C=1, svm__class_weight=balanced, svm__gamma=0.1, svm__kernel=linear;, score=0.840 total time=   3.5s\n",
            "[CV 1/5] END svd__n_components=100, svm__C=1, svm__class_weight=balanced, svm__gamma=0.1, svm__kernel=poly;, score=0.848 total time=   2.7s\n",
            "[CV 2/5] END svd__n_components=100, svm__C=1, svm__class_weight=balanced, svm__gamma=0.1, svm__kernel=poly;, score=0.840 total time=   2.4s\n",
            "[CV 3/5] END svd__n_components=100, svm__C=1, svm__class_weight=balanced, svm__gamma=0.1, svm__kernel=poly;, score=0.844 total time=   2.4s\n",
            "[CV 4/5] END svd__n_components=100, svm__C=1, svm__class_weight=balanced, svm__gamma=0.1, svm__kernel=poly;, score=0.825 total time=   2.4s\n",
            "[CV 5/5] END svd__n_components=100, svm__C=1, svm__class_weight=balanced, svm__gamma=0.1, svm__kernel=poly;, score=0.833 total time=   3.2s\n",
            "[CV 1/5] END svd__n_components=100, svm__C=1, svm__class_weight=balanced, svm__gamma=1, svm__kernel=linear;, score=0.879 total time=   3.0s\n",
            "[CV 2/5] END svd__n_components=100, svm__C=1, svm__class_weight=balanced, svm__gamma=1, svm__kernel=linear;, score=0.864 total time=   2.4s\n",
            "[CV 3/5] END svd__n_components=100, svm__C=1, svm__class_weight=balanced, svm__gamma=1, svm__kernel=linear;, score=0.895 total time=   2.3s\n",
            "[CV 4/5] END svd__n_components=100, svm__C=1, svm__class_weight=balanced, svm__gamma=1, svm__kernel=linear;, score=0.856 total time=   2.4s\n",
            "[CV 5/5] END svd__n_components=100, svm__C=1, svm__class_weight=balanced, svm__gamma=1, svm__kernel=linear;, score=0.840 total time=   2.9s\n",
            "[CV 1/5] END svd__n_components=100, svm__C=1, svm__class_weight=balanced, svm__gamma=1, svm__kernel=poly;, score=0.786 total time=   3.2s\n",
            "[CV 2/5] END svd__n_components=100, svm__C=1, svm__class_weight=balanced, svm__gamma=1, svm__kernel=poly;, score=0.840 total time=   2.4s\n",
            "[CV 3/5] END svd__n_components=100, svm__C=1, svm__class_weight=balanced, svm__gamma=1, svm__kernel=poly;, score=0.790 total time=   2.4s\n",
            "[CV 4/5] END svd__n_components=100, svm__C=1, svm__class_weight=balanced, svm__gamma=1, svm__kernel=poly;, score=0.794 total time=   3.0s\n",
            "[CV 5/5] END svd__n_components=100, svm__C=1, svm__class_weight=balanced, svm__gamma=1, svm__kernel=poly;, score=0.821 total time=   2.6s\n",
            "[CV 1/5] END svd__n_components=100, svm__C=1, svm__class_weight=balanced, svm__gamma=10, svm__kernel=linear;, score=0.879 total time=   3.5s\n",
            "[CV 2/5] END svd__n_components=100, svm__C=1, svm__class_weight=balanced, svm__gamma=10, svm__kernel=linear;, score=0.864 total time=   2.4s\n",
            "[CV 3/5] END svd__n_components=100, svm__C=1, svm__class_weight=balanced, svm__gamma=10, svm__kernel=linear;, score=0.895 total time=   2.4s\n",
            "[CV 4/5] END svd__n_components=100, svm__C=1, svm__class_weight=balanced, svm__gamma=10, svm__kernel=linear;, score=0.856 total time=   2.4s\n",
            "[CV 5/5] END svd__n_components=100, svm__C=1, svm__class_weight=balanced, svm__gamma=10, svm__kernel=linear;, score=0.840 total time=   2.4s\n",
            "[CV 1/5] END svd__n_components=100, svm__C=1, svm__class_weight=balanced, svm__gamma=10, svm__kernel=poly;, score=0.786 total time=   3.7s\n",
            "[CV 2/5] END svd__n_components=100, svm__C=1, svm__class_weight=balanced, svm__gamma=10, svm__kernel=poly;, score=0.840 total time=   2.5s\n",
            "[CV 3/5] END svd__n_components=100, svm__C=1, svm__class_weight=balanced, svm__gamma=10, svm__kernel=poly;, score=0.790 total time=   2.4s\n",
            "[CV 4/5] END svd__n_components=100, svm__C=1, svm__class_weight=balanced, svm__gamma=10, svm__kernel=poly;, score=0.794 total time=   2.4s\n",
            "[CV 5/5] END svd__n_components=100, svm__C=1, svm__class_weight=balanced, svm__gamma=10, svm__kernel=poly;, score=0.821 total time=   2.4s\n",
            "[CV 1/5] END svd__n_components=100, svm__C=10, svm__class_weight=None, svm__gamma=0.1, svm__kernel=linear;, score=0.883 total time=   3.5s\n",
            "[CV 2/5] END svd__n_components=100, svm__C=10, svm__class_weight=None, svm__gamma=0.1, svm__kernel=linear;, score=0.875 total time=   2.7s\n",
            "[CV 3/5] END svd__n_components=100, svm__C=10, svm__class_weight=None, svm__gamma=0.1, svm__kernel=linear;, score=0.875 total time=   2.4s\n",
            "[CV 4/5] END svd__n_components=100, svm__C=10, svm__class_weight=None, svm__gamma=0.1, svm__kernel=linear;, score=0.844 total time=   2.5s\n",
            "[CV 5/5] END svd__n_components=100, svm__C=10, svm__class_weight=None, svm__gamma=0.1, svm__kernel=linear;, score=0.837 total time=   2.5s\n",
            "[CV 1/5] END svd__n_components=100, svm__C=10, svm__class_weight=None, svm__gamma=0.1, svm__kernel=poly;, score=0.786 total time=   3.1s\n",
            "[CV 2/5] END svd__n_components=100, svm__C=10, svm__class_weight=None, svm__gamma=0.1, svm__kernel=poly;, score=0.840 total time=   3.0s\n",
            "[CV 3/5] END svd__n_components=100, svm__C=10, svm__class_weight=None, svm__gamma=0.1, svm__kernel=poly;, score=0.790 total time=   2.4s\n",
            "[CV 4/5] END svd__n_components=100, svm__C=10, svm__class_weight=None, svm__gamma=0.1, svm__kernel=poly;, score=0.794 total time=   2.4s\n",
            "[CV 5/5] END svd__n_components=100, svm__C=10, svm__class_weight=None, svm__gamma=0.1, svm__kernel=poly;, score=0.821 total time=   2.4s\n",
            "[CV 1/5] END svd__n_components=100, svm__C=10, svm__class_weight=None, svm__gamma=1, svm__kernel=linear;, score=0.883 total time=   2.8s\n",
            "[CV 2/5] END svd__n_components=100, svm__C=10, svm__class_weight=None, svm__gamma=1, svm__kernel=linear;, score=0.875 total time=   3.3s\n",
            "[CV 3/5] END svd__n_components=100, svm__C=10, svm__class_weight=None, svm__gamma=1, svm__kernel=linear;, score=0.875 total time=   2.4s\n",
            "[CV 4/5] END svd__n_components=100, svm__C=10, svm__class_weight=None, svm__gamma=1, svm__kernel=linear;, score=0.844 total time=   2.5s\n",
            "[CV 5/5] END svd__n_components=100, svm__C=10, svm__class_weight=None, svm__gamma=1, svm__kernel=linear;, score=0.837 total time=   2.5s\n",
            "[CV 1/5] END svd__n_components=100, svm__C=10, svm__class_weight=None, svm__gamma=1, svm__kernel=poly;, score=0.786 total time=   2.6s\n",
            "[CV 2/5] END svd__n_components=100, svm__C=10, svm__class_weight=None, svm__gamma=1, svm__kernel=poly;, score=0.840 total time=   3.5s\n",
            "[CV 3/5] END svd__n_components=100, svm__C=10, svm__class_weight=None, svm__gamma=1, svm__kernel=poly;, score=0.790 total time=   2.4s\n",
            "[CV 4/5] END svd__n_components=100, svm__C=10, svm__class_weight=None, svm__gamma=1, svm__kernel=poly;, score=0.794 total time=   2.4s\n",
            "[CV 5/5] END svd__n_components=100, svm__C=10, svm__class_weight=None, svm__gamma=1, svm__kernel=poly;, score=0.821 total time=   2.4s\n",
            "[CV 1/5] END svd__n_components=100, svm__C=10, svm__class_weight=None, svm__gamma=10, svm__kernel=linear;, score=0.883 total time=   2.4s\n",
            "[CV 2/5] END svd__n_components=100, svm__C=10, svm__class_weight=None, svm__gamma=10, svm__kernel=linear;, score=0.875 total time=   3.5s\n",
            "[CV 3/5] END svd__n_components=100, svm__C=10, svm__class_weight=None, svm__gamma=10, svm__kernel=linear;, score=0.875 total time=   2.7s\n",
            "[CV 4/5] END svd__n_components=100, svm__C=10, svm__class_weight=None, svm__gamma=10, svm__kernel=linear;, score=0.844 total time=   2.5s\n",
            "[CV 5/5] END svd__n_components=100, svm__C=10, svm__class_weight=None, svm__gamma=10, svm__kernel=linear;, score=0.837 total time=   2.4s\n",
            "[CV 1/5] END svd__n_components=100, svm__C=10, svm__class_weight=None, svm__gamma=10, svm__kernel=poly;, score=0.786 total time=   2.4s\n",
            "[CV 2/5] END svd__n_components=100, svm__C=10, svm__class_weight=None, svm__gamma=10, svm__kernel=poly;, score=0.840 total time=   3.0s\n",
            "[CV 3/5] END svd__n_components=100, svm__C=10, svm__class_weight=None, svm__gamma=10, svm__kernel=poly;, score=0.790 total time=   3.1s\n",
            "[CV 4/5] END svd__n_components=100, svm__C=10, svm__class_weight=None, svm__gamma=10, svm__kernel=poly;, score=0.794 total time=   2.4s\n",
            "[CV 5/5] END svd__n_components=100, svm__C=10, svm__class_weight=None, svm__gamma=10, svm__kernel=poly;, score=0.821 total time=   2.4s\n",
            "[CV 1/5] END svd__n_components=100, svm__C=10, svm__class_weight=balanced, svm__gamma=0.1, svm__kernel=linear;, score=0.875 total time=   2.5s\n",
            "[CV 2/5] END svd__n_components=100, svm__C=10, svm__class_weight=balanced, svm__gamma=0.1, svm__kernel=linear;, score=0.868 total time=   2.8s\n",
            "[CV 3/5] END svd__n_components=100, svm__C=10, svm__class_weight=balanced, svm__gamma=0.1, svm__kernel=linear;, score=0.872 total time=   3.4s\n",
            "[CV 4/5] END svd__n_components=100, svm__C=10, svm__class_weight=balanced, svm__gamma=0.1, svm__kernel=linear;, score=0.844 total time=   2.5s\n",
            "[CV 5/5] END svd__n_components=100, svm__C=10, svm__class_weight=balanced, svm__gamma=0.1, svm__kernel=linear;, score=0.844 total time=   2.4s\n",
            "[CV 1/5] END svd__n_components=100, svm__C=10, svm__class_weight=balanced, svm__gamma=0.1, svm__kernel=poly;, score=0.786 total time=   2.4s\n",
            "[CV 2/5] END svd__n_components=100, svm__C=10, svm__class_weight=balanced, svm__gamma=0.1, svm__kernel=poly;, score=0.840 total time=   2.5s\n",
            "[CV 3/5] END svd__n_components=100, svm__C=10, svm__class_weight=balanced, svm__gamma=0.1, svm__kernel=poly;, score=0.790 total time=   3.7s\n",
            "[CV 4/5] END svd__n_components=100, svm__C=10, svm__class_weight=balanced, svm__gamma=0.1, svm__kernel=poly;, score=0.798 total time=   2.5s\n",
            "[CV 5/5] END svd__n_components=100, svm__C=10, svm__class_weight=balanced, svm__gamma=0.1, svm__kernel=poly;, score=0.821 total time=   2.4s\n",
            "[CV 1/5] END svd__n_components=100, svm__C=10, svm__class_weight=balanced, svm__gamma=1, svm__kernel=linear;, score=0.875 total time=   2.4s\n",
            "[CV 2/5] END svd__n_components=100, svm__C=10, svm__class_weight=balanced, svm__gamma=1, svm__kernel=linear;, score=0.868 total time=   2.5s\n",
            "[CV 3/5] END svd__n_components=100, svm__C=10, svm__class_weight=balanced, svm__gamma=1, svm__kernel=linear;, score=0.872 total time=   3.5s\n",
            "[CV 4/5] END svd__n_components=100, svm__C=10, svm__class_weight=balanced, svm__gamma=1, svm__kernel=linear;, score=0.844 total time=   2.7s\n",
            "[CV 5/5] END svd__n_components=100, svm__C=10, svm__class_weight=balanced, svm__gamma=1, svm__kernel=linear;, score=0.844 total time=   2.5s\n",
            "[CV 1/5] END svd__n_components=100, svm__C=10, svm__class_weight=balanced, svm__gamma=1, svm__kernel=poly;, score=0.786 total time=   2.4s\n",
            "[CV 2/5] END svd__n_components=100, svm__C=10, svm__class_weight=balanced, svm__gamma=1, svm__kernel=poly;, score=0.840 total time=   2.4s\n",
            "[CV 3/5] END svd__n_components=100, svm__C=10, svm__class_weight=balanced, svm__gamma=1, svm__kernel=poly;, score=0.790 total time=   3.1s\n",
            "[CV 4/5] END svd__n_components=100, svm__C=10, svm__class_weight=balanced, svm__gamma=1, svm__kernel=poly;, score=0.794 total time=   2.9s\n",
            "[CV 5/5] END svd__n_components=100, svm__C=10, svm__class_weight=balanced, svm__gamma=1, svm__kernel=poly;, score=0.821 total time=   2.4s\n",
            "[CV 1/5] END svd__n_components=100, svm__C=10, svm__class_weight=balanced, svm__gamma=10, svm__kernel=linear;, score=0.875 total time=   2.4s\n",
            "[CV 2/5] END svd__n_components=100, svm__C=10, svm__class_weight=balanced, svm__gamma=10, svm__kernel=linear;, score=0.868 total time=   2.4s\n",
            "[CV 3/5] END svd__n_components=100, svm__C=10, svm__class_weight=balanced, svm__gamma=10, svm__kernel=linear;, score=0.872 total time=   3.0s\n",
            "[CV 4/5] END svd__n_components=100, svm__C=10, svm__class_weight=balanced, svm__gamma=10, svm__kernel=linear;, score=0.844 total time=   3.2s\n",
            "[CV 5/5] END svd__n_components=100, svm__C=10, svm__class_weight=balanced, svm__gamma=10, svm__kernel=linear;, score=0.844 total time=   2.5s\n",
            "[CV 1/5] END svd__n_components=100, svm__C=10, svm__class_weight=balanced, svm__gamma=10, svm__kernel=poly;, score=0.786 total time=   2.5s\n",
            "[CV 2/5] END svd__n_components=100, svm__C=10, svm__class_weight=balanced, svm__gamma=10, svm__kernel=poly;, score=0.840 total time=   2.4s\n",
            "[CV 3/5] END svd__n_components=100, svm__C=10, svm__class_weight=balanced, svm__gamma=10, svm__kernel=poly;, score=0.790 total time=   2.6s\n",
            "[CV 4/5] END svd__n_components=100, svm__C=10, svm__class_weight=balanced, svm__gamma=10, svm__kernel=poly;, score=0.794 total time=   3.6s\n",
            "[CV 5/5] END svd__n_components=100, svm__C=10, svm__class_weight=balanced, svm__gamma=10, svm__kernel=poly;, score=0.821 total time=   2.4s\n",
            "[CV 1/5] END svd__n_components=250, svm__C=0.1, svm__class_weight=None, svm__gamma=0.1, svm__kernel=linear;, score=0.891 total time=   4.0s\n",
            "[CV 2/5] END svd__n_components=250, svm__C=0.1, svm__class_weight=None, svm__gamma=0.1, svm__kernel=linear;, score=0.922 total time=   4.3s\n",
            "[CV 3/5] END svd__n_components=250, svm__C=0.1, svm__class_weight=None, svm__gamma=0.1, svm__kernel=linear;, score=0.918 total time=   5.0s\n",
            "[CV 4/5] END svd__n_components=250, svm__C=0.1, svm__class_weight=None, svm__gamma=0.1, svm__kernel=linear;, score=0.934 total time=   4.1s\n",
            "[CV 5/5] END svd__n_components=250, svm__C=0.1, svm__class_weight=None, svm__gamma=0.1, svm__kernel=linear;, score=0.903 total time=   4.2s\n",
            "[CV 1/5] END svd__n_components=250, svm__C=0.1, svm__class_weight=None, svm__gamma=0.1, svm__kernel=poly;, score=0.821 total time=   5.5s\n",
            "[CV 2/5] END svd__n_components=250, svm__C=0.1, svm__class_weight=None, svm__gamma=0.1, svm__kernel=poly;, score=0.805 total time=   4.1s\n",
            "[CV 3/5] END svd__n_components=250, svm__C=0.1, svm__class_weight=None, svm__gamma=0.1, svm__kernel=poly;, score=0.825 total time=   4.1s\n",
            "[CV 4/5] END svd__n_components=250, svm__C=0.1, svm__class_weight=None, svm__gamma=0.1, svm__kernel=poly;, score=0.817 total time=   5.7s\n",
            "[CV 5/5] END svd__n_components=250, svm__C=0.1, svm__class_weight=None, svm__gamma=0.1, svm__kernel=poly;, score=0.802 total time=   4.2s\n",
            "[CV 1/5] END svd__n_components=250, svm__C=0.1, svm__class_weight=None, svm__gamma=1, svm__kernel=linear;, score=0.891 total time=   3.9s\n",
            "[CV 2/5] END svd__n_components=250, svm__C=0.1, svm__class_weight=None, svm__gamma=1, svm__kernel=linear;, score=0.922 total time=   5.7s\n",
            "[CV 3/5] END svd__n_components=250, svm__C=0.1, svm__class_weight=None, svm__gamma=1, svm__kernel=linear;, score=0.918 total time=   4.2s\n",
            "[CV 4/5] END svd__n_components=250, svm__C=0.1, svm__class_weight=None, svm__gamma=1, svm__kernel=linear;, score=0.934 total time=   4.1s\n",
            "[CV 5/5] END svd__n_components=250, svm__C=0.1, svm__class_weight=None, svm__gamma=1, svm__kernel=linear;, score=0.903 total time=   5.5s\n",
            "[CV 1/5] END svd__n_components=250, svm__C=0.1, svm__class_weight=None, svm__gamma=1, svm__kernel=poly;, score=0.782 total time=   4.0s\n",
            "[CV 2/5] END svd__n_components=250, svm__C=0.1, svm__class_weight=None, svm__gamma=1, svm__kernel=poly;, score=0.798 total time=   4.2s\n",
            "[CV 3/5] END svd__n_components=250, svm__C=0.1, svm__class_weight=None, svm__gamma=1, svm__kernel=poly;, score=0.774 total time=   5.8s\n",
            "[CV 4/5] END svd__n_components=250, svm__C=0.1, svm__class_weight=None, svm__gamma=1, svm__kernel=poly;, score=0.782 total time=   4.0s\n",
            "[CV 5/5] END svd__n_components=250, svm__C=0.1, svm__class_weight=None, svm__gamma=1, svm__kernel=poly;, score=0.794 total time=   4.1s\n",
            "[CV 1/5] END svd__n_components=250, svm__C=0.1, svm__class_weight=None, svm__gamma=10, svm__kernel=linear;, score=0.891 total time=   5.6s\n",
            "[CV 2/5] END svd__n_components=250, svm__C=0.1, svm__class_weight=None, svm__gamma=10, svm__kernel=linear;, score=0.922 total time=   4.1s\n",
            "[CV 3/5] END svd__n_components=250, svm__C=0.1, svm__class_weight=None, svm__gamma=10, svm__kernel=linear;, score=0.918 total time=   4.0s\n",
            "[CV 4/5] END svd__n_components=250, svm__C=0.1, svm__class_weight=None, svm__gamma=10, svm__kernel=linear;, score=0.934 total time=   5.6s\n",
            "[CV 5/5] END svd__n_components=250, svm__C=0.1, svm__class_weight=None, svm__gamma=10, svm__kernel=linear;, score=0.903 total time=   4.1s\n",
            "[CV 1/5] END svd__n_components=250, svm__C=0.1, svm__class_weight=None, svm__gamma=10, svm__kernel=poly;, score=0.782 total time=   4.1s\n",
            "[CV 2/5] END svd__n_components=250, svm__C=0.1, svm__class_weight=None, svm__gamma=10, svm__kernel=poly;, score=0.798 total time=   5.4s\n",
            "[CV 3/5] END svd__n_components=250, svm__C=0.1, svm__class_weight=None, svm__gamma=10, svm__kernel=poly;, score=0.774 total time=   4.2s\n",
            "[CV 4/5] END svd__n_components=250, svm__C=0.1, svm__class_weight=None, svm__gamma=10, svm__kernel=poly;, score=0.782 total time=   4.1s\n",
            "[CV 5/5] END svd__n_components=250, svm__C=0.1, svm__class_weight=None, svm__gamma=10, svm__kernel=poly;, score=0.794 total time=   5.3s\n",
            "[CV 1/5] END svd__n_components=250, svm__C=0.1, svm__class_weight=balanced, svm__gamma=0.1, svm__kernel=linear;, score=0.883 total time=   4.3s\n",
            "[CV 2/5] END svd__n_components=250, svm__C=0.1, svm__class_weight=balanced, svm__gamma=0.1, svm__kernel=linear;, score=0.914 total time=   4.0s\n",
            "[CV 3/5] END svd__n_components=250, svm__C=0.1, svm__class_weight=balanced, svm__gamma=0.1, svm__kernel=linear;, score=0.914 total time=   5.0s\n",
            "[CV 4/5] END svd__n_components=250, svm__C=0.1, svm__class_weight=balanced, svm__gamma=0.1, svm__kernel=linear;, score=0.930 total time=   4.5s\n",
            "[CV 5/5] END svd__n_components=250, svm__C=0.1, svm__class_weight=balanced, svm__gamma=0.1, svm__kernel=linear;, score=0.914 total time=   4.1s\n",
            "[CV 1/5] END svd__n_components=250, svm__C=0.1, svm__class_weight=balanced, svm__gamma=0.1, svm__kernel=poly;, score=0.825 total time=   4.8s\n",
            "[CV 2/5] END svd__n_components=250, svm__C=0.1, svm__class_weight=balanced, svm__gamma=0.1, svm__kernel=poly;, score=0.817 total time=   4.8s\n",
            "[CV 3/5] END svd__n_components=250, svm__C=0.1, svm__class_weight=balanced, svm__gamma=0.1, svm__kernel=poly;, score=0.829 total time=   4.1s\n",
            "[CV 4/5] END svd__n_components=250, svm__C=0.1, svm__class_weight=balanced, svm__gamma=0.1, svm__kernel=poly;, score=0.813 total time=   4.9s\n",
            "[CV 5/5] END svd__n_components=250, svm__C=0.1, svm__class_weight=balanced, svm__gamma=0.1, svm__kernel=poly;, score=0.802 total time=   5.0s\n",
            "[CV 1/5] END svd__n_components=250, svm__C=0.1, svm__class_weight=balanced, svm__gamma=1, svm__kernel=linear;, score=0.883 total time=   4.0s\n",
            "[CV 2/5] END svd__n_components=250, svm__C=0.1, svm__class_weight=balanced, svm__gamma=1, svm__kernel=linear;, score=0.914 total time=   4.4s\n",
            "[CV 3/5] END svd__n_components=250, svm__C=0.1, svm__class_weight=balanced, svm__gamma=1, svm__kernel=linear;, score=0.914 total time=   5.2s\n",
            "[CV 4/5] END svd__n_components=250, svm__C=0.1, svm__class_weight=balanced, svm__gamma=1, svm__kernel=linear;, score=0.930 total time=   4.1s\n",
            "[CV 5/5] END svd__n_components=250, svm__C=0.1, svm__class_weight=balanced, svm__gamma=1, svm__kernel=linear;, score=0.914 total time=   4.1s\n",
            "[CV 1/5] END svd__n_components=250, svm__C=0.1, svm__class_weight=balanced, svm__gamma=1, svm__kernel=poly;, score=0.782 total time=   5.4s\n",
            "[CV 2/5] END svd__n_components=250, svm__C=0.1, svm__class_weight=balanced, svm__gamma=1, svm__kernel=poly;, score=0.798 total time=   4.0s\n",
            "[CV 3/5] END svd__n_components=250, svm__C=0.1, svm__class_weight=balanced, svm__gamma=1, svm__kernel=poly;, score=0.774 total time=   4.1s\n",
            "[CV 4/5] END svd__n_components=250, svm__C=0.1, svm__class_weight=balanced, svm__gamma=1, svm__kernel=poly;, score=0.782 total time=   5.5s\n",
            "[CV 5/5] END svd__n_components=250, svm__C=0.1, svm__class_weight=balanced, svm__gamma=1, svm__kernel=poly;, score=0.794 total time=   4.1s\n",
            "[CV 1/5] END svd__n_components=250, svm__C=0.1, svm__class_weight=balanced, svm__gamma=10, svm__kernel=linear;, score=0.883 total time=   4.0s\n",
            "[CV 2/5] END svd__n_components=250, svm__C=0.1, svm__class_weight=balanced, svm__gamma=10, svm__kernel=linear;, score=0.914 total time=   5.7s\n",
            "[CV 3/5] END svd__n_components=250, svm__C=0.1, svm__class_weight=balanced, svm__gamma=10, svm__kernel=linear;, score=0.914 total time=   4.0s\n",
            "[CV 4/5] END svd__n_components=250, svm__C=0.1, svm__class_weight=balanced, svm__gamma=10, svm__kernel=linear;, score=0.930 total time=   4.0s\n",
            "[CV 5/5] END svd__n_components=250, svm__C=0.1, svm__class_weight=balanced, svm__gamma=10, svm__kernel=linear;, score=0.914 total time=   5.6s\n",
            "[CV 1/5] END svd__n_components=250, svm__C=0.1, svm__class_weight=balanced, svm__gamma=10, svm__kernel=poly;, score=0.782 total time=   4.1s\n",
            "[CV 2/5] END svd__n_components=250, svm__C=0.1, svm__class_weight=balanced, svm__gamma=10, svm__kernel=poly;, score=0.798 total time=   4.1s\n",
            "[CV 3/5] END svd__n_components=250, svm__C=0.1, svm__class_weight=balanced, svm__gamma=10, svm__kernel=poly;, score=0.774 total time=   5.6s\n",
            "[CV 4/5] END svd__n_components=250, svm__C=0.1, svm__class_weight=balanced, svm__gamma=10, svm__kernel=poly;, score=0.782 total time=   4.0s\n",
            "[CV 5/5] END svd__n_components=250, svm__C=0.1, svm__class_weight=balanced, svm__gamma=10, svm__kernel=poly;, score=0.794 total time=   4.0s\n",
            "[CV 1/5] END svd__n_components=250, svm__C=1, svm__class_weight=None, svm__gamma=0.1, svm__kernel=linear;, score=0.875 total time=   5.6s\n",
            "[CV 2/5] END svd__n_components=250, svm__C=1, svm__class_weight=None, svm__gamma=0.1, svm__kernel=linear;, score=0.907 total time=   3.9s\n",
            "[CV 3/5] END svd__n_components=250, svm__C=1, svm__class_weight=None, svm__gamma=0.1, svm__kernel=linear;, score=0.903 total time=   3.9s\n",
            "[CV 4/5] END svd__n_components=250, svm__C=1, svm__class_weight=None, svm__gamma=0.1, svm__kernel=linear;, score=0.922 total time=   5.2s\n",
            "[CV 5/5] END svd__n_components=250, svm__C=1, svm__class_weight=None, svm__gamma=0.1, svm__kernel=linear;, score=0.911 total time=   4.3s\n",
            "[CV 1/5] END svd__n_components=250, svm__C=1, svm__class_weight=None, svm__gamma=0.1, svm__kernel=poly;, score=0.782 total time=   4.0s\n",
            "[CV 2/5] END svd__n_components=250, svm__C=1, svm__class_weight=None, svm__gamma=0.1, svm__kernel=poly;, score=0.798 total time=   5.1s\n",
            "[CV 3/5] END svd__n_components=250, svm__C=1, svm__class_weight=None, svm__gamma=0.1, svm__kernel=poly;, score=0.774 total time=   4.6s\n",
            "[CV 4/5] END svd__n_components=250, svm__C=1, svm__class_weight=None, svm__gamma=0.1, svm__kernel=poly;, score=0.782 total time=   4.0s\n",
            "[CV 5/5] END svd__n_components=250, svm__C=1, svm__class_weight=None, svm__gamma=0.1, svm__kernel=poly;, score=0.794 total time=   4.6s\n",
            "[CV 1/5] END svd__n_components=250, svm__C=1, svm__class_weight=None, svm__gamma=1, svm__kernel=linear;, score=0.875 total time=   4.9s\n",
            "[CV 2/5] END svd__n_components=250, svm__C=1, svm__class_weight=None, svm__gamma=1, svm__kernel=linear;, score=0.907 total time=   4.0s\n",
            "[CV 3/5] END svd__n_components=250, svm__C=1, svm__class_weight=None, svm__gamma=1, svm__kernel=linear;, score=0.903 total time=   4.2s\n",
            "[CV 4/5] END svd__n_components=250, svm__C=1, svm__class_weight=None, svm__gamma=1, svm__kernel=linear;, score=0.922 total time=   5.3s\n",
            "[CV 5/5] END svd__n_components=250, svm__C=1, svm__class_weight=None, svm__gamma=1, svm__kernel=linear;, score=0.911 total time=   4.1s\n",
            "[CV 1/5] END svd__n_components=250, svm__C=1, svm__class_weight=None, svm__gamma=1, svm__kernel=poly;, score=0.782 total time=   4.1s\n",
            "[CV 2/5] END svd__n_components=250, svm__C=1, svm__class_weight=None, svm__gamma=1, svm__kernel=poly;, score=0.798 total time=   5.5s\n",
            "[CV 3/5] END svd__n_components=250, svm__C=1, svm__class_weight=None, svm__gamma=1, svm__kernel=poly;, score=0.774 total time=   4.1s\n",
            "[CV 4/5] END svd__n_components=250, svm__C=1, svm__class_weight=None, svm__gamma=1, svm__kernel=poly;, score=0.782 total time=   4.2s\n",
            "[CV 5/5] END svd__n_components=250, svm__C=1, svm__class_weight=None, svm__gamma=1, svm__kernel=poly;, score=0.794 total time=   5.6s\n",
            "[CV 1/5] END svd__n_components=250, svm__C=1, svm__class_weight=None, svm__gamma=10, svm__kernel=linear;, score=0.875 total time=   4.0s\n",
            "[CV 2/5] END svd__n_components=250, svm__C=1, svm__class_weight=None, svm__gamma=10, svm__kernel=linear;, score=0.907 total time=   4.1s\n",
            "[CV 3/5] END svd__n_components=250, svm__C=1, svm__class_weight=None, svm__gamma=10, svm__kernel=linear;, score=0.903 total time=   5.6s\n",
            "[CV 4/5] END svd__n_components=250, svm__C=1, svm__class_weight=None, svm__gamma=10, svm__kernel=linear;, score=0.922 total time=   4.1s\n",
            "[CV 5/5] END svd__n_components=250, svm__C=1, svm__class_weight=None, svm__gamma=10, svm__kernel=linear;, score=0.911 total time=   4.0s\n",
            "[CV 1/5] END svd__n_components=250, svm__C=1, svm__class_weight=None, svm__gamma=10, svm__kernel=poly;, score=0.782 total time=   5.7s\n",
            "[CV 2/5] END svd__n_components=250, svm__C=1, svm__class_weight=None, svm__gamma=10, svm__kernel=poly;, score=0.798 total time=   4.0s\n",
            "[CV 3/5] END svd__n_components=250, svm__C=1, svm__class_weight=None, svm__gamma=10, svm__kernel=poly;, score=0.774 total time=   4.1s\n",
            "[CV 4/5] END svd__n_components=250, svm__C=1, svm__class_weight=None, svm__gamma=10, svm__kernel=poly;, score=0.782 total time=   5.7s\n",
            "[CV 5/5] END svd__n_components=250, svm__C=1, svm__class_weight=None, svm__gamma=10, svm__kernel=poly;, score=0.794 total time=   4.1s\n",
            "[CV 1/5] END svd__n_components=250, svm__C=1, svm__class_weight=balanced, svm__gamma=0.1, svm__kernel=linear;, score=0.875 total time=   3.9s\n",
            "[CV 2/5] END svd__n_components=250, svm__C=1, svm__class_weight=balanced, svm__gamma=0.1, svm__kernel=linear;, score=0.907 total time=   5.4s\n",
            "[CV 3/5] END svd__n_components=250, svm__C=1, svm__class_weight=balanced, svm__gamma=0.1, svm__kernel=linear;, score=0.903 total time=   4.0s\n",
            "[CV 4/5] END svd__n_components=250, svm__C=1, svm__class_weight=balanced, svm__gamma=0.1, svm__kernel=linear;, score=0.918 total time=   4.0s\n",
            "[CV 5/5] END svd__n_components=250, svm__C=1, svm__class_weight=balanced, svm__gamma=0.1, svm__kernel=linear;, score=0.911 total time=   5.0s\n",
            "[CV 1/5] END svd__n_components=250, svm__C=1, svm__class_weight=balanced, svm__gamma=0.1, svm__kernel=poly;, score=0.786 total time=   4.6s\n",
            "[CV 2/5] END svd__n_components=250, svm__C=1, svm__class_weight=balanced, svm__gamma=0.1, svm__kernel=poly;, score=0.798 total time=   4.2s\n",
            "[CV 3/5] END svd__n_components=250, svm__C=1, svm__class_weight=balanced, svm__gamma=0.1, svm__kernel=poly;, score=0.774 total time=   4.6s\n",
            "[CV 4/5] END svd__n_components=250, svm__C=1, svm__class_weight=balanced, svm__gamma=0.1, svm__kernel=poly;, score=0.778 total time=   4.9s\n",
            "[CV 5/5] END svd__n_components=250, svm__C=1, svm__class_weight=balanced, svm__gamma=0.1, svm__kernel=poly;, score=0.805 total time=   4.1s\n",
            "[CV 1/5] END svd__n_components=250, svm__C=1, svm__class_weight=balanced, svm__gamma=1, svm__kernel=linear;, score=0.875 total time=   4.8s\n",
            "[CV 2/5] END svd__n_components=250, svm__C=1, svm__class_weight=balanced, svm__gamma=1, svm__kernel=linear;, score=0.907 total time=   4.9s\n",
            "[CV 3/5] END svd__n_components=250, svm__C=1, svm__class_weight=balanced, svm__gamma=1, svm__kernel=linear;, score=0.903 total time=   4.0s\n",
            "[CV 4/5] END svd__n_components=250, svm__C=1, svm__class_weight=balanced, svm__gamma=1, svm__kernel=linear;, score=0.918 total time=   4.3s\n",
            "[CV 5/5] END svd__n_components=250, svm__C=1, svm__class_weight=balanced, svm__gamma=1, svm__kernel=linear;, score=0.911 total time=   5.2s\n",
            "[CV 1/5] END svd__n_components=250, svm__C=1, svm__class_weight=balanced, svm__gamma=1, svm__kernel=poly;, score=0.782 total time=   4.1s\n",
            "[CV 2/5] END svd__n_components=250, svm__C=1, svm__class_weight=balanced, svm__gamma=1, svm__kernel=poly;, score=0.798 total time=   4.0s\n",
            "[CV 3/5] END svd__n_components=250, svm__C=1, svm__class_weight=balanced, svm__gamma=1, svm__kernel=poly;, score=0.774 total time=   5.6s\n",
            "[CV 4/5] END svd__n_components=250, svm__C=1, svm__class_weight=balanced, svm__gamma=1, svm__kernel=poly;, score=0.782 total time=   4.0s\n",
            "[CV 5/5] END svd__n_components=250, svm__C=1, svm__class_weight=balanced, svm__gamma=1, svm__kernel=poly;, score=0.794 total time=   4.0s\n",
            "[CV 1/5] END svd__n_components=250, svm__C=1, svm__class_weight=balanced, svm__gamma=10, svm__kernel=linear;, score=0.875 total time=   5.7s\n",
            "[CV 2/5] END svd__n_components=250, svm__C=1, svm__class_weight=balanced, svm__gamma=10, svm__kernel=linear;, score=0.907 total time=   3.8s\n",
            "[CV 3/5] END svd__n_components=250, svm__C=1, svm__class_weight=balanced, svm__gamma=10, svm__kernel=linear;, score=0.903 total time=   4.1s\n",
            "[CV 4/5] END svd__n_components=250, svm__C=1, svm__class_weight=balanced, svm__gamma=10, svm__kernel=linear;, score=0.918 total time=   5.7s\n",
            "[CV 5/5] END svd__n_components=250, svm__C=1, svm__class_weight=balanced, svm__gamma=10, svm__kernel=linear;, score=0.911 total time=   4.0s\n",
            "[CV 1/5] END svd__n_components=250, svm__C=1, svm__class_weight=balanced, svm__gamma=10, svm__kernel=poly;, score=0.782 total time=   4.1s\n",
            "[CV 2/5] END svd__n_components=250, svm__C=1, svm__class_weight=balanced, svm__gamma=10, svm__kernel=poly;, score=0.798 total time=   5.7s\n",
            "[CV 3/5] END svd__n_components=250, svm__C=1, svm__class_weight=balanced, svm__gamma=10, svm__kernel=poly;, score=0.774 total time=   4.1s\n",
            "[CV 4/5] END svd__n_components=250, svm__C=1, svm__class_weight=balanced, svm__gamma=10, svm__kernel=poly;, score=0.782 total time=   4.0s\n",
            "[CV 5/5] END svd__n_components=250, svm__C=1, svm__class_weight=balanced, svm__gamma=10, svm__kernel=poly;, score=0.794 total time=   5.4s\n",
            "[CV 1/5] END svd__n_components=250, svm__C=10, svm__class_weight=None, svm__gamma=0.1, svm__kernel=linear;, score=0.879 total time=   4.2s\n",
            "[CV 2/5] END svd__n_components=250, svm__C=10, svm__class_weight=None, svm__gamma=0.1, svm__kernel=linear;, score=0.907 total time=   3.9s\n",
            "[CV 3/5] END svd__n_components=250, svm__C=10, svm__class_weight=None, svm__gamma=0.1, svm__kernel=linear;, score=0.903 total time=   5.2s\n",
            "[CV 4/5] END svd__n_components=250, svm__C=10, svm__class_weight=None, svm__gamma=0.1, svm__kernel=linear;, score=0.922 total time=   4.4s\n",
            "[CV 5/5] END svd__n_components=250, svm__C=10, svm__class_weight=None, svm__gamma=0.1, svm__kernel=linear;, score=0.907 total time=   4.1s\n",
            "[CV 1/5] END svd__n_components=250, svm__C=10, svm__class_weight=None, svm__gamma=0.1, svm__kernel=poly;, score=0.782 total time=   4.8s\n",
            "[CV 2/5] END svd__n_components=250, svm__C=10, svm__class_weight=None, svm__gamma=0.1, svm__kernel=poly;, score=0.798 total time=   4.6s\n",
            "[CV 3/5] END svd__n_components=250, svm__C=10, svm__class_weight=None, svm__gamma=0.1, svm__kernel=poly;, score=0.774 total time=   4.1s\n",
            "[CV 4/5] END svd__n_components=250, svm__C=10, svm__class_weight=None, svm__gamma=0.1, svm__kernel=poly;, score=0.782 total time=   4.8s\n",
            "[CV 5/5] END svd__n_components=250, svm__C=10, svm__class_weight=None, svm__gamma=0.1, svm__kernel=poly;, score=0.794 total time=   5.0s\n",
            "[CV 1/5] END svd__n_components=250, svm__C=10, svm__class_weight=None, svm__gamma=1, svm__kernel=linear;, score=0.879 total time=   4.0s\n",
            "[CV 2/5] END svd__n_components=250, svm__C=10, svm__class_weight=None, svm__gamma=1, svm__kernel=linear;, score=0.907 total time=   4.5s\n",
            "[CV 3/5] END svd__n_components=250, svm__C=10, svm__class_weight=None, svm__gamma=1, svm__kernel=linear;, score=0.903 total time=   5.2s\n",
            "[CV 4/5] END svd__n_components=250, svm__C=10, svm__class_weight=None, svm__gamma=1, svm__kernel=linear;, score=0.922 total time=   4.0s\n",
            "[CV 5/5] END svd__n_components=250, svm__C=10, svm__class_weight=None, svm__gamma=1, svm__kernel=linear;, score=0.907 total time=   4.0s\n",
            "[CV 1/5] END svd__n_components=250, svm__C=10, svm__class_weight=None, svm__gamma=1, svm__kernel=poly;, score=0.782 total time=   5.6s\n",
            "[CV 2/5] END svd__n_components=250, svm__C=10, svm__class_weight=None, svm__gamma=1, svm__kernel=poly;, score=0.798 total time=   3.9s\n",
            "[CV 3/5] END svd__n_components=250, svm__C=10, svm__class_weight=None, svm__gamma=1, svm__kernel=poly;, score=0.774 total time=   4.0s\n",
            "[CV 4/5] END svd__n_components=250, svm__C=10, svm__class_weight=None, svm__gamma=1, svm__kernel=poly;, score=0.782 total time=   5.6s\n",
            "[CV 5/5] END svd__n_components=250, svm__C=10, svm__class_weight=None, svm__gamma=1, svm__kernel=poly;, score=0.794 total time=   4.1s\n",
            "[CV 1/5] END svd__n_components=250, svm__C=10, svm__class_weight=None, svm__gamma=10, svm__kernel=linear;, score=0.879 total time=   4.0s\n",
            "[CV 2/5] END svd__n_components=250, svm__C=10, svm__class_weight=None, svm__gamma=10, svm__kernel=linear;, score=0.907 total time=   5.7s\n",
            "[CV 3/5] END svd__n_components=250, svm__C=10, svm__class_weight=None, svm__gamma=10, svm__kernel=linear;, score=0.903 total time=   4.0s\n",
            "[CV 4/5] END svd__n_components=250, svm__C=10, svm__class_weight=None, svm__gamma=10, svm__kernel=linear;, score=0.922 total time=   4.0s\n",
            "[CV 5/5] END svd__n_components=250, svm__C=10, svm__class_weight=None, svm__gamma=10, svm__kernel=linear;, score=0.907 total time=   5.8s\n",
            "[CV 1/5] END svd__n_components=250, svm__C=10, svm__class_weight=None, svm__gamma=10, svm__kernel=poly;, score=0.782 total time=   4.2s\n",
            "[CV 2/5] END svd__n_components=250, svm__C=10, svm__class_weight=None, svm__gamma=10, svm__kernel=poly;, score=0.798 total time=   4.1s\n",
            "[CV 3/5] END svd__n_components=250, svm__C=10, svm__class_weight=None, svm__gamma=10, svm__kernel=poly;, score=0.774 total time=   5.7s\n",
            "[CV 4/5] END svd__n_components=250, svm__C=10, svm__class_weight=None, svm__gamma=10, svm__kernel=poly;, score=0.782 total time=   4.1s\n",
            "[CV 5/5] END svd__n_components=250, svm__C=10, svm__class_weight=None, svm__gamma=10, svm__kernel=poly;, score=0.794 total time=   4.1s\n",
            "[CV 1/5] END svd__n_components=250, svm__C=10, svm__class_weight=balanced, svm__gamma=0.1, svm__kernel=linear;, score=0.879 total time=   5.5s\n",
            "[CV 2/5] END svd__n_components=250, svm__C=10, svm__class_weight=balanced, svm__gamma=0.1, svm__kernel=linear;, score=0.907 total time=   4.0s\n",
            "[CV 3/5] END svd__n_components=250, svm__C=10, svm__class_weight=balanced, svm__gamma=0.1, svm__kernel=linear;, score=0.903 total time=   4.0s\n",
            "[CV 4/5] END svd__n_components=250, svm__C=10, svm__class_weight=balanced, svm__gamma=0.1, svm__kernel=linear;, score=0.922 total time=   5.0s\n",
            "[CV 5/5] END svd__n_components=250, svm__C=10, svm__class_weight=balanced, svm__gamma=0.1, svm__kernel=linear;, score=0.907 total time=   4.4s\n",
            "[CV 1/5] END svd__n_components=250, svm__C=10, svm__class_weight=balanced, svm__gamma=0.1, svm__kernel=poly;, score=0.782 total time=   4.1s\n",
            "[CV 2/5] END svd__n_components=250, svm__C=10, svm__class_weight=balanced, svm__gamma=0.1, svm__kernel=poly;, score=0.798 total time=   4.7s\n",
            "[CV 3/5] END svd__n_components=250, svm__C=10, svm__class_weight=balanced, svm__gamma=0.1, svm__kernel=poly;, score=0.774 total time=   4.8s\n",
            "[CV 4/5] END svd__n_components=250, svm__C=10, svm__class_weight=balanced, svm__gamma=0.1, svm__kernel=poly;, score=0.782 total time=   4.1s\n",
            "[CV 5/5] END svd__n_components=250, svm__C=10, svm__class_weight=balanced, svm__gamma=0.1, svm__kernel=poly;, score=0.794 total time=   4.5s\n",
            "[CV 1/5] END svd__n_components=250, svm__C=10, svm__class_weight=balanced, svm__gamma=1, svm__kernel=linear;, score=0.879 total time=   5.1s\n",
            "[CV 2/5] END svd__n_components=250, svm__C=10, svm__class_weight=balanced, svm__gamma=1, svm__kernel=linear;, score=0.907 total time=   4.0s\n",
            "[CV 3/5] END svd__n_components=250, svm__C=10, svm__class_weight=balanced, svm__gamma=1, svm__kernel=linear;, score=0.903 total time=   4.2s\n",
            "[CV 4/5] END svd__n_components=250, svm__C=10, svm__class_weight=balanced, svm__gamma=1, svm__kernel=linear;, score=0.922 total time=   5.5s\n",
            "[CV 5/5] END svd__n_components=250, svm__C=10, svm__class_weight=balanced, svm__gamma=1, svm__kernel=linear;, score=0.907 total time=   4.0s\n",
            "[CV 1/5] END svd__n_components=250, svm__C=10, svm__class_weight=balanced, svm__gamma=1, svm__kernel=poly;, score=0.782 total time=   4.0s\n",
            "[CV 2/5] END svd__n_components=250, svm__C=10, svm__class_weight=balanced, svm__gamma=1, svm__kernel=poly;, score=0.798 total time=   5.6s\n",
            "[CV 3/5] END svd__n_components=250, svm__C=10, svm__class_weight=balanced, svm__gamma=1, svm__kernel=poly;, score=0.774 total time=   4.0s\n",
            "[CV 4/5] END svd__n_components=250, svm__C=10, svm__class_weight=balanced, svm__gamma=1, svm__kernel=poly;, score=0.782 total time=   4.1s\n",
            "[CV 5/5] END svd__n_components=250, svm__C=10, svm__class_weight=balanced, svm__gamma=1, svm__kernel=poly;, score=0.794 total time=   5.5s\n",
            "[CV 1/5] END svd__n_components=250, svm__C=10, svm__class_weight=balanced, svm__gamma=10, svm__kernel=linear;, score=0.879 total time=   4.0s\n",
            "[CV 2/5] END svd__n_components=250, svm__C=10, svm__class_weight=balanced, svm__gamma=10, svm__kernel=linear;, score=0.907 total time=   3.9s\n",
            "[CV 3/5] END svd__n_components=250, svm__C=10, svm__class_weight=balanced, svm__gamma=10, svm__kernel=linear;, score=0.903 total time=   5.6s\n",
            "[CV 4/5] END svd__n_components=250, svm__C=10, svm__class_weight=balanced, svm__gamma=10, svm__kernel=linear;, score=0.922 total time=   4.0s\n",
            "[CV 5/5] END svd__n_components=250, svm__C=10, svm__class_weight=balanced, svm__gamma=10, svm__kernel=linear;, score=0.907 total time=   4.1s\n",
            "[CV 1/5] END svd__n_components=250, svm__C=10, svm__class_weight=balanced, svm__gamma=10, svm__kernel=poly;, score=0.782 total time=   5.6s\n",
            "[CV 2/5] END svd__n_components=250, svm__C=10, svm__class_weight=balanced, svm__gamma=10, svm__kernel=poly;, score=0.798 total time=   4.0s\n",
            "[CV 3/5] END svd__n_components=250, svm__C=10, svm__class_weight=balanced, svm__gamma=10, svm__kernel=poly;, score=0.774 total time=   4.1s\n",
            "[CV 4/5] END svd__n_components=250, svm__C=10, svm__class_weight=balanced, svm__gamma=10, svm__kernel=poly;, score=0.782 total time=   5.2s\n",
            "[CV 5/5] END svd__n_components=250, svm__C=10, svm__class_weight=balanced, svm__gamma=10, svm__kernel=poly;, score=0.794 total time=   4.3s\n",
            "[CV 1/5] END svd__n_components=500, svm__C=0.1, svm__class_weight=None, svm__gamma=0.1, svm__kernel=linear;, score=0.911 total time=   7.9s\n",
            "[CV 2/5] END svd__n_components=500, svm__C=0.1, svm__class_weight=None, svm__gamma=0.1, svm__kernel=linear;, score=0.914 total time=   8.5s\n",
            "[CV 3/5] END svd__n_components=500, svm__C=0.1, svm__class_weight=None, svm__gamma=0.1, svm__kernel=linear;, score=0.930 total time=   9.2s\n",
            "[CV 4/5] END svd__n_components=500, svm__C=0.1, svm__class_weight=None, svm__gamma=0.1, svm__kernel=linear;, score=0.942 total time=   7.4s\n",
            "[CV 5/5] END svd__n_components=500, svm__C=0.1, svm__class_weight=None, svm__gamma=0.1, svm__kernel=linear;, score=0.949 total time=   9.2s\n",
            "[CV 1/5] END svd__n_components=500, svm__C=0.1, svm__class_weight=None, svm__gamma=0.1, svm__kernel=poly;, score=0.506 total time=   7.9s\n",
            "[CV 2/5] END svd__n_components=500, svm__C=0.1, svm__class_weight=None, svm__gamma=0.1, svm__kernel=poly;, score=0.588 total time=   8.5s\n",
            "[CV 3/5] END svd__n_components=500, svm__C=0.1, svm__class_weight=None, svm__gamma=0.1, svm__kernel=poly;, score=0.677 total time=   9.1s\n",
            "[CV 4/5] END svd__n_components=500, svm__C=0.1, svm__class_weight=None, svm__gamma=0.1, svm__kernel=poly;, score=0.642 total time=   7.4s\n",
            "[CV 5/5] END svd__n_components=500, svm__C=0.1, svm__class_weight=None, svm__gamma=0.1, svm__kernel=poly;, score=0.716 total time=   9.1s\n",
            "[CV 1/5] END svd__n_components=500, svm__C=0.1, svm__class_weight=None, svm__gamma=1, svm__kernel=linear;, score=0.911 total time=   7.5s\n",
            "[CV 2/5] END svd__n_components=500, svm__C=0.1, svm__class_weight=None, svm__gamma=1, svm__kernel=linear;, score=0.914 total time=   8.6s\n",
            "[CV 3/5] END svd__n_components=500, svm__C=0.1, svm__class_weight=None, svm__gamma=1, svm__kernel=linear;, score=0.930 total time=   9.0s\n",
            "[CV 4/5] END svd__n_components=500, svm__C=0.1, svm__class_weight=None, svm__gamma=1, svm__kernel=linear;, score=0.942 total time=   7.3s\n",
            "[CV 5/5] END svd__n_components=500, svm__C=0.1, svm__class_weight=None, svm__gamma=1, svm__kernel=linear;, score=0.949 total time=   9.0s\n",
            "[CV 1/5] END svd__n_components=500, svm__C=0.1, svm__class_weight=None, svm__gamma=1, svm__kernel=poly;, score=0.506 total time=   7.6s\n",
            "[CV 2/5] END svd__n_components=500, svm__C=0.1, svm__class_weight=None, svm__gamma=1, svm__kernel=poly;, score=0.588 total time=   8.9s\n",
            "[CV 3/5] END svd__n_components=500, svm__C=0.1, svm__class_weight=None, svm__gamma=1, svm__kernel=poly;, score=0.677 total time=   9.1s\n",
            "[CV 4/5] END svd__n_components=500, svm__C=0.1, svm__class_weight=None, svm__gamma=1, svm__kernel=poly;, score=0.642 total time=   7.4s\n",
            "[CV 5/5] END svd__n_components=500, svm__C=0.1, svm__class_weight=None, svm__gamma=1, svm__kernel=poly;, score=0.716 total time=   8.9s\n",
            "[CV 1/5] END svd__n_components=500, svm__C=0.1, svm__class_weight=None, svm__gamma=10, svm__kernel=linear;, score=0.911 total time=   7.4s\n",
            "[CV 2/5] END svd__n_components=500, svm__C=0.1, svm__class_weight=None, svm__gamma=10, svm__kernel=linear;, score=0.914 total time=   9.1s\n",
            "[CV 3/5] END svd__n_components=500, svm__C=0.1, svm__class_weight=None, svm__gamma=10, svm__kernel=linear;, score=0.930 total time=   8.6s\n",
            "[CV 4/5] END svd__n_components=500, svm__C=0.1, svm__class_weight=None, svm__gamma=10, svm__kernel=linear;, score=0.942 total time=   7.7s\n",
            "[CV 5/5] END svd__n_components=500, svm__C=0.1, svm__class_weight=None, svm__gamma=10, svm__kernel=linear;, score=0.949 total time=   9.0s\n",
            "[CV 1/5] END svd__n_components=500, svm__C=0.1, svm__class_weight=None, svm__gamma=10, svm__kernel=poly;, score=0.506 total time=   7.3s\n",
            "[CV 2/5] END svd__n_components=500, svm__C=0.1, svm__class_weight=None, svm__gamma=10, svm__kernel=poly;, score=0.588 total time=   9.1s\n",
            "[CV 3/5] END svd__n_components=500, svm__C=0.1, svm__class_weight=None, svm__gamma=10, svm__kernel=poly;, score=0.677 total time=   8.8s\n",
            "[CV 4/5] END svd__n_components=500, svm__C=0.1, svm__class_weight=None, svm__gamma=10, svm__kernel=poly;, score=0.642 total time=   7.7s\n",
            "[CV 5/5] END svd__n_components=500, svm__C=0.1, svm__class_weight=None, svm__gamma=10, svm__kernel=poly;, score=0.716 total time=   9.2s\n",
            "[CV 1/5] END svd__n_components=500, svm__C=0.1, svm__class_weight=balanced, svm__gamma=0.1, svm__kernel=linear;, score=0.911 total time=   7.4s\n",
            "[CV 2/5] END svd__n_components=500, svm__C=0.1, svm__class_weight=balanced, svm__gamma=0.1, svm__kernel=linear;, score=0.914 total time=   9.1s\n",
            "[CV 3/5] END svd__n_components=500, svm__C=0.1, svm__class_weight=balanced, svm__gamma=0.1, svm__kernel=linear;, score=0.934 total time=   8.3s\n",
            "[CV 4/5] END svd__n_components=500, svm__C=0.1, svm__class_weight=balanced, svm__gamma=0.1, svm__kernel=linear;, score=0.942 total time=   8.0s\n",
            "[CV 5/5] END svd__n_components=500, svm__C=0.1, svm__class_weight=balanced, svm__gamma=0.1, svm__kernel=linear;, score=0.949 total time=   8.9s\n",
            "[CV 1/5] END svd__n_components=500, svm__C=0.1, svm__class_weight=balanced, svm__gamma=0.1, svm__kernel=poly;, score=0.506 total time=   7.4s\n",
            "[CV 2/5] END svd__n_components=500, svm__C=0.1, svm__class_weight=balanced, svm__gamma=0.1, svm__kernel=poly;, score=0.588 total time=   9.0s\n",
            "[CV 3/5] END svd__n_components=500, svm__C=0.1, svm__class_weight=balanced, svm__gamma=0.1, svm__kernel=poly;, score=0.677 total time=   8.2s\n",
            "[CV 4/5] END svd__n_components=500, svm__C=0.1, svm__class_weight=balanced, svm__gamma=0.1, svm__kernel=poly;, score=0.615 total time=   8.4s\n",
            "[CV 5/5] END svd__n_components=500, svm__C=0.1, svm__class_weight=balanced, svm__gamma=0.1, svm__kernel=poly;, score=0.654 total time=   9.0s\n",
            "[CV 1/5] END svd__n_components=500, svm__C=0.1, svm__class_weight=balanced, svm__gamma=1, svm__kernel=linear;, score=0.911 total time=   7.4s\n",
            "[CV 2/5] END svd__n_components=500, svm__C=0.1, svm__class_weight=balanced, svm__gamma=1, svm__kernel=linear;, score=0.914 total time=   9.0s\n",
            "[CV 3/5] END svd__n_components=500, svm__C=0.1, svm__class_weight=balanced, svm__gamma=1, svm__kernel=linear;, score=0.934 total time=   8.0s\n",
            "[CV 4/5] END svd__n_components=500, svm__C=0.1, svm__class_weight=balanced, svm__gamma=1, svm__kernel=linear;, score=0.942 total time=   8.4s\n",
            "[CV 5/5] END svd__n_components=500, svm__C=0.1, svm__class_weight=balanced, svm__gamma=1, svm__kernel=linear;, score=0.949 total time=   9.0s\n",
            "[CV 1/5] END svd__n_components=500, svm__C=0.1, svm__class_weight=balanced, svm__gamma=1, svm__kernel=poly;, score=0.506 total time=   7.5s\n",
            "[CV 2/5] END svd__n_components=500, svm__C=0.1, svm__class_weight=balanced, svm__gamma=1, svm__kernel=poly;, score=0.588 total time=   9.2s\n",
            "[CV 3/5] END svd__n_components=500, svm__C=0.1, svm__class_weight=balanced, svm__gamma=1, svm__kernel=poly;, score=0.677 total time=   8.1s\n",
            "[CV 4/5] END svd__n_components=500, svm__C=0.1, svm__class_weight=balanced, svm__gamma=1, svm__kernel=poly;, score=0.646 total time=   8.4s\n",
            "[CV 5/5] END svd__n_components=500, svm__C=0.1, svm__class_weight=balanced, svm__gamma=1, svm__kernel=poly;, score=0.716 total time=   9.0s\n",
            "[CV 1/5] END svd__n_components=500, svm__C=0.1, svm__class_weight=balanced, svm__gamma=10, svm__kernel=linear;, score=0.911 total time=   7.2s\n",
            "[CV 2/5] END svd__n_components=500, svm__C=0.1, svm__class_weight=balanced, svm__gamma=10, svm__kernel=linear;, score=0.914 total time=   9.1s\n",
            "[CV 3/5] END svd__n_components=500, svm__C=0.1, svm__class_weight=balanced, svm__gamma=10, svm__kernel=linear;, score=0.934 total time=   7.5s\n",
            "[CV 4/5] END svd__n_components=500, svm__C=0.1, svm__class_weight=balanced, svm__gamma=10, svm__kernel=linear;, score=0.942 total time=   8.7s\n",
            "[CV 5/5] END svd__n_components=500, svm__C=0.1, svm__class_weight=balanced, svm__gamma=10, svm__kernel=linear;, score=0.949 total time=   8.9s\n",
            "[CV 1/5] END svd__n_components=500, svm__C=0.1, svm__class_weight=balanced, svm__gamma=10, svm__kernel=poly;, score=0.506 total time=   7.6s\n",
            "[CV 2/5] END svd__n_components=500, svm__C=0.1, svm__class_weight=balanced, svm__gamma=10, svm__kernel=poly;, score=0.588 total time=   9.2s\n",
            "[CV 3/5] END svd__n_components=500, svm__C=0.1, svm__class_weight=balanced, svm__gamma=10, svm__kernel=poly;, score=0.677 total time=   7.6s\n",
            "[CV 4/5] END svd__n_components=500, svm__C=0.1, svm__class_weight=balanced, svm__gamma=10, svm__kernel=poly;, score=0.646 total time=   8.8s\n",
            "[CV 5/5] END svd__n_components=500, svm__C=0.1, svm__class_weight=balanced, svm__gamma=10, svm__kernel=poly;, score=0.716 total time=   9.3s\n",
            "[CV 1/5] END svd__n_components=500, svm__C=1, svm__class_weight=None, svm__gamma=0.1, svm__kernel=linear;, score=0.914 total time=   7.3s\n",
            "[CV 2/5] END svd__n_components=500, svm__C=1, svm__class_weight=None, svm__gamma=0.1, svm__kernel=linear;, score=0.914 total time=   9.0s\n",
            "[CV 3/5] END svd__n_components=500, svm__C=1, svm__class_weight=None, svm__gamma=0.1, svm__kernel=linear;, score=0.926 total time=   7.4s\n",
            "[CV 4/5] END svd__n_components=500, svm__C=1, svm__class_weight=None, svm__gamma=0.1, svm__kernel=linear;, score=0.942 total time=   9.2s\n",
            "[CV 5/5] END svd__n_components=500, svm__C=1, svm__class_weight=None, svm__gamma=0.1, svm__kernel=linear;, score=0.938 total time=   9.1s\n",
            "[CV 1/5] END svd__n_components=500, svm__C=1, svm__class_weight=None, svm__gamma=0.1, svm__kernel=poly;, score=0.506 total time=   7.5s\n",
            "[CV 2/5] END svd__n_components=500, svm__C=1, svm__class_weight=None, svm__gamma=0.1, svm__kernel=poly;, score=0.588 total time=   9.3s\n",
            "[CV 3/5] END svd__n_components=500, svm__C=1, svm__class_weight=None, svm__gamma=0.1, svm__kernel=poly;, score=0.677 total time=   7.5s\n",
            "[CV 4/5] END svd__n_components=500, svm__C=1, svm__class_weight=None, svm__gamma=0.1, svm__kernel=poly;, score=0.642 total time=   9.2s\n",
            "[CV 5/5] END svd__n_components=500, svm__C=1, svm__class_weight=None, svm__gamma=0.1, svm__kernel=poly;, score=0.716 total time=   9.3s\n",
            "[CV 1/5] END svd__n_components=500, svm__C=1, svm__class_weight=None, svm__gamma=1, svm__kernel=linear;, score=0.914 total time=   7.5s\n",
            "[CV 2/5] END svd__n_components=500, svm__C=1, svm__class_weight=None, svm__gamma=1, svm__kernel=linear;, score=0.914 total time=   9.2s\n",
            "[CV 3/5] END svd__n_components=500, svm__C=1, svm__class_weight=None, svm__gamma=1, svm__kernel=linear;, score=0.926 total time=   7.3s\n",
            "[CV 4/5] END svd__n_components=500, svm__C=1, svm__class_weight=None, svm__gamma=1, svm__kernel=linear;, score=0.942 total time=   9.5s\n",
            "[CV 5/5] END svd__n_components=500, svm__C=1, svm__class_weight=None, svm__gamma=1, svm__kernel=linear;, score=0.938 total time=   9.2s\n",
            "[CV 1/5] END svd__n_components=500, svm__C=1, svm__class_weight=None, svm__gamma=1, svm__kernel=poly;, score=0.506 total time=   7.6s\n",
            "[CV 2/5] END svd__n_components=500, svm__C=1, svm__class_weight=None, svm__gamma=1, svm__kernel=poly;, score=0.588 total time=   9.4s\n",
            "[CV 3/5] END svd__n_components=500, svm__C=1, svm__class_weight=None, svm__gamma=1, svm__kernel=poly;, score=0.677 total time=   7.5s\n",
            "[CV 4/5] END svd__n_components=500, svm__C=1, svm__class_weight=None, svm__gamma=1, svm__kernel=poly;, score=0.642 total time=   9.1s\n",
            "[CV 5/5] END svd__n_components=500, svm__C=1, svm__class_weight=None, svm__gamma=1, svm__kernel=poly;, score=0.716 total time=   9.0s\n",
            "[CV 1/5] END svd__n_components=500, svm__C=1, svm__class_weight=None, svm__gamma=10, svm__kernel=linear;, score=0.914 total time=   7.5s\n",
            "[CV 2/5] END svd__n_components=500, svm__C=1, svm__class_weight=None, svm__gamma=10, svm__kernel=linear;, score=0.914 total time=   9.1s\n",
            "[CV 3/5] END svd__n_components=500, svm__C=1, svm__class_weight=None, svm__gamma=10, svm__kernel=linear;, score=0.926 total time=   7.3s\n",
            "[CV 4/5] END svd__n_components=500, svm__C=1, svm__class_weight=None, svm__gamma=10, svm__kernel=linear;, score=0.942 total time=   9.0s\n",
            "[CV 5/5] END svd__n_components=500, svm__C=1, svm__class_weight=None, svm__gamma=10, svm__kernel=linear;, score=0.938 total time=   8.7s\n",
            "[CV 1/5] END svd__n_components=500, svm__C=1, svm__class_weight=None, svm__gamma=10, svm__kernel=poly;, score=0.506 total time=   7.7s\n",
            "[CV 2/5] END svd__n_components=500, svm__C=1, svm__class_weight=None, svm__gamma=10, svm__kernel=poly;, score=0.588 total time=   9.3s\n",
            "[CV 3/5] END svd__n_components=500, svm__C=1, svm__class_weight=None, svm__gamma=10, svm__kernel=poly;, score=0.677 total time=   7.6s\n",
            "[CV 4/5] END svd__n_components=500, svm__C=1, svm__class_weight=None, svm__gamma=10, svm__kernel=poly;, score=0.642 total time=   9.2s\n",
            "[CV 5/5] END svd__n_components=500, svm__C=1, svm__class_weight=None, svm__gamma=10, svm__kernel=poly;, score=0.716 total time=   9.3s\n",
            "[CV 1/5] END svd__n_components=500, svm__C=1, svm__class_weight=balanced, svm__gamma=0.1, svm__kernel=linear;, score=0.914 total time=   7.5s\n",
            "[CV 2/5] END svd__n_components=500, svm__C=1, svm__class_weight=balanced, svm__gamma=0.1, svm__kernel=linear;, score=0.914 total time=   9.2s\n",
            "[CV 3/5] END svd__n_components=500, svm__C=1, svm__class_weight=balanced, svm__gamma=0.1, svm__kernel=linear;, score=0.926 total time=   7.4s\n",
            "[CV 4/5] END svd__n_components=500, svm__C=1, svm__class_weight=balanced, svm__gamma=0.1, svm__kernel=linear;, score=0.942 total time=   8.9s\n",
            "[CV 5/5] END svd__n_components=500, svm__C=1, svm__class_weight=balanced, svm__gamma=0.1, svm__kernel=linear;, score=0.938 total time=   9.0s\n",
            "[CV 1/5] END svd__n_components=500, svm__C=1, svm__class_weight=balanced, svm__gamma=0.1, svm__kernel=poly;, score=0.506 total time=   7.5s\n",
            "[CV 2/5] END svd__n_components=500, svm__C=1, svm__class_weight=balanced, svm__gamma=0.1, svm__kernel=poly;, score=0.588 total time=   9.1s\n",
            "[CV 3/5] END svd__n_components=500, svm__C=1, svm__class_weight=balanced, svm__gamma=0.1, svm__kernel=poly;, score=0.677 total time=   7.4s\n",
            "[CV 4/5] END svd__n_components=500, svm__C=1, svm__class_weight=balanced, svm__gamma=0.1, svm__kernel=poly;, score=0.646 total time=   9.1s\n",
            "[CV 5/5] END svd__n_components=500, svm__C=1, svm__class_weight=balanced, svm__gamma=0.1, svm__kernel=poly;, score=0.716 total time=   9.0s\n",
            "[CV 1/5] END svd__n_components=500, svm__C=1, svm__class_weight=balanced, svm__gamma=1, svm__kernel=linear;, score=0.914 total time=   7.4s\n",
            "[CV 2/5] END svd__n_components=500, svm__C=1, svm__class_weight=balanced, svm__gamma=1, svm__kernel=linear;, score=0.914 total time=   9.0s\n",
            "[CV 3/5] END svd__n_components=500, svm__C=1, svm__class_weight=balanced, svm__gamma=1, svm__kernel=linear;, score=0.926 total time=   7.5s\n",
            "[CV 4/5] END svd__n_components=500, svm__C=1, svm__class_weight=balanced, svm__gamma=1, svm__kernel=linear;, score=0.942 total time=   8.9s\n",
            "[CV 5/5] END svd__n_components=500, svm__C=1, svm__class_weight=balanced, svm__gamma=1, svm__kernel=linear;, score=0.938 total time=   9.0s\n",
            "[CV 1/5] END svd__n_components=500, svm__C=1, svm__class_weight=balanced, svm__gamma=1, svm__kernel=poly;, score=0.506 total time=   7.5s\n",
            "[CV 2/5] END svd__n_components=500, svm__C=1, svm__class_weight=balanced, svm__gamma=1, svm__kernel=poly;, score=0.588 total time=   9.0s\n",
            "[CV 3/5] END svd__n_components=500, svm__C=1, svm__class_weight=balanced, svm__gamma=1, svm__kernel=poly;, score=0.677 total time=   7.5s\n",
            "[CV 4/5] END svd__n_components=500, svm__C=1, svm__class_weight=balanced, svm__gamma=1, svm__kernel=poly;, score=0.646 total time=   9.2s\n",
            "[CV 5/5] END svd__n_components=500, svm__C=1, svm__class_weight=balanced, svm__gamma=1, svm__kernel=poly;, score=0.716 total time=   8.9s\n",
            "[CV 1/5] END svd__n_components=500, svm__C=1, svm__class_weight=balanced, svm__gamma=10, svm__kernel=linear;, score=0.914 total time=   7.4s\n",
            "[CV 2/5] END svd__n_components=500, svm__C=1, svm__class_weight=balanced, svm__gamma=10, svm__kernel=linear;, score=0.914 total time=   9.0s\n",
            "[CV 3/5] END svd__n_components=500, svm__C=1, svm__class_weight=balanced, svm__gamma=10, svm__kernel=linear;, score=0.926 total time=   7.3s\n",
            "[CV 4/5] END svd__n_components=500, svm__C=1, svm__class_weight=balanced, svm__gamma=10, svm__kernel=linear;, score=0.942 total time=   9.0s\n",
            "[CV 5/5] END svd__n_components=500, svm__C=1, svm__class_weight=balanced, svm__gamma=10, svm__kernel=linear;, score=0.938 total time=   8.7s\n",
            "[CV 1/5] END svd__n_components=500, svm__C=1, svm__class_weight=balanced, svm__gamma=10, svm__kernel=poly;, score=0.506 total time=   7.5s\n",
            "[CV 2/5] END svd__n_components=500, svm__C=1, svm__class_weight=balanced, svm__gamma=10, svm__kernel=poly;, score=0.588 total time=   9.2s\n",
            "[CV 3/5] END svd__n_components=500, svm__C=1, svm__class_weight=balanced, svm__gamma=10, svm__kernel=poly;, score=0.677 total time=   7.5s\n",
            "[CV 4/5] END svd__n_components=500, svm__C=1, svm__class_weight=balanced, svm__gamma=10, svm__kernel=poly;, score=0.646 total time=   9.1s\n",
            "[CV 5/5] END svd__n_components=500, svm__C=1, svm__class_weight=balanced, svm__gamma=10, svm__kernel=poly;, score=0.716 total time=   9.2s\n",
            "[CV 1/5] END svd__n_components=500, svm__C=10, svm__class_weight=None, svm__gamma=0.1, svm__kernel=linear;, score=0.914 total time=   7.5s\n",
            "[CV 2/5] END svd__n_components=500, svm__C=10, svm__class_weight=None, svm__gamma=0.1, svm__kernel=linear;, score=0.914 total time=   9.1s\n",
            "[CV 3/5] END svd__n_components=500, svm__C=10, svm__class_weight=None, svm__gamma=0.1, svm__kernel=linear;, score=0.926 total time=   7.3s\n",
            "[CV 4/5] END svd__n_components=500, svm__C=10, svm__class_weight=None, svm__gamma=0.1, svm__kernel=linear;, score=0.942 total time=   9.1s\n",
            "[CV 5/5] END svd__n_components=500, svm__C=10, svm__class_weight=None, svm__gamma=0.1, svm__kernel=linear;, score=0.938 total time=   8.8s\n",
            "[CV 1/5] END svd__n_components=500, svm__C=10, svm__class_weight=None, svm__gamma=0.1, svm__kernel=poly;, score=0.506 total time=   7.7s\n",
            "[CV 2/5] END svd__n_components=500, svm__C=10, svm__class_weight=None, svm__gamma=0.1, svm__kernel=poly;, score=0.588 total time=   9.1s\n",
            "[CV 3/5] END svd__n_components=500, svm__C=10, svm__class_weight=None, svm__gamma=0.1, svm__kernel=poly;, score=0.677 total time=   7.4s\n",
            "[CV 4/5] END svd__n_components=500, svm__C=10, svm__class_weight=None, svm__gamma=0.1, svm__kernel=poly;, score=0.642 total time=   9.0s\n",
            "[CV 5/5] END svd__n_components=500, svm__C=10, svm__class_weight=None, svm__gamma=0.1, svm__kernel=poly;, score=0.716 total time=   8.9s\n",
            "[CV 1/5] END svd__n_components=500, svm__C=10, svm__class_weight=None, svm__gamma=1, svm__kernel=linear;, score=0.914 total time=   7.6s\n",
            "[CV 2/5] END svd__n_components=500, svm__C=10, svm__class_weight=None, svm__gamma=1, svm__kernel=linear;, score=0.914 total time=   9.2s\n",
            "[CV 3/5] END svd__n_components=500, svm__C=10, svm__class_weight=None, svm__gamma=1, svm__kernel=linear;, score=0.926 total time=   7.4s\n",
            "[CV 4/5] END svd__n_components=500, svm__C=10, svm__class_weight=None, svm__gamma=1, svm__kernel=linear;, score=0.942 total time=   9.1s\n",
            "[CV 5/5] END svd__n_components=500, svm__C=10, svm__class_weight=None, svm__gamma=1, svm__kernel=linear;, score=0.938 total time=   8.7s\n",
            "[CV 1/5] END svd__n_components=500, svm__C=10, svm__class_weight=None, svm__gamma=1, svm__kernel=poly;, score=0.506 total time=   7.6s\n",
            "[CV 2/5] END svd__n_components=500, svm__C=10, svm__class_weight=None, svm__gamma=1, svm__kernel=poly;, score=0.588 total time=   9.2s\n",
            "[CV 3/5] END svd__n_components=500, svm__C=10, svm__class_weight=None, svm__gamma=1, svm__kernel=poly;, score=0.677 total time=   7.5s\n",
            "[CV 4/5] END svd__n_components=500, svm__C=10, svm__class_weight=None, svm__gamma=1, svm__kernel=poly;, score=0.642 total time=   9.1s\n",
            "[CV 5/5] END svd__n_components=500, svm__C=10, svm__class_weight=None, svm__gamma=1, svm__kernel=poly;, score=0.716 total time=   8.9s\n",
            "[CV 1/5] END svd__n_components=500, svm__C=10, svm__class_weight=None, svm__gamma=10, svm__kernel=linear;, score=0.914 total time=   7.5s\n",
            "[CV 2/5] END svd__n_components=500, svm__C=10, svm__class_weight=None, svm__gamma=10, svm__kernel=linear;, score=0.914 total time=   9.0s\n",
            "[CV 3/5] END svd__n_components=500, svm__C=10, svm__class_weight=None, svm__gamma=10, svm__kernel=linear;, score=0.926 total time=   7.3s\n",
            "[CV 4/5] END svd__n_components=500, svm__C=10, svm__class_weight=None, svm__gamma=10, svm__kernel=linear;, score=0.942 total time=   9.0s\n",
            "[CV 5/5] END svd__n_components=500, svm__C=10, svm__class_weight=None, svm__gamma=10, svm__kernel=linear;, score=0.938 total time=   8.7s\n",
            "[CV 1/5] END svd__n_components=500, svm__C=10, svm__class_weight=None, svm__gamma=10, svm__kernel=poly;, score=0.506 total time=   8.0s\n",
            "[CV 2/5] END svd__n_components=500, svm__C=10, svm__class_weight=None, svm__gamma=10, svm__kernel=poly;, score=0.588 total time=   9.3s\n",
            "[CV 3/5] END svd__n_components=500, svm__C=10, svm__class_weight=None, svm__gamma=10, svm__kernel=poly;, score=0.677 total time=   7.3s\n",
            "[CV 4/5] END svd__n_components=500, svm__C=10, svm__class_weight=None, svm__gamma=10, svm__kernel=poly;, score=0.642 total time=   9.1s\n",
            "[CV 5/5] END svd__n_components=500, svm__C=10, svm__class_weight=None, svm__gamma=10, svm__kernel=poly;, score=0.716 total time=   8.2s\n",
            "[CV 1/5] END svd__n_components=500, svm__C=10, svm__class_weight=balanced, svm__gamma=0.1, svm__kernel=linear;, score=0.914 total time=   8.0s\n",
            "[CV 2/5] END svd__n_components=500, svm__C=10, svm__class_weight=balanced, svm__gamma=0.1, svm__kernel=linear;, score=0.914 total time=   9.0s\n",
            "[CV 3/5] END svd__n_components=500, svm__C=10, svm__class_weight=balanced, svm__gamma=0.1, svm__kernel=linear;, score=0.926 total time=   7.3s\n",
            "[CV 4/5] END svd__n_components=500, svm__C=10, svm__class_weight=balanced, svm__gamma=0.1, svm__kernel=linear;, score=0.942 total time=   9.0s\n",
            "[CV 5/5] END svd__n_components=500, svm__C=10, svm__class_weight=balanced, svm__gamma=0.1, svm__kernel=linear;, score=0.938 total time=   7.6s\n",
            "[CV 1/5] END svd__n_components=500, svm__C=10, svm__class_weight=balanced, svm__gamma=0.1, svm__kernel=poly;, score=0.506 total time=   8.7s\n",
            "[CV 2/5] END svd__n_components=500, svm__C=10, svm__class_weight=balanced, svm__gamma=0.1, svm__kernel=poly;, score=0.588 total time=   9.1s\n",
            "[CV 3/5] END svd__n_components=500, svm__C=10, svm__class_weight=balanced, svm__gamma=0.1, svm__kernel=poly;, score=0.677 total time=   7.4s\n",
            "[CV 4/5] END svd__n_components=500, svm__C=10, svm__class_weight=balanced, svm__gamma=0.1, svm__kernel=poly;, score=0.646 total time=   9.1s\n",
            "[CV 5/5] END svd__n_components=500, svm__C=10, svm__class_weight=balanced, svm__gamma=0.1, svm__kernel=poly;, score=0.716 total time=   8.0s\n",
            "[CV 1/5] END svd__n_components=500, svm__C=10, svm__class_weight=balanced, svm__gamma=1, svm__kernel=linear;, score=0.914 total time=   8.4s\n",
            "[CV 2/5] END svd__n_components=500, svm__C=10, svm__class_weight=balanced, svm__gamma=1, svm__kernel=linear;, score=0.914 total time=   8.9s\n",
            "[CV 3/5] END svd__n_components=500, svm__C=10, svm__class_weight=balanced, svm__gamma=1, svm__kernel=linear;, score=0.926 total time=   7.3s\n",
            "[CV 4/5] END svd__n_components=500, svm__C=10, svm__class_weight=balanced, svm__gamma=1, svm__kernel=linear;, score=0.942 total time=   9.0s\n",
            "[CV 5/5] END svd__n_components=500, svm__C=10, svm__class_weight=balanced, svm__gamma=1, svm__kernel=linear;, score=0.938 total time=   7.6s\n",
            "[CV 1/5] END svd__n_components=500, svm__C=10, svm__class_weight=balanced, svm__gamma=1, svm__kernel=poly;, score=0.506 total time=   8.8s\n",
            "[CV 3/5] END svd__n_components=500, svm__C=10, svm__class_weight=balanced, svm__gamma=1, svm__kernel=poly;, score=0.677 total time=   7.4s\n",
            "[CV 4/5] END svd__n_components=500, svm__C=10, svm__class_weight=balanced, svm__gamma=1, svm__kernel=poly;, score=0.646 total time=   9.0s\n",
            "[CV 5/5] END svd__n_components=500, svm__C=10, svm__class_weight=balanced, svm__gamma=1, svm__kernel=poly;, score=0.716 total time=   7.7s\n",
            "[CV 1/5] END svd__n_components=500, svm__C=10, svm__class_weight=balanced, svm__gamma=10, svm__kernel=linear;, score=0.914 total time=   8.8s\n",
            "[CV 2/5] END svd__n_components=500, svm__C=10, svm__class_weight=balanced, svm__gamma=10, svm__kernel=linear;, score=0.914 total time=   9.0s\n",
            "[CV 3/5] END svd__n_components=500, svm__C=10, svm__class_weight=balanced, svm__gamma=10, svm__kernel=linear;, score=0.926 total time=   7.3s\n",
            "[CV 4/5] END svd__n_components=500, svm__C=10, svm__class_weight=balanced, svm__gamma=10, svm__kernel=linear;, score=0.942 total time=   9.0s\n",
            "[CV 5/5] END svd__n_components=500, svm__C=10, svm__class_weight=balanced, svm__gamma=10, svm__kernel=linear;, score=0.938 total time=   7.3s\n",
            "[CV 1/5] END svd__n_components=500, svm__C=10, svm__class_weight=balanced, svm__gamma=10, svm__kernel=poly;, score=0.506 total time=   9.1s\n",
            "[CV 2/5] END svd__n_components=500, svm__C=10, svm__class_weight=balanced, svm__gamma=10, svm__kernel=poly;, score=0.588 total time=   9.1s\n",
            "[CV 3/5] END svd__n_components=500, svm__C=10, svm__class_weight=balanced, svm__gamma=10, svm__kernel=poly;, score=0.677 total time=   7.4s\n",
            "[CV 4/5] END svd__n_components=500, svm__C=10, svm__class_weight=balanced, svm__gamma=10, svm__kernel=poly;, score=0.646 total time=   9.0s\n",
            "[CV 5/5] END svd__n_components=500, svm__C=10, svm__class_weight=balanced, svm__gamma=10, svm__kernel=poly;, score=0.716 total time=   7.5s\n"
          ]
        },
        {
          "output_type": "execute_result",
          "data": {
            "text/plain": [
              "GridSearchCV(cv=5,\n",
              "             estimator=Pipeline(steps=[('scaler', StandardScaler()),\n",
              "                                       ('svd', TruncatedSVD(random_state=1)),\n",
              "                                       ('svm', SVC(random_state=1))]),\n",
              "             param_grid={'svd__n_components': [100, 250, 500],\n",
              "                         'svm__C': [0.1, 1, 10],\n",
              "                         'svm__class_weight': [None, 'balanced'],\n",
              "                         'svm__gamma': [0.1, 1, 10],\n",
              "                         'svm__kernel': ['linear', 'poly']},\n",
              "             verbose=5)"
            ],
            "text/html": [
              "<style>#sk-container-id-5 {color: black;background-color: white;}#sk-container-id-5 pre{padding: 0;}#sk-container-id-5 div.sk-toggleable {background-color: white;}#sk-container-id-5 label.sk-toggleable__label {cursor: pointer;display: block;width: 100%;margin-bottom: 0;padding: 0.3em;box-sizing: border-box;text-align: center;}#sk-container-id-5 label.sk-toggleable__label-arrow:before {content: \"▸\";float: left;margin-right: 0.25em;color: #696969;}#sk-container-id-5 label.sk-toggleable__label-arrow:hover:before {color: black;}#sk-container-id-5 div.sk-estimator:hover label.sk-toggleable__label-arrow:before {color: black;}#sk-container-id-5 div.sk-toggleable__content {max-height: 0;max-width: 0;overflow: hidden;text-align: left;background-color: #f0f8ff;}#sk-container-id-5 div.sk-toggleable__content pre {margin: 0.2em;color: black;border-radius: 0.25em;background-color: #f0f8ff;}#sk-container-id-5 input.sk-toggleable__control:checked~div.sk-toggleable__content {max-height: 200px;max-width: 100%;overflow: auto;}#sk-container-id-5 input.sk-toggleable__control:checked~label.sk-toggleable__label-arrow:before {content: \"▾\";}#sk-container-id-5 div.sk-estimator input.sk-toggleable__control:checked~label.sk-toggleable__label {background-color: #d4ebff;}#sk-container-id-5 div.sk-label input.sk-toggleable__control:checked~label.sk-toggleable__label {background-color: #d4ebff;}#sk-container-id-5 input.sk-hidden--visually {border: 0;clip: rect(1px 1px 1px 1px);clip: rect(1px, 1px, 1px, 1px);height: 1px;margin: -1px;overflow: hidden;padding: 0;position: absolute;width: 1px;}#sk-container-id-5 div.sk-estimator {font-family: monospace;background-color: #f0f8ff;border: 1px dotted black;border-radius: 0.25em;box-sizing: border-box;margin-bottom: 0.5em;}#sk-container-id-5 div.sk-estimator:hover {background-color: #d4ebff;}#sk-container-id-5 div.sk-parallel-item::after {content: \"\";width: 100%;border-bottom: 1px solid gray;flex-grow: 1;}#sk-container-id-5 div.sk-label:hover label.sk-toggleable__label {background-color: #d4ebff;}#sk-container-id-5 div.sk-serial::before {content: \"\";position: absolute;border-left: 1px solid gray;box-sizing: border-box;top: 0;bottom: 0;left: 50%;z-index: 0;}#sk-container-id-5 div.sk-serial {display: flex;flex-direction: column;align-items: center;background-color: white;padding-right: 0.2em;padding-left: 0.2em;position: relative;}#sk-container-id-5 div.sk-item {position: relative;z-index: 1;}#sk-container-id-5 div.sk-parallel {display: flex;align-items: stretch;justify-content: center;background-color: white;position: relative;}#sk-container-id-5 div.sk-item::before, #sk-container-id-5 div.sk-parallel-item::before {content: \"\";position: absolute;border-left: 1px solid gray;box-sizing: border-box;top: 0;bottom: 0;left: 50%;z-index: -1;}#sk-container-id-5 div.sk-parallel-item {display: flex;flex-direction: column;z-index: 1;position: relative;background-color: white;}#sk-container-id-5 div.sk-parallel-item:first-child::after {align-self: flex-end;width: 50%;}#sk-container-id-5 div.sk-parallel-item:last-child::after {align-self: flex-start;width: 50%;}#sk-container-id-5 div.sk-parallel-item:only-child::after {width: 0;}#sk-container-id-5 div.sk-dashed-wrapped {border: 1px dashed gray;margin: 0 0.4em 0.5em 0.4em;box-sizing: border-box;padding-bottom: 0.4em;background-color: white;}#sk-container-id-5 div.sk-label label {font-family: monospace;font-weight: bold;display: inline-block;line-height: 1.2em;}#sk-container-id-5 div.sk-label-container {text-align: center;}#sk-container-id-5 div.sk-container {/* jupyter's `normalize.less` sets `[hidden] { display: none; }` but bootstrap.min.css set `[hidden] { display: none !important; }` so we also need the `!important` here to be able to override the default hidden behavior on the sphinx rendered scikit-learn.org. See: https://github.com/scikit-learn/scikit-learn/issues/21755 */display: inline-block !important;position: relative;}#sk-container-id-5 div.sk-text-repr-fallback {display: none;}</style><div id=\"sk-container-id-5\" class=\"sk-top-container\"><div class=\"sk-text-repr-fallback\"><pre>GridSearchCV(cv=5,\n",
              "             estimator=Pipeline(steps=[(&#x27;scaler&#x27;, StandardScaler()),\n",
              "                                       (&#x27;svd&#x27;, TruncatedSVD(random_state=1)),\n",
              "                                       (&#x27;svm&#x27;, SVC(random_state=1))]),\n",
              "             param_grid={&#x27;svd__n_components&#x27;: [100, 250, 500],\n",
              "                         &#x27;svm__C&#x27;: [0.1, 1, 10],\n",
              "                         &#x27;svm__class_weight&#x27;: [None, &#x27;balanced&#x27;],\n",
              "                         &#x27;svm__gamma&#x27;: [0.1, 1, 10],\n",
              "                         &#x27;svm__kernel&#x27;: [&#x27;linear&#x27;, &#x27;poly&#x27;]},\n",
              "             verbose=5)</pre><b>In a Jupyter environment, please rerun this cell to show the HTML representation or trust the notebook. <br />On GitHub, the HTML representation is unable to render, please try loading this page with nbviewer.org.</b></div><div class=\"sk-container\" hidden><div class=\"sk-item sk-dashed-wrapped\"><div class=\"sk-label-container\"><div class=\"sk-label sk-toggleable\"><input class=\"sk-toggleable__control sk-hidden--visually\" id=\"sk-estimator-id-17\" type=\"checkbox\" ><label for=\"sk-estimator-id-17\" class=\"sk-toggleable__label sk-toggleable__label-arrow\">GridSearchCV</label><div class=\"sk-toggleable__content\"><pre>GridSearchCV(cv=5,\n",
              "             estimator=Pipeline(steps=[(&#x27;scaler&#x27;, StandardScaler()),\n",
              "                                       (&#x27;svd&#x27;, TruncatedSVD(random_state=1)),\n",
              "                                       (&#x27;svm&#x27;, SVC(random_state=1))]),\n",
              "             param_grid={&#x27;svd__n_components&#x27;: [100, 250, 500],\n",
              "                         &#x27;svm__C&#x27;: [0.1, 1, 10],\n",
              "                         &#x27;svm__class_weight&#x27;: [None, &#x27;balanced&#x27;],\n",
              "                         &#x27;svm__gamma&#x27;: [0.1, 1, 10],\n",
              "                         &#x27;svm__kernel&#x27;: [&#x27;linear&#x27;, &#x27;poly&#x27;]},\n",
              "             verbose=5)</pre></div></div></div><div class=\"sk-parallel\"><div class=\"sk-parallel-item\"><div class=\"sk-item\"><div class=\"sk-label-container\"><div class=\"sk-label sk-toggleable\"><input class=\"sk-toggleable__control sk-hidden--visually\" id=\"sk-estimator-id-18\" type=\"checkbox\" ><label for=\"sk-estimator-id-18\" class=\"sk-toggleable__label sk-toggleable__label-arrow\">estimator: Pipeline</label><div class=\"sk-toggleable__content\"><pre>Pipeline(steps=[(&#x27;scaler&#x27;, StandardScaler()),\n",
              "                (&#x27;svd&#x27;, TruncatedSVD(random_state=1)),\n",
              "                (&#x27;svm&#x27;, SVC(random_state=1))])</pre></div></div></div><div class=\"sk-serial\"><div class=\"sk-item\"><div class=\"sk-serial\"><div class=\"sk-item\"><div class=\"sk-estimator sk-toggleable\"><input class=\"sk-toggleable__control sk-hidden--visually\" id=\"sk-estimator-id-19\" type=\"checkbox\" ><label for=\"sk-estimator-id-19\" class=\"sk-toggleable__label sk-toggleable__label-arrow\">StandardScaler</label><div class=\"sk-toggleable__content\"><pre>StandardScaler()</pre></div></div></div><div class=\"sk-item\"><div class=\"sk-estimator sk-toggleable\"><input class=\"sk-toggleable__control sk-hidden--visually\" id=\"sk-estimator-id-20\" type=\"checkbox\" ><label for=\"sk-estimator-id-20\" class=\"sk-toggleable__label sk-toggleable__label-arrow\">TruncatedSVD</label><div class=\"sk-toggleable__content\"><pre>TruncatedSVD(random_state=1)</pre></div></div></div><div class=\"sk-item\"><div class=\"sk-estimator sk-toggleable\"><input class=\"sk-toggleable__control sk-hidden--visually\" id=\"sk-estimator-id-21\" type=\"checkbox\" ><label for=\"sk-estimator-id-21\" class=\"sk-toggleable__label sk-toggleable__label-arrow\">SVC</label><div class=\"sk-toggleable__content\"><pre>SVC(random_state=1)</pre></div></div></div></div></div></div></div></div></div></div></div></div>"
            ]
          },
          "metadata": {},
          "execution_count": 33
        }
      ]
    },
    {
      "cell_type": "code",
      "source": [
        "grid_search_svm.best_score_, grid_search_svm.best_params_"
      ],
      "metadata": {
        "colab": {
          "base_uri": "https://localhost:8080/"
        },
        "id": "eT5ycGuUHNWs",
        "outputId": "33bb570f-c456-46ea-a77d-528963456eee"
      },
      "execution_count": 34,
      "outputs": [
        {
          "output_type": "execute_result",
          "data": {
            "text/plain": [
              "(0.9299610894941635,\n",
              " {'svd__n_components': 500,\n",
              "  'svm__C': 0.1,\n",
              "  'svm__class_weight': 'balanced',\n",
              "  'svm__gamma': 0.1,\n",
              "  'svm__kernel': 'linear'})"
            ]
          },
          "metadata": {},
          "execution_count": 34
        }
      ]
    },
    {
      "cell_type": "code",
      "source": [
        "tuned_svm = Pipeline(steps=[(\"scaler\", StandardScaler()), (\"svd\", TruncatedSVD(random_state = 1, n_components = 500)) ,\n",
        "                                (\"svm\", SVC(random_state = 1, C = 0.1, class_weight = 'balanced', gamma = 0.1,\n",
        "                                            kernel = 'linear'))])\n",
        "tuned_svm.fit(X_train_tf_idf, y_train)"
      ],
      "metadata": {
        "colab": {
          "base_uri": "https://localhost:8080/",
          "height": 161
        },
        "id": "oI0MPES9HWQh",
        "outputId": "c71142f7-3762-4e40-c53c-99bbee39168f"
      },
      "execution_count": 43,
      "outputs": [
        {
          "output_type": "execute_result",
          "data": {
            "text/plain": [
              "Pipeline(steps=[('scaler', StandardScaler()),\n",
              "                ('svd', TruncatedSVD(n_components=500, random_state=1)),\n",
              "                ('svm',\n",
              "                 SVC(C=0.1, class_weight='balanced', gamma=0.1, kernel='linear',\n",
              "                     random_state=1))])"
            ],
            "text/html": [
              "<style>#sk-container-id-10 {color: black;background-color: white;}#sk-container-id-10 pre{padding: 0;}#sk-container-id-10 div.sk-toggleable {background-color: white;}#sk-container-id-10 label.sk-toggleable__label {cursor: pointer;display: block;width: 100%;margin-bottom: 0;padding: 0.3em;box-sizing: border-box;text-align: center;}#sk-container-id-10 label.sk-toggleable__label-arrow:before {content: \"▸\";float: left;margin-right: 0.25em;color: #696969;}#sk-container-id-10 label.sk-toggleable__label-arrow:hover:before {color: black;}#sk-container-id-10 div.sk-estimator:hover label.sk-toggleable__label-arrow:before {color: black;}#sk-container-id-10 div.sk-toggleable__content {max-height: 0;max-width: 0;overflow: hidden;text-align: left;background-color: #f0f8ff;}#sk-container-id-10 div.sk-toggleable__content pre {margin: 0.2em;color: black;border-radius: 0.25em;background-color: #f0f8ff;}#sk-container-id-10 input.sk-toggleable__control:checked~div.sk-toggleable__content {max-height: 200px;max-width: 100%;overflow: auto;}#sk-container-id-10 input.sk-toggleable__control:checked~label.sk-toggleable__label-arrow:before {content: \"▾\";}#sk-container-id-10 div.sk-estimator input.sk-toggleable__control:checked~label.sk-toggleable__label {background-color: #d4ebff;}#sk-container-id-10 div.sk-label input.sk-toggleable__control:checked~label.sk-toggleable__label {background-color: #d4ebff;}#sk-container-id-10 input.sk-hidden--visually {border: 0;clip: rect(1px 1px 1px 1px);clip: rect(1px, 1px, 1px, 1px);height: 1px;margin: -1px;overflow: hidden;padding: 0;position: absolute;width: 1px;}#sk-container-id-10 div.sk-estimator {font-family: monospace;background-color: #f0f8ff;border: 1px dotted black;border-radius: 0.25em;box-sizing: border-box;margin-bottom: 0.5em;}#sk-container-id-10 div.sk-estimator:hover {background-color: #d4ebff;}#sk-container-id-10 div.sk-parallel-item::after {content: \"\";width: 100%;border-bottom: 1px solid gray;flex-grow: 1;}#sk-container-id-10 div.sk-label:hover label.sk-toggleable__label {background-color: #d4ebff;}#sk-container-id-10 div.sk-serial::before {content: \"\";position: absolute;border-left: 1px solid gray;box-sizing: border-box;top: 0;bottom: 0;left: 50%;z-index: 0;}#sk-container-id-10 div.sk-serial {display: flex;flex-direction: column;align-items: center;background-color: white;padding-right: 0.2em;padding-left: 0.2em;position: relative;}#sk-container-id-10 div.sk-item {position: relative;z-index: 1;}#sk-container-id-10 div.sk-parallel {display: flex;align-items: stretch;justify-content: center;background-color: white;position: relative;}#sk-container-id-10 div.sk-item::before, #sk-container-id-10 div.sk-parallel-item::before {content: \"\";position: absolute;border-left: 1px solid gray;box-sizing: border-box;top: 0;bottom: 0;left: 50%;z-index: -1;}#sk-container-id-10 div.sk-parallel-item {display: flex;flex-direction: column;z-index: 1;position: relative;background-color: white;}#sk-container-id-10 div.sk-parallel-item:first-child::after {align-self: flex-end;width: 50%;}#sk-container-id-10 div.sk-parallel-item:last-child::after {align-self: flex-start;width: 50%;}#sk-container-id-10 div.sk-parallel-item:only-child::after {width: 0;}#sk-container-id-10 div.sk-dashed-wrapped {border: 1px dashed gray;margin: 0 0.4em 0.5em 0.4em;box-sizing: border-box;padding-bottom: 0.4em;background-color: white;}#sk-container-id-10 div.sk-label label {font-family: monospace;font-weight: bold;display: inline-block;line-height: 1.2em;}#sk-container-id-10 div.sk-label-container {text-align: center;}#sk-container-id-10 div.sk-container {/* jupyter's `normalize.less` sets `[hidden] { display: none; }` but bootstrap.min.css set `[hidden] { display: none !important; }` so we also need the `!important` here to be able to override the default hidden behavior on the sphinx rendered scikit-learn.org. See: https://github.com/scikit-learn/scikit-learn/issues/21755 */display: inline-block !important;position: relative;}#sk-container-id-10 div.sk-text-repr-fallback {display: none;}</style><div id=\"sk-container-id-10\" class=\"sk-top-container\"><div class=\"sk-text-repr-fallback\"><pre>Pipeline(steps=[(&#x27;scaler&#x27;, StandardScaler()),\n",
              "                (&#x27;svd&#x27;, TruncatedSVD(n_components=500, random_state=1)),\n",
              "                (&#x27;svm&#x27;,\n",
              "                 SVC(C=0.1, class_weight=&#x27;balanced&#x27;, gamma=0.1, kernel=&#x27;linear&#x27;,\n",
              "                     random_state=1))])</pre><b>In a Jupyter environment, please rerun this cell to show the HTML representation or trust the notebook. <br />On GitHub, the HTML representation is unable to render, please try loading this page with nbviewer.org.</b></div><div class=\"sk-container\" hidden><div class=\"sk-item sk-dashed-wrapped\"><div class=\"sk-label-container\"><div class=\"sk-label sk-toggleable\"><input class=\"sk-toggleable__control sk-hidden--visually\" id=\"sk-estimator-id-38\" type=\"checkbox\" ><label for=\"sk-estimator-id-38\" class=\"sk-toggleable__label sk-toggleable__label-arrow\">Pipeline</label><div class=\"sk-toggleable__content\"><pre>Pipeline(steps=[(&#x27;scaler&#x27;, StandardScaler()),\n",
              "                (&#x27;svd&#x27;, TruncatedSVD(n_components=500, random_state=1)),\n",
              "                (&#x27;svm&#x27;,\n",
              "                 SVC(C=0.1, class_weight=&#x27;balanced&#x27;, gamma=0.1, kernel=&#x27;linear&#x27;,\n",
              "                     random_state=1))])</pre></div></div></div><div class=\"sk-serial\"><div class=\"sk-item\"><div class=\"sk-estimator sk-toggleable\"><input class=\"sk-toggleable__control sk-hidden--visually\" id=\"sk-estimator-id-39\" type=\"checkbox\" ><label for=\"sk-estimator-id-39\" class=\"sk-toggleable__label sk-toggleable__label-arrow\">StandardScaler</label><div class=\"sk-toggleable__content\"><pre>StandardScaler()</pre></div></div></div><div class=\"sk-item\"><div class=\"sk-estimator sk-toggleable\"><input class=\"sk-toggleable__control sk-hidden--visually\" id=\"sk-estimator-id-40\" type=\"checkbox\" ><label for=\"sk-estimator-id-40\" class=\"sk-toggleable__label sk-toggleable__label-arrow\">TruncatedSVD</label><div class=\"sk-toggleable__content\"><pre>TruncatedSVD(n_components=500, random_state=1)</pre></div></div></div><div class=\"sk-item\"><div class=\"sk-estimator sk-toggleable\"><input class=\"sk-toggleable__control sk-hidden--visually\" id=\"sk-estimator-id-41\" type=\"checkbox\" ><label for=\"sk-estimator-id-41\" class=\"sk-toggleable__label sk-toggleable__label-arrow\">SVC</label><div class=\"sk-toggleable__content\"><pre>SVC(C=0.1, class_weight=&#x27;balanced&#x27;, gamma=0.1, kernel=&#x27;linear&#x27;, random_state=1)</pre></div></div></div></div></div></div></div>"
            ]
          },
          "metadata": {},
          "execution_count": 43
        }
      ]
    },
    {
      "cell_type": "code",
      "source": [
        "metrics_report(tuned_svm, X_train_tf_idf, y_train, X_test_tf_idf, y_test, plot = True, ret = False)"
      ],
      "metadata": {
        "colab": {
          "base_uri": "https://localhost:8080/",
          "height": 939
        },
        "id": "ZO-BfNzRSzxD",
        "outputId": "71023bb3-3c4a-47d2-8a29-02334942c991"
      },
      "execution_count": 44,
      "outputs": [
        {
          "output_type": "stream",
          "name": "stdout",
          "text": [
            "accuracy on train = 99.844%\n",
            "accuracy on test = 90.210%\n",
            "\n",
            "\n",
            "precision(macro) on train = 0.9980\n",
            "precision(macro) on test = 0.8941\n",
            "\n",
            "\n",
            "recall(macro) on train = 0.9980\n",
            "recall(macro) on test = 0.8968\n",
            "\n",
            "\n",
            "f1(macro) on train = 0.9980\n",
            "f1(macro) on test = 0.8910\n",
            "\n",
            "\n"
          ]
        },
        {
          "output_type": "display_data",
          "data": {
            "text/plain": [
              "<Figure size 800x800 with 2 Axes>"
            ],
            "image/png": "[encoded data removed]"
          },
          "metadata": {}
        }
      ]
    },
    {
      "cell_type": "code",
      "source": [],
      "metadata": {
        "id": "G7cc4IUSS_Nw"
      },
      "execution_count": null,
      "outputs": []
    }
  ],
  "metadata": {
    "colab": {
      "provenance": []
    },
    "kernelspec": {
      "display_name": "Python 3",
      "name": "python3"
    },
    "language_info": {
      "name": "python"
    }
  },
  "nbformat": 4,
  "nbformat_minor": 0
}